{
  "nbformat": 4,
  "nbformat_minor": 0,
  "metadata": {
    "colab": {
      "provenance": []
    },
    "kernelspec": {
      "name": "python3",
      "display_name": "Python 3"
    },
    "language_info": {
      "name": "python"
    }
  },
  "cells": [
    {
      "cell_type": "code",
      "execution_count": null,
      "metadata": {
        "id": "3y2iiwyjipPo"
      },
      "outputs": [],
      "source": [
        "def is_even(num):\n",
        "  '''\n",
        "  used to find out whether a number is even\n",
        "  or odd , if even return even else\n",
        "  return odd else pagal hai kya\n",
        "  '''\n",
        "  if type(num)==int:\n",
        "    if num%2==0:\n",
        "      return 'even'\n",
        "    else:\n",
        "      return 'odd'\n",
        "  else:\n",
        "    return 'pagal hai kya'"
      ]
    },
    {
      "cell_type": "code",
      "source": [],
      "metadata": {
        "id": "xLRG4e2W8W3W"
      },
      "execution_count": null,
      "outputs": []
    },
    {
      "cell_type": "code",
      "source": [
        "for i in range(1,11):\n",
        "  print(is_even(i))"
      ],
      "metadata": {
        "colab": {
          "base_uri": "https://localhost:8080/"
        },
        "id": "Ik1K60ocmMMr",
        "outputId": "5a3b7723-7273-44d7-e9b6-5741e7402e89"
      },
      "execution_count": null,
      "outputs": [
        {
          "output_type": "stream",
          "name": "stdout",
          "text": [
            "odd\n",
            "even\n",
            "odd\n",
            "even\n",
            "odd\n",
            "even\n",
            "odd\n",
            "even\n",
            "odd\n",
            "even\n"
          ]
        }
      ]
    },
    {
      "cell_type": "code",
      "source": [
        "is_even(\"Rahul gandhi\")"
      ],
      "metadata": {
        "colab": {
          "base_uri": "https://localhost:8080/",
          "height": 36
        },
        "id": "0Oi4_zBsqm4l",
        "outputId": "77d0af14-0a78-43f3-fd3e-c3e75e897b7e"
      },
      "execution_count": null,
      "outputs": [
        {
          "output_type": "execute_result",
          "data": {
            "text/plain": [
              "'pagal hai kya'"
            ],
            "application/vnd.google.colaboratory.intrinsic+json": {
              "type": "string"
            }
          },
          "metadata": {},
          "execution_count": 3
        }
      ]
    },
    {
      "cell_type": "code",
      "source": [
        "#\"num\" while creating a function is parameter but what we send while calling a function i in this case is argument....In games difficulty level is parameter and easy medium hard is argument"
      ],
      "metadata": {
        "id": "kaoovNPOquhe"
      },
      "execution_count": null,
      "outputs": []
    },
    {
      "cell_type": "code",
      "source": [
        "#Brightness is parameter and range between 1 to 100 is argument"
      ],
      "metadata": {
        "id": "vtuLo7LJuBS9"
      },
      "execution_count": null,
      "outputs": []
    },
    {
      "cell_type": "code",
      "source": [
        "#Default argument\n",
        "def powerss(a,b):\n",
        "  return a**b\n",
        "powerss(2,2)"
      ],
      "metadata": {
        "colab": {
          "base_uri": "https://localhost:8080/"
        },
        "id": "leyzq0e0uR2A",
        "outputId": "72ce0d8b-223a-4766-a73e-be2d82e77cb7"
      },
      "execution_count": null,
      "outputs": [
        {
          "output_type": "execute_result",
          "data": {
            "text/plain": [
              "4"
            ]
          },
          "metadata": {},
          "execution_count": 4
        }
      ]
    },
    {
      "cell_type": "code",
      "source": [
        "powerss(2,3)"
      ],
      "metadata": {
        "colab": {
          "base_uri": "https://localhost:8080/"
        },
        "id": "kFrPE5IpxjD5",
        "outputId": "d9d492ca-8bc2-414c-a6ed-e323576c3c9c"
      },
      "execution_count": null,
      "outputs": [
        {
          "output_type": "execute_result",
          "data": {
            "text/plain": [
              "8"
            ]
          },
          "metadata": {},
          "execution_count": 5
        }
      ]
    },
    {
      "cell_type": "code",
      "source": [
        "powerss(2)\n",
        "#this would give error as we have sent only 1 argument while 2 parameters are present in the function hence to remove the error we use default arguments as shown below"
      ],
      "metadata": {
        "colab": {
          "base_uri": "https://localhost:8080/",
          "height": 165
        },
        "id": "tdiCyekvxnV3",
        "outputId": "6f7744b4-5e70-4d5f-c9cd-62364c9dfbcc"
      },
      "execution_count": null,
      "outputs": [
        {
          "output_type": "error",
          "ename": "TypeError",
          "evalue": "ignored",
          "traceback": [
            "\u001b[0;31m---------------------------------------------------------------------------\u001b[0m",
            "\u001b[0;31mTypeError\u001b[0m                                 Traceback (most recent call last)",
            "\u001b[0;32m<ipython-input-6-2c463d2c1572>\u001b[0m in \u001b[0;36m<cell line: 1>\u001b[0;34m()\u001b[0m\n\u001b[0;32m----> 1\u001b[0;31m \u001b[0mpowerss\u001b[0m\u001b[0;34m(\u001b[0m\u001b[0;36m2\u001b[0m\u001b[0;34m)\u001b[0m\u001b[0;34m\u001b[0m\u001b[0;34m\u001b[0m\u001b[0m\n\u001b[0m",
            "\u001b[0;31mTypeError\u001b[0m: powerss() missing 1 required positional argument: 'b'"
          ]
        }
      ]
    },
    {
      "cell_type": "code",
      "source": [
        "#Default arguments\n",
        "def powerss1(a=1,b=1):\n",
        "  return a**b\n",
        "powerss1()\n",
        "#as we can see here even if no arguments are passed we still won't get any error as a and b would then take default arguments a=1 and b=1\n",
        "#here (a=1,b=1) is called arguments as we have passed in values"
      ],
      "metadata": {
        "colab": {
          "base_uri": "https://localhost:8080/"
        },
        "id": "-OHyz-Z20k5K",
        "outputId": "e686bc76-355d-4213-873d-29f79d7b3cdb"
      },
      "execution_count": null,
      "outputs": [
        {
          "output_type": "execute_result",
          "data": {
            "text/plain": [
              "1"
            ]
          },
          "metadata": {},
          "execution_count": 7
        }
      ]
    },
    {
      "cell_type": "code",
      "source": [
        "powerss1(4)\n",
        "#b is taken as 1 here by default"
      ],
      "metadata": {
        "colab": {
          "base_uri": "https://localhost:8080/"
        },
        "id": "qCTqvaJJ4S2Z",
        "outputId": "53a3159b-f4d9-47da-ee18-4066fc3fdba6"
      },
      "execution_count": null,
      "outputs": [
        {
          "output_type": "execute_result",
          "data": {
            "text/plain": [
              "4"
            ]
          },
          "metadata": {},
          "execution_count": 8
        }
      ]
    },
    {
      "cell_type": "code",
      "source": [
        "powerss1(5,2)\n",
        "#this is also positional argument"
      ],
      "metadata": {
        "colab": {
          "base_uri": "https://localhost:8080/"
        },
        "id": "Om-Uem-t4XUt",
        "outputId": "fc5b7573-5eb7-40b9-a1e4-216f624c5d3d"
      },
      "execution_count": null,
      "outputs": [
        {
          "output_type": "execute_result",
          "data": {
            "text/plain": [
              "25"
            ]
          },
          "metadata": {},
          "execution_count": 9
        }
      ]
    },
    {
      "cell_type": "code",
      "source": [
        "powerss1(b=3,a=2)\n",
        "#this is keyword argument in which we can specifically put in names of parameters and pass in values without caring about respective positions"
      ],
      "metadata": {
        "colab": {
          "base_uri": "https://localhost:8080/"
        },
        "id": "KrnMSNc44gAi",
        "outputId": "fcf62ea3-aab8-4a01-abb4-12d13834a8a2"
      },
      "execution_count": null,
      "outputs": [
        {
          "output_type": "execute_result",
          "data": {
            "text/plain": [
              "8"
            ]
          },
          "metadata": {},
          "execution_count": 10
        }
      ]
    },
    {
      "cell_type": "code",
      "source": [
        "#*args and **kwargs are special python keywords that are used to pass varibale lengths of arguments to the function"
      ],
      "metadata": {
        "id": "1HF5RGF_NdZt"
      },
      "execution_count": null,
      "outputs": []
    },
    {
      "cell_type": "code",
      "source": [
        "#*args allows us to pass a variable number of non-keyword arguments to a function\n",
        "def mullu(*args):\n",
        "  product=1\n",
        "  print(args)\n",
        "  for i in args:\n",
        "    product=product*i\n",
        "  return product\n",
        "mullu(1,2,3,4,5,6,7,8,9)\n",
        "#* stores the variable number of non-keyword arguments in to tuples and helps us to perform any kind of operation on it\n",
        "#*args is used as parameter when we dont have any idea about the number of arguments that the user is going to send"
      ],
      "metadata": {
        "colab": {
          "base_uri": "https://localhost:8080/"
        },
        "id": "e3cgc0JdZjOk",
        "outputId": "f602b905-f2b8-4ae7-82af-5d27c9e05742"
      },
      "execution_count": null,
      "outputs": [
        {
          "output_type": "stream",
          "name": "stdout",
          "text": [
            "(1, 2, 3, 4, 5, 6, 7, 8, 9)\n"
          ]
        },
        {
          "output_type": "execute_result",
          "data": {
            "text/plain": [
              "362880"
            ]
          },
          "metadata": {},
          "execution_count": 11
        }
      ]
    },
    {
      "cell_type": "code",
      "source": [
        "is_even.__doc__#this is how we can get the document of functions"
      ],
      "metadata": {
        "colab": {
          "base_uri": "https://localhost:8080/",
          "height": 36
        },
        "id": "LmEsNNqLaMtc",
        "outputId": "2cdd2222-a257-4b9e-8ac2-d21920b7bdc6"
      },
      "execution_count": null,
      "outputs": [
        {
          "output_type": "execute_result",
          "data": {
            "text/plain": [
              "'\\n  used to find out whether a number is even\\n  or odd , if even return even else\\n  return odd else pagal hai kya\\n  '"
            ],
            "application/vnd.google.colaboratory.intrinsic+json": {
              "type": "string"
            }
          },
          "metadata": {},
          "execution_count": 12
        }
      ]
    },
    {
      "cell_type": "code",
      "source": [
        "print.__doc__"
      ],
      "metadata": {
        "colab": {
          "base_uri": "https://localhost:8080/",
          "height": 70
        },
        "id": "NHeZikuTfUxA",
        "outputId": "84108c05-774f-4309-aedb-db9cc2766f1a"
      },
      "execution_count": null,
      "outputs": [
        {
          "output_type": "execute_result",
          "data": {
            "text/plain": [
              "\"print(value, ..., sep=' ', end='\\\\n', file=sys.stdout, flush=False)\\n\\nPrints the values to a stream, or to sys.stdout by default.\\nOptional keyword arguments:\\nfile:  a file-like object (stream); defaults to the current sys.stdout.\\nsep:   string inserted between values, default a space.\\nend:   string appended after the last value, default a newline.\\nflush: whether to forcibly flush the stream.\""
            ],
            "application/vnd.google.colaboratory.intrinsic+json": {
              "type": "string"
            }
          },
          "metadata": {},
          "execution_count": 13
        }
      ]
    },
    {
      "cell_type": "code",
      "source": [
        "#**kwargs allows us to pass any number of keyword arguments\n",
        "#keyword arguments mean that they contain a key-value pair, like a python dictionary\n"
      ],
      "metadata": {
        "id": "TvCVMKLdoFIX"
      },
      "execution_count": null,
      "outputs": []
    },
    {
      "cell_type": "code",
      "source": [
        "def display(**kwargs):\n",
        "  for (key,value) in kwargs.items():\n",
        "    print(key,\"-->\",value)\n",
        "display(india=\"Sareya\",srilanka=\"colombo\",nepal=\"kathmandu\")"
      ],
      "metadata": {
        "colab": {
          "base_uri": "https://localhost:8080/"
        },
        "id": "oW1ADq4Cx_uD",
        "outputId": "4e95be20-00de-4753-90f8-60b2ad673303"
      },
      "execution_count": null,
      "outputs": [
        {
          "output_type": "stream",
          "name": "stdout",
          "text": [
            "india --> Sareya\n",
            "srilanka --> colombo\n",
            "nepal --> kathmandu\n"
          ]
        }
      ]
    },
    {
      "cell_type": "code",
      "source": [
        "#Order of argument matters (normal-->*args-->**kwargs)\n",
        "#args and kwargs are only convention, you can use any name of your choice\n"
      ],
      "metadata": {
        "id": "cYqyplonz-XF"
      },
      "execution_count": null,
      "outputs": []
    },
    {
      "cell_type": "code",
      "source": [
        "#The lifetime of a function is the time between the point it is called and it returns a value. The lifespan of the variables within function also lies between the time the function\n",
        "#is called and it returns a value\n",
        "#Global frame is that area in the memory where our program is getting executed\n",
        "#Function works as independent block in your memory(exists between time you called it and value is returned only till then the function block exists after which the variables within\n",
        "# also gets destroyed)\n",
        "#A programme executes in a memory block but a function within the same programme runs in a seperate memory block(which temporarily exists and then gets destroyed)"
      ],
      "metadata": {
        "id": "sMHv6seD8Y2g"
      },
      "execution_count": null,
      "outputs": []
    },
    {
      "cell_type": "code",
      "source": [
        "def is_even1(num):\n",
        "  if num%2==0:\n",
        "    print(\"even\")\n",
        "  else:\n",
        "    print(\"odd\")\n",
        "print(is_even1(7))\n",
        "#when return statement is not present then None is returned"
      ],
      "metadata": {
        "colab": {
          "base_uri": "https://localhost:8080/"
        },
        "id": "g8JEKR9PWqY5",
        "outputId": "5cec7f96-d389-4362-ce95-c46ad916e0ee"
      },
      "execution_count": null,
      "outputs": [
        {
          "output_type": "stream",
          "name": "stdout",
          "text": [
            "odd\n",
            "None\n"
          ]
        }
      ]
    },
    {
      "cell_type": "code",
      "source": [
        "#A lot of functions don't have a return statement for instance\n",
        "l=[1,2,3,4]\n",
        "print(l.append(5))"
      ],
      "metadata": {
        "colab": {
          "base_uri": "https://localhost:8080/"
        },
        "id": "oG57z0AYYyqL",
        "outputId": "7dffadc3-8024-485d-bddb-940adfda9a72"
      },
      "execution_count": null,
      "outputs": [
        {
          "output_type": "stream",
          "name": "stdout",
          "text": [
            "None\n"
          ]
        }
      ]
    },
    {
      "cell_type": "code",
      "source": [
        "def f(y):\n",
        "  x=1\n",
        "  x+=1\n",
        "  print(x)\n",
        "x=5\n",
        "f(x)\n",
        "print(x)\n",
        "#x=1 inside function is withi in the local scope and after the function call is over the variables within the function and seperate block alloted to the function gets destroyed\n",
        "#so x=2 doesnot get reflected outside the function. Hence while print(x) inside function prints 2 , print(x) in global scope would print 5"
      ],
      "metadata": {
        "colab": {
          "base_uri": "https://localhost:8080/"
        },
        "id": "MJB8Or0AcXGA",
        "outputId": "97b97571-bc10-4651-ce7c-9947bc048fe3"
      },
      "execution_count": null,
      "outputs": [
        {
          "output_type": "stream",
          "name": "stdout",
          "text": [
            "2\n",
            "5\n"
          ]
        }
      ]
    },
    {
      "cell_type": "code",
      "source": [
        "def f(y):\n",
        "  x+=1\n",
        "x=5\n",
        "f(x)\n",
        "print(x)\n",
        "#so as we can see from below if x is not present in the local scope, we search for it in the global scope, access it but if we want to change it it is not possible\n",
        "#we can use global variables from within the local scope but we cannot change the global variables within the local scope"
      ],
      "metadata": {
        "colab": {
          "base_uri": "https://localhost:8080/",
          "height": 339
        },
        "id": "tfAyf-CnSv4n",
        "outputId": "6f90ef35-9738-43d0-c9a7-826fe7f44350"
      },
      "execution_count": null,
      "outputs": [
        {
          "output_type": "error",
          "ename": "UnboundLocalError",
          "evalue": "ignored",
          "traceback": [
            "\u001b[0;31m---------------------------------------------------------------------------\u001b[0m",
            "\u001b[0;31mUnboundLocalError\u001b[0m                         Traceback (most recent call last)",
            "\u001b[0;32m<ipython-input-2-965b14e72964>\u001b[0m in \u001b[0;36m<cell line: 4>\u001b[0;34m()\u001b[0m\n\u001b[1;32m      2\u001b[0m   \u001b[0mx\u001b[0m\u001b[0;34m+=\u001b[0m\u001b[0;36m1\u001b[0m\u001b[0;34m\u001b[0m\u001b[0;34m\u001b[0m\u001b[0m\n\u001b[1;32m      3\u001b[0m \u001b[0mx\u001b[0m\u001b[0;34m=\u001b[0m\u001b[0;36m5\u001b[0m\u001b[0;34m\u001b[0m\u001b[0;34m\u001b[0m\u001b[0m\n\u001b[0;32m----> 4\u001b[0;31m \u001b[0mf\u001b[0m\u001b[0;34m(\u001b[0m\u001b[0mx\u001b[0m\u001b[0;34m)\u001b[0m\u001b[0;34m\u001b[0m\u001b[0;34m\u001b[0m\u001b[0m\n\u001b[0m\u001b[1;32m      5\u001b[0m \u001b[0mprint\u001b[0m\u001b[0;34m(\u001b[0m\u001b[0mx\u001b[0m\u001b[0;34m)\u001b[0m\u001b[0;34m\u001b[0m\u001b[0;34m\u001b[0m\u001b[0m\n",
            "\u001b[0;32m<ipython-input-2-965b14e72964>\u001b[0m in \u001b[0;36mf\u001b[0;34m(y)\u001b[0m\n\u001b[1;32m      1\u001b[0m \u001b[0;32mdef\u001b[0m \u001b[0mf\u001b[0m\u001b[0;34m(\u001b[0m\u001b[0my\u001b[0m\u001b[0;34m)\u001b[0m\u001b[0;34m:\u001b[0m\u001b[0;34m\u001b[0m\u001b[0;34m\u001b[0m\u001b[0m\n\u001b[0;32m----> 2\u001b[0;31m   \u001b[0mx\u001b[0m\u001b[0;34m+=\u001b[0m\u001b[0;36m1\u001b[0m\u001b[0;34m\u001b[0m\u001b[0;34m\u001b[0m\u001b[0m\n\u001b[0m\u001b[1;32m      3\u001b[0m \u001b[0mx\u001b[0m\u001b[0;34m=\u001b[0m\u001b[0;36m5\u001b[0m\u001b[0;34m\u001b[0m\u001b[0;34m\u001b[0m\u001b[0m\n\u001b[1;32m      4\u001b[0m \u001b[0mf\u001b[0m\u001b[0;34m(\u001b[0m\u001b[0mx\u001b[0m\u001b[0;34m)\u001b[0m\u001b[0;34m\u001b[0m\u001b[0;34m\u001b[0m\u001b[0m\n\u001b[1;32m      5\u001b[0m \u001b[0mprint\u001b[0m\u001b[0;34m(\u001b[0m\u001b[0mx\u001b[0m\u001b[0;34m)\u001b[0m\u001b[0;34m\u001b[0m\u001b[0;34m\u001b[0m\u001b[0m\n",
            "\u001b[0;31mUnboundLocalError\u001b[0m: local variable 'x' referenced before assignment"
          ]
        }
      ]
    },
    {
      "cell_type": "code",
      "source": [
        "def f(y):\n",
        "  print(x)\n",
        "x=5\n",
        "f(x)\n",
        "print(x)"
      ],
      "metadata": {
        "colab": {
          "base_uri": "https://localhost:8080/"
        },
        "id": "6CJxH9wRVR3m",
        "outputId": "d2992a4c-d3aa-4715-fb7e-6cc32dca1d3a"
      },
      "execution_count": null,
      "outputs": [
        {
          "output_type": "stream",
          "name": "stdout",
          "text": [
            "5\n",
            "5\n"
          ]
        }
      ]
    },
    {
      "cell_type": "code",
      "source": [
        "def f(y):\n",
        "  global x\n",
        "  x+=1\n",
        "x=5\n",
        "f(x)\n",
        "print(x)\n",
        "#As you can see when you use global x within the function, you can change the variable having global scope within the local scope"
      ],
      "metadata": {
        "colab": {
          "base_uri": "https://localhost:8080/"
        },
        "id": "ikdm1uZzcEDr",
        "outputId": "5d1368d7-c6b0-4528-9b66-10fd28c087e5"
      },
      "execution_count": null,
      "outputs": [
        {
          "output_type": "stream",
          "name": "stdout",
          "text": [
            "6\n"
          ]
        }
      ]
    },
    {
      "cell_type": "code",
      "source": [
        "def f():\n",
        "  def g():\n",
        "    print(\"Inside function g \")\n",
        "  print(\"Inside function f \")\n",
        "f()\n",
        "#when f() function is called then cursor gets to def f then to def g after which cursor immediately goes down to print function and prints \"Inside function f\""
      ],
      "metadata": {
        "colab": {
          "base_uri": "https://localhost:8080/"
        },
        "id": "gFTC4pTWg83E",
        "outputId": "874e819f-a17f-432e-c884-df00fe7ce6a9"
      },
      "execution_count": null,
      "outputs": [
        {
          "output_type": "stream",
          "name": "stdout",
          "text": [
            "Inside function f \n"
          ]
        }
      ]
    },
    {
      "cell_type": "code",
      "source": [
        "def f():\n",
        "  def g():\n",
        "    print(\"Inside function g \")\n",
        "  g()\n",
        "  print(\"Inside function f \")\n",
        "\n",
        "f()\n",
        "#cursor points at def f() then goes inside points at def g() then goes down straight way within same scope runs g() prints \"Inside function g\" then prints inside function f and out"
      ],
      "metadata": {
        "colab": {
          "base_uri": "https://localhost:8080/"
        },
        "id": "8iKeMcKElCol",
        "outputId": "d55d2294-bc9b-4169-c36f-5a62304c7570"
      },
      "execution_count": null,
      "outputs": [
        {
          "output_type": "stream",
          "name": "stdout",
          "text": [
            "Inside function g \n",
            "Inside function f \n"
          ]
        }
      ]
    },
    {
      "cell_type": "code",
      "source": [
        "def f():\n",
        "  def g():\n",
        "    print(\"Inside function g \")\n",
        "  print(\"Inside function f \")\n",
        "g()\n",
        "#as you can see, it is not possible to call the internal function from the main programme, the internal function can only be called from the outside function"
      ],
      "metadata": {
        "colab": {
          "base_uri": "https://localhost:8080/",
          "height": 200
        },
        "id": "HgfjkcuslgX6",
        "outputId": "7bfb2362-a61b-42ef-da4f-9a5d10c8c4c7"
      },
      "execution_count": null,
      "outputs": [
        {
          "output_type": "error",
          "ename": "NameError",
          "evalue": "ignored",
          "traceback": [
            "\u001b[0;31m---------------------------------------------------------------------------\u001b[0m",
            "\u001b[0;31mNameError\u001b[0m                                 Traceback (most recent call last)",
            "\u001b[0;32m<ipython-input-7-7a211b707560>\u001b[0m in \u001b[0;36m<cell line: 5>\u001b[0;34m()\u001b[0m\n\u001b[1;32m      3\u001b[0m     \u001b[0mprint\u001b[0m\u001b[0;34m(\u001b[0m\u001b[0;34m\"Inside function g \"\u001b[0m\u001b[0;34m)\u001b[0m\u001b[0;34m\u001b[0m\u001b[0;34m\u001b[0m\u001b[0m\n\u001b[1;32m      4\u001b[0m   \u001b[0mprint\u001b[0m\u001b[0;34m(\u001b[0m\u001b[0;34m\"Inside function f \"\u001b[0m\u001b[0;34m)\u001b[0m\u001b[0;34m\u001b[0m\u001b[0;34m\u001b[0m\u001b[0m\n\u001b[0;32m----> 5\u001b[0;31m \u001b[0mg\u001b[0m\u001b[0;34m(\u001b[0m\u001b[0;34m)\u001b[0m\u001b[0;34m\u001b[0m\u001b[0;34m\u001b[0m\u001b[0m\n\u001b[0m",
            "\u001b[0;31mNameError\u001b[0m: name 'g' is not defined"
          ]
        }
      ]
    },
    {
      "cell_type": "code",
      "source": [
        "def f():\n",
        "  def g():\n",
        "    print(\"Inside function g \")\n",
        "    f()\n",
        "  g()\n",
        "  print(\"Inside function f \")\n",
        "f()\n",
        "#this will lead to an infinite loop as f() function is called first, when def g() is encountered it straight away goes down where it meets g() now g() function is called, now\n",
        "#inside function g gets printed and then f() is called which calls g() and the same process is then repeated"
      ],
      "metadata": {
        "colab": {
          "base_uri": "https://localhost:8080/",
          "height": 1000
        },
        "id": "K5Kni_e8pQX3",
        "outputId": "f404cbbf-3189-4cd0-ca8d-e1fa655b695f"
      },
      "execution_count": null,
      "outputs": [
        {
          "output_type": "stream",
          "name": "stdout",
          "text": [
            "Inside function g \n",
            "Inside function g \n",
            "Inside function g \n",
            "Inside function g \n",
            "Inside function g \n",
            "Inside function g \n",
            "Inside function g \n",
            "Inside function g \n",
            "Inside function g \n",
            "Inside function g \n",
            "Inside function g \n",
            "Inside function g \n",
            "Inside function g \n",
            "Inside function g \n",
            "Inside function g \n",
            "Inside function g \n",
            "Inside function g \n",
            "Inside function g \n",
            "Inside function g \n",
            "Inside function g \n",
            "Inside function g \n",
            "Inside function g \n",
            "Inside function g \n",
            "Inside function g \n",
            "Inside function g \n",
            "Inside function g \n",
            "Inside function g \n",
            "Inside function g \n",
            "Inside function g \n",
            "Inside function g \n",
            "Inside function g \n",
            "Inside function g \n",
            "Inside function g \n",
            "Inside function g \n",
            "Inside function g \n",
            "Inside function g \n",
            "Inside function g \n",
            "Inside function g \n",
            "Inside function g \n",
            "Inside function g \n",
            "Inside function g \n",
            "Inside function g \n",
            "Inside function g \n",
            "Inside function g \n",
            "Inside function g \n",
            "Inside function g \n",
            "Inside function g \n",
            "Inside function g \n",
            "Inside function g \n",
            "Inside function g \n",
            "Inside function g \n",
            "Inside function g \n",
            "Inside function g \n",
            "Inside function g \n",
            "Inside function g \n",
            "Inside function g \n",
            "Inside function g \n",
            "Inside function g \n",
            "Inside function g \n",
            "Inside function g \n",
            "Inside function g \n",
            "Inside function g \n",
            "Inside function g \n",
            "Inside function g \n",
            "Inside function g \n",
            "Inside function g \n",
            "Inside function g \n",
            "Inside function g \n",
            "Inside function g \n",
            "Inside function g \n",
            "Inside function g \n",
            "Inside function g \n",
            "Inside function g \n",
            "Inside function g \n",
            "Inside function g \n",
            "Inside function g \n",
            "Inside function g \n",
            "Inside function g \n",
            "Inside function g \n",
            "Inside function g \n",
            "Inside function g \n",
            "Inside function g \n",
            "Inside function g \n",
            "Inside function g \n",
            "Inside function g \n",
            "Inside function g \n",
            "Inside function g \n",
            "Inside function g \n",
            "Inside function g \n",
            "Inside function g \n",
            "Inside function g \n",
            "Inside function g \n",
            "Inside function g \n",
            "Inside function g \n",
            "Inside function g \n",
            "Inside function g \n",
            "Inside function g \n",
            "Inside function g \n",
            "Inside function g \n",
            "Inside function g \n",
            "Inside function g \n",
            "Inside function g \n",
            "Inside function g \n",
            "Inside function g \n",
            "Inside function g \n",
            "Inside function g \n",
            "Inside function g \n",
            "Inside function g \n",
            "Inside function g \n",
            "Inside function g \n",
            "Inside function g \n",
            "Inside function g \n",
            "Inside function g \n",
            "Inside function g \n",
            "Inside function g \n",
            "Inside function g \n",
            "Inside function g \n",
            "Inside function g \n",
            "Inside function g \n",
            "Inside function g \n",
            "Inside function g \n",
            "Inside function g \n",
            "Inside function g \n",
            "Inside function g \n",
            "Inside function g \n",
            "Inside function g \n",
            "Inside function g \n",
            "Inside function g \n",
            "Inside function g \n",
            "Inside function g \n",
            "Inside function g \n",
            "Inside function g \n",
            "Inside function g \n",
            "Inside function g \n",
            "Inside function g \n",
            "Inside function g \n",
            "Inside function g \n",
            "Inside function g \n",
            "Inside function g \n",
            "Inside function g \n",
            "Inside function g \n",
            "Inside function g \n",
            "Inside function g \n",
            "Inside function g \n",
            "Inside function g \n",
            "Inside function g \n",
            "Inside function g \n",
            "Inside function g \n",
            "Inside function g \n",
            "Inside function g \n",
            "Inside function g \n",
            "Inside function g \n",
            "Inside function g \n",
            "Inside function g \n",
            "Inside function g \n",
            "Inside function g \n",
            "Inside function g \n",
            "Inside function g \n",
            "Inside function g \n",
            "Inside function g \n",
            "Inside function g \n",
            "Inside function g \n",
            "Inside function g \n",
            "Inside function g \n",
            "Inside function g \n",
            "Inside function g \n",
            "Inside function g \n",
            "Inside function g \n",
            "Inside function g \n",
            "Inside function g \n",
            "Inside function g \n",
            "Inside function g \n",
            "Inside function g \n",
            "Inside function g \n",
            "Inside function g \n",
            "Inside function g \n",
            "Inside function g \n",
            "Inside function g \n",
            "Inside function g \n",
            "Inside function g \n",
            "Inside function g \n",
            "Inside function g \n",
            "Inside function g \n",
            "Inside function g \n",
            "Inside function g \n",
            "Inside function g \n",
            "Inside function g \n",
            "Inside function g \n",
            "Inside function g \n",
            "Inside function g \n",
            "Inside function g \n",
            "Inside function g \n",
            "Inside function g \n",
            "Inside function g \n",
            "Inside function g \n",
            "Inside function g \n",
            "Inside function g \n",
            "Inside function g \n",
            "Inside function g \n",
            "Inside function g \n",
            "Inside function g \n",
            "Inside function g \n",
            "Inside function g \n",
            "Inside function g \n",
            "Inside function g \n",
            "Inside function g \n",
            "Inside function g \n",
            "Inside function g \n",
            "Inside function g \n",
            "Inside function g \n",
            "Inside function g \n",
            "Inside function g \n",
            "Inside function g \n",
            "Inside function g \n",
            "Inside function g \n",
            "Inside function g \n",
            "Inside function g \n",
            "Inside function g \n",
            "Inside function g \n",
            "Inside function g \n",
            "Inside function g \n",
            "Inside function g \n",
            "Inside function g \n",
            "Inside function g \n",
            "Inside function g \n",
            "Inside function g \n",
            "Inside function g \n",
            "Inside function g \n",
            "Inside function g \n",
            "Inside function g \n",
            "Inside function g \n",
            "Inside function g \n",
            "Inside function g \n",
            "Inside function g \n",
            "Inside function g \n",
            "Inside function g \n",
            "Inside function g \n",
            "Inside function g \n",
            "Inside function g \n",
            "Inside function g \n",
            "Inside function g \n",
            "Inside function g \n",
            "Inside function g \n",
            "Inside function g \n",
            "Inside function g \n",
            "Inside function g \n",
            "Inside function g \n",
            "Inside function g \n",
            "Inside function g \n",
            "Inside function g \n",
            "Inside function g \n",
            "Inside function g \n",
            "Inside function g \n",
            "Inside function g \n",
            "Inside function g \n",
            "Inside function g \n",
            "Inside function g \n",
            "Inside function g \n",
            "Inside function g \n",
            "Inside function g \n",
            "Inside function g \n",
            "Inside function g \n",
            "Inside function g \n",
            "Inside function g \n",
            "Inside function g \n",
            "Inside function g \n",
            "Inside function g \n",
            "Inside function g \n",
            "Inside function g \n",
            "Inside function g \n",
            "Inside function g \n",
            "Inside function g \n",
            "Inside function g \n",
            "Inside function g \n",
            "Inside function g \n",
            "Inside function g \n",
            "Inside function g \n",
            "Inside function g \n",
            "Inside function g \n",
            "Inside function g \n",
            "Inside function g \n",
            "Inside function g \n",
            "Inside function g \n",
            "Inside function g \n",
            "Inside function g \n",
            "Inside function g \n",
            "Inside function g \n",
            "Inside function g \n",
            "Inside function g \n",
            "Inside function g \n",
            "Inside function g \n",
            "Inside function g \n",
            "Inside function g \n",
            "Inside function g \n",
            "Inside function g \n",
            "Inside function g \n",
            "Inside function g \n",
            "Inside function g \n",
            "Inside function g \n",
            "Inside function g \n",
            "Inside function g \n",
            "Inside function g \n",
            "Inside function g \n",
            "Inside function g \n",
            "Inside function g \n",
            "Inside function g \n",
            "Inside function g \n",
            "Inside function g \n",
            "Inside function g \n",
            "Inside function g \n",
            "Inside function g \n",
            "Inside function g \n",
            "Inside function g \n",
            "Inside function g \n",
            "Inside function g \n",
            "Inside function g \n",
            "Inside function g \n",
            "Inside function g \n",
            "Inside function g \n",
            "Inside function g \n",
            "Inside function g \n",
            "Inside function g \n",
            "Inside function g \n",
            "Inside function g \n",
            "Inside function g \n",
            "Inside function g \n",
            "Inside function g \n",
            "Inside function g \n",
            "Inside function g \n",
            "Inside function g \n",
            "Inside function g \n",
            "Inside function g \n",
            "Inside function g \n",
            "Inside function g \n",
            "Inside function g \n",
            "Inside function g \n",
            "Inside function g \n",
            "Inside function g \n",
            "Inside function g \n",
            "Inside function g \n",
            "Inside function g \n",
            "Inside function g \n",
            "Inside function g \n",
            "Inside function g \n",
            "Inside function g \n",
            "Inside function g \n",
            "Inside function g \n",
            "Inside function g \n",
            "Inside function g \n",
            "Inside function g \n",
            "Inside function g \n",
            "Inside function g \n",
            "Inside function g \n",
            "Inside function g \n",
            "Inside function g \n",
            "Inside function g \n",
            "Inside function g \n",
            "Inside function g \n",
            "Inside function g \n",
            "Inside function g \n",
            "Inside function g \n",
            "Inside function g \n",
            "Inside function g \n",
            "Inside function g \n",
            "Inside function g \n",
            "Inside function g \n",
            "Inside function g \n",
            "Inside function g \n",
            "Inside function g \n",
            "Inside function g \n",
            "Inside function g \n",
            "Inside function g \n",
            "Inside function g \n",
            "Inside function g \n",
            "Inside function g \n",
            "Inside function g \n",
            "Inside function g \n",
            "Inside function g \n",
            "Inside function g \n",
            "Inside function g \n",
            "Inside function g \n",
            "Inside function g \n",
            "Inside function g \n",
            "Inside function g \n",
            "Inside function g \n",
            "Inside function g \n",
            "Inside function g \n",
            "Inside function g \n",
            "Inside function g \n",
            "Inside function g \n",
            "Inside function g \n",
            "Inside function g \n",
            "Inside function g \n",
            "Inside function g \n",
            "Inside function g \n",
            "Inside function g \n",
            "Inside function g \n",
            "Inside function g \n",
            "Inside function g \n",
            "Inside function g \n",
            "Inside function g \n",
            "Inside function g \n",
            "Inside function g \n",
            "Inside function g \n",
            "Inside function g \n",
            "Inside function g \n",
            "Inside function g \n",
            "Inside function g \n",
            "Inside function g \n",
            "Inside function g \n",
            "Inside function g \n",
            "Inside function g \n",
            "Inside function g \n",
            "Inside function g \n",
            "Inside function g \n",
            "Inside function g \n",
            "Inside function g \n",
            "Inside function g \n",
            "Inside function g \n",
            "Inside function g \n",
            "Inside function g \n",
            "Inside function g \n",
            "Inside function g \n",
            "Inside function g \n",
            "Inside function g \n",
            "Inside function g \n",
            "Inside function g \n",
            "Inside function g \n",
            "Inside function g \n",
            "Inside function g \n",
            "Inside function g \n",
            "Inside function g \n",
            "Inside function g \n",
            "Inside function g \n",
            "Inside function g \n",
            "Inside function g \n",
            "Inside function g \n",
            "Inside function g \n",
            "Inside function g \n",
            "Inside function g \n",
            "Inside function g \n",
            "Inside function g \n",
            "Inside function g \n",
            "Inside function g \n",
            "Inside function g \n",
            "Inside function g \n",
            "Inside function g \n",
            "Inside function g \n",
            "Inside function g \n",
            "Inside function g \n",
            "Inside function g \n",
            "Inside function g \n",
            "Inside function g \n",
            "Inside function g \n",
            "Inside function g \n",
            "Inside function g \n",
            "Inside function g \n",
            "Inside function g \n",
            "Inside function g \n",
            "Inside function g \n",
            "Inside function g \n",
            "Inside function g \n",
            "Inside function g \n",
            "Inside function g \n",
            "Inside function g \n",
            "Inside function g \n",
            "Inside function g \n",
            "Inside function g \n",
            "Inside function g \n",
            "Inside function g \n",
            "Inside function g \n",
            "Inside function g \n",
            "Inside function g \n",
            "Inside function g \n",
            "Inside function g \n",
            "Inside function g \n",
            "Inside function g \n"
          ]
        },
        {
          "output_type": "error",
          "ename": "RecursionError",
          "evalue": "ignored",
          "traceback": [
            "\u001b[0;31m---------------------------------------------------------------------------\u001b[0m",
            "\u001b[0;31mRecursionError\u001b[0m                            Traceback (most recent call last)",
            "\u001b[0;32m<ipython-input-9-3bfa8e475221>\u001b[0m in \u001b[0;36m<cell line: 7>\u001b[0;34m()\u001b[0m\n\u001b[1;32m      5\u001b[0m   \u001b[0mg\u001b[0m\u001b[0;34m(\u001b[0m\u001b[0;34m)\u001b[0m\u001b[0;34m\u001b[0m\u001b[0;34m\u001b[0m\u001b[0m\n\u001b[1;32m      6\u001b[0m   \u001b[0mprint\u001b[0m\u001b[0;34m(\u001b[0m\u001b[0;34m\"Inside function f \"\u001b[0m\u001b[0;34m)\u001b[0m\u001b[0;34m\u001b[0m\u001b[0;34m\u001b[0m\u001b[0m\n\u001b[0;32m----> 7\u001b[0;31m \u001b[0mf\u001b[0m\u001b[0;34m(\u001b[0m\u001b[0;34m)\u001b[0m\u001b[0;34m\u001b[0m\u001b[0;34m\u001b[0m\u001b[0m\n\u001b[0m",
            "\u001b[0;32m<ipython-input-9-3bfa8e475221>\u001b[0m in \u001b[0;36mf\u001b[0;34m()\u001b[0m\n\u001b[1;32m      3\u001b[0m     \u001b[0mprint\u001b[0m\u001b[0;34m(\u001b[0m\u001b[0;34m\"Inside function g \"\u001b[0m\u001b[0;34m)\u001b[0m\u001b[0;34m\u001b[0m\u001b[0;34m\u001b[0m\u001b[0m\n\u001b[1;32m      4\u001b[0m     \u001b[0mf\u001b[0m\u001b[0;34m(\u001b[0m\u001b[0;34m)\u001b[0m\u001b[0;34m\u001b[0m\u001b[0;34m\u001b[0m\u001b[0m\n\u001b[0;32m----> 5\u001b[0;31m   \u001b[0mg\u001b[0m\u001b[0;34m(\u001b[0m\u001b[0;34m)\u001b[0m\u001b[0;34m\u001b[0m\u001b[0;34m\u001b[0m\u001b[0m\n\u001b[0m\u001b[1;32m      6\u001b[0m   \u001b[0mprint\u001b[0m\u001b[0;34m(\u001b[0m\u001b[0;34m\"Inside function f \"\u001b[0m\u001b[0;34m)\u001b[0m\u001b[0;34m\u001b[0m\u001b[0;34m\u001b[0m\u001b[0m\n\u001b[1;32m      7\u001b[0m \u001b[0mf\u001b[0m\u001b[0;34m(\u001b[0m\u001b[0;34m)\u001b[0m\u001b[0;34m\u001b[0m\u001b[0;34m\u001b[0m\u001b[0m\n",
            "\u001b[0;32m<ipython-input-9-3bfa8e475221>\u001b[0m in \u001b[0;36mg\u001b[0;34m()\u001b[0m\n\u001b[1;32m      2\u001b[0m   \u001b[0;32mdef\u001b[0m \u001b[0mg\u001b[0m\u001b[0;34m(\u001b[0m\u001b[0;34m)\u001b[0m\u001b[0;34m:\u001b[0m\u001b[0;34m\u001b[0m\u001b[0;34m\u001b[0m\u001b[0m\n\u001b[1;32m      3\u001b[0m     \u001b[0mprint\u001b[0m\u001b[0;34m(\u001b[0m\u001b[0;34m\"Inside function g \"\u001b[0m\u001b[0;34m)\u001b[0m\u001b[0;34m\u001b[0m\u001b[0;34m\u001b[0m\u001b[0m\n\u001b[0;32m----> 4\u001b[0;31m     \u001b[0mf\u001b[0m\u001b[0;34m(\u001b[0m\u001b[0;34m)\u001b[0m\u001b[0;34m\u001b[0m\u001b[0;34m\u001b[0m\u001b[0m\n\u001b[0m\u001b[1;32m      5\u001b[0m   \u001b[0mg\u001b[0m\u001b[0;34m(\u001b[0m\u001b[0;34m)\u001b[0m\u001b[0;34m\u001b[0m\u001b[0;34m\u001b[0m\u001b[0m\n\u001b[1;32m      6\u001b[0m   \u001b[0mprint\u001b[0m\u001b[0;34m(\u001b[0m\u001b[0;34m\"Inside function f \"\u001b[0m\u001b[0;34m)\u001b[0m\u001b[0;34m\u001b[0m\u001b[0;34m\u001b[0m\u001b[0m\n",
            "... last 2 frames repeated, from the frame below ...\n",
            "\u001b[0;32m<ipython-input-9-3bfa8e475221>\u001b[0m in \u001b[0;36mf\u001b[0;34m()\u001b[0m\n\u001b[1;32m      3\u001b[0m     \u001b[0mprint\u001b[0m\u001b[0;34m(\u001b[0m\u001b[0;34m\"Inside function g \"\u001b[0m\u001b[0;34m)\u001b[0m\u001b[0;34m\u001b[0m\u001b[0;34m\u001b[0m\u001b[0m\n\u001b[1;32m      4\u001b[0m     \u001b[0mf\u001b[0m\u001b[0;34m(\u001b[0m\u001b[0;34m)\u001b[0m\u001b[0;34m\u001b[0m\u001b[0;34m\u001b[0m\u001b[0m\n\u001b[0;32m----> 5\u001b[0;31m   \u001b[0mg\u001b[0m\u001b[0;34m(\u001b[0m\u001b[0;34m)\u001b[0m\u001b[0;34m\u001b[0m\u001b[0;34m\u001b[0m\u001b[0m\n\u001b[0m\u001b[1;32m      6\u001b[0m   \u001b[0mprint\u001b[0m\u001b[0;34m(\u001b[0m\u001b[0;34m\"Inside function f \"\u001b[0m\u001b[0;34m)\u001b[0m\u001b[0;34m\u001b[0m\u001b[0;34m\u001b[0m\u001b[0m\n\u001b[1;32m      7\u001b[0m \u001b[0mf\u001b[0m\u001b[0;34m(\u001b[0m\u001b[0;34m)\u001b[0m\u001b[0;34m\u001b[0m\u001b[0;34m\u001b[0m\u001b[0m\n",
            "\u001b[0;31mRecursionError\u001b[0m: maximum recursion depth exceeded"
          ]
        }
      ]
    },
    {
      "cell_type": "code",
      "source": [
        "def g(x):\n",
        "  def h(x):\n",
        "    x=x+1\n",
        "    print(\"in h(x) x=\",x)\n",
        "  x=x+1\n",
        "  print(\"in g(x) x=\",x)\n",
        "  h(x)\n",
        "  return x\n",
        "x=3\n",
        "z=g(x)\n",
        "print(\"in main programe scope x=\",x)\n",
        "print(\"in the main programme z=\",z)\n",
        "#when g(x) is called we go inside g(x) and as soon as def is encountered we go down straight to next element within scope at x=x+1 and print x which is 4 then h(x) is called\n",
        "#x is passed here as argument and x is increased by x+1 and then printed 5, now the seperate memory bloack involving h(x) gets destroyed and lastly x of h(x) which is 4 is returned\n",
        "#so value of z now becomes 4, and sepearate memory block corresponding to g(x) now gets destroyed , so when we print x in the main programme we still get 3 and z=4\n",
        "#4,5,3,4"
      ],
      "metadata": {
        "id": "PtaWoRdJzVe_",
        "colab": {
          "base_uri": "https://localhost:8080/"
        },
        "outputId": "b3b6cd62-8c07-41bf-ca10-4e977743e991"
      },
      "execution_count": null,
      "outputs": [
        {
          "output_type": "stream",
          "name": "stdout",
          "text": [
            "in g(x) x= 4\n",
            "in h(x) x= 5\n",
            "in main programe scope x= 3\n",
            "in the main programme z= 4\n"
          ]
        }
      ]
    },
    {
      "cell_type": "code",
      "source": [
        "#Functions are first class citizens in python meaning that functions are treated as regular objects and can be manipulated in the same way as other datatypes, such as integers,\n",
        "#strings or lists.\n",
        "#Firstly you can assign function to variables just like you do with other data types.This allows you to use the variable as reference to the function and call it using that variable\n",
        "#Assigning a function to a variable and using the variable as a reference to the function means you can store the function in a variable and can call function using variable name.\n",
        "#when you assign function to a variable, you are not calling the function, instead you are creating reference to that function. The variable now points to function object and you can use\n",
        "#it to call function just as you would use to call original function name\n",
        "# Define a simple function\n",
        "def greet(name):\n",
        "    return f\"Hello, {name}!\"\n",
        "\n",
        "# Assign the function to a variable\n",
        "my_function = greet\n",
        "\n",
        "# Use the variable to call the function\n",
        "result = my_function(\"Alice\")\n",
        "print(result)  # Output: Hello, Alice!\n"
      ],
      "metadata": {
        "colab": {
          "base_uri": "https://localhost:8080/"
        },
        "id": "Sp6xzzhdXKw8",
        "outputId": "c39e2720-0f22-44f7-fa42-c892333aa518"
      },
      "execution_count": null,
      "outputs": [
        {
          "output_type": "stream",
          "name": "stdout",
          "text": [
            "Hello, Alice!\n"
          ]
        }
      ]
    },
    {
      "cell_type": "code",
      "source": [
        "# Decorator function\n",
        "def my_decorator(original_function):\n",
        "    def wrapper(*args, **kwargs):\n",
        "        print(\"Something is happening before the function is called.\")\n",
        "        result = original_function(*args, **kwargs)\n",
        "        print(\"Something is happening after the function is called.\")\n",
        "        return result\n",
        "    return wrapper\n",
        "\n",
        "# Function with decorator\n",
        "@my_decorator\n",
        "def say_hello(name):\n",
        "    print(f\"Hello, {name}!\")\n",
        "\n",
        "# Calling the decorated function\n",
        "say_hello(\"Alice\")\n"
      ],
      "metadata": {
        "colab": {
          "base_uri": "https://localhost:8080/"
        },
        "id": "cSRKMa4XFZdh",
        "outputId": "1759c372-a7b0-40ed-99bb-67cdf5613a2e"
      },
      "execution_count": null,
      "outputs": [
        {
          "output_type": "stream",
          "name": "stdout",
          "text": [
            "Something is happening before the function is called.\n",
            "Hello, Alice!\n",
            "Something is happening after the function is called.\n"
          ]
        }
      ]
    },
    {
      "cell_type": "code",
      "source": [
        "#Similarly function can also be used as arguments to other functions\n",
        "def square(x):\n",
        "  return x**2\n",
        "def my_func(func,x):\n",
        "  return func(x)\n",
        "dhodho=my_func(square,3)\n",
        "print(dhodho)\n"
      ],
      "metadata": {
        "colab": {
          "base_uri": "https://localhost:8080/"
        },
        "id": "H4jiRxBpUtHw",
        "outputId": "33bfde13-b60b-47ce-f6b2-a19da0618925"
      },
      "execution_count": null,
      "outputs": [
        {
          "output_type": "stream",
          "name": "stdout",
          "text": [
            "9\n"
          ]
        }
      ]
    },
    {
      "cell_type": "code",
      "source": [
        "#Function can also be the return value of another function\n",
        "def onefactor(x):\n",
        "  def factor2(y):\n",
        "    return x*y\n",
        "  return factor2\n",
        "amu=onefactor(3)\n",
        "amu1=amu(2)\n",
        "print(amu1)"
      ],
      "metadata": {
        "colab": {
          "base_uri": "https://localhost:8080/"
        },
        "id": "UP_zVmZIW0TW",
        "outputId": "ee942c3a-09bb-4f11-cf17-8b6568cb46c7"
      },
      "execution_count": null,
      "outputs": [
        {
          "output_type": "stream",
          "name": "stdout",
          "text": [
            "6\n"
          ]
        }
      ]
    },
    {
      "cell_type": "code",
      "source": [
        "#functions can also be held as elements of data structures(list,set,dictionaries,tuples)\n",
        "def square(x):\n",
        "  return x**2\n",
        "def onefactor(x):\n",
        "  def factor2(y):\n",
        "    return x*y\n",
        "  return factor2\n",
        "double=onefactor(2)\n",
        "amu=double(3)\n",
        "list1=[square,double]\n",
        "print(list1[0](3))"
      ],
      "metadata": {
        "colab": {
          "base_uri": "https://localhost:8080/"
        },
        "id": "gfqrwBqeaQyF",
        "outputId": "a0929081-0b11-4f5e-d1bc-8346d1db32c0"
      },
      "execution_count": null,
      "outputs": [
        {
          "output_type": "stream",
          "name": "stdout",
          "text": [
            "9\n"
          ]
        }
      ]
    },
    {
      "cell_type": "code",
      "source": [
        "def square(num):\n",
        "  return num**2\n",
        "type(square)"
      ],
      "metadata": {
        "colab": {
          "base_uri": "https://localhost:8080/"
        },
        "id": "OnmSD47wcRtQ",
        "outputId": "91abd218-831c-468b-e838-cd50ee60f505"
      },
      "execution_count": null,
      "outputs": [
        {
          "output_type": "execute_result",
          "data": {
            "text/plain": [
              "function"
            ]
          },
          "metadata": {},
          "execution_count": 7
        }
      ]
    },
    {
      "cell_type": "code",
      "source": [
        "a=square(3)\n",
        "type(a)"
      ],
      "metadata": {
        "colab": {
          "base_uri": "https://localhost:8080/"
        },
        "id": "ijKKxBoWhvkw",
        "outputId": "5d0d2758-6746-45d2-a726-4a9e7dc0a64e"
      },
      "execution_count": null,
      "outputs": [
        {
          "output_type": "execute_result",
          "data": {
            "text/plain": [
              "int"
            ]
          },
          "metadata": {},
          "execution_count": 8
        }
      ]
    },
    {
      "cell_type": "code",
      "source": [
        "a=square\n",
        "type(a)"
      ],
      "metadata": {
        "colab": {
          "base_uri": "https://localhost:8080/"
        },
        "id": "t0LfEg94h0Gt",
        "outputId": "595bb973-c0cb-40ce-ea53-d6b8c7655f48"
      },
      "execution_count": null,
      "outputs": [
        {
          "output_type": "execute_result",
          "data": {
            "text/plain": [
              "function"
            ]
          },
          "metadata": {},
          "execution_count": 9
        }
      ]
    },
    {
      "cell_type": "code",
      "source": [
        "id(a)"
      ],
      "metadata": {
        "colab": {
          "base_uri": "https://localhost:8080/"
        },
        "id": "2bVTyZ1Qh3sa",
        "outputId": "bb15805b-3f7f-4f05-d333-82f901820546"
      },
      "execution_count": null,
      "outputs": [
        {
          "output_type": "execute_result",
          "data": {
            "text/plain": [
              "134169129971008"
            ]
          },
          "metadata": {},
          "execution_count": 10
        }
      ]
    },
    {
      "cell_type": "code",
      "source": [
        "id(square)#so doing id=square transfers actual location of function to variable a"
      ],
      "metadata": {
        "colab": {
          "base_uri": "https://localhost:8080/"
        },
        "id": "mi06uiv3h61r",
        "outputId": "68b788ae-282f-4801-d7a2-4b68ce463346"
      },
      "execution_count": null,
      "outputs": [
        {
          "output_type": "execute_result",
          "data": {
            "text/plain": [
              "134169129971008"
            ]
          },
          "metadata": {},
          "execution_count": 11
        }
      ]
    },
    {
      "cell_type": "code",
      "source": [
        "def square(x):\n",
        "  return x**2\n",
        "a=square\n",
        "print(a(3))"
      ],
      "metadata": {
        "colab": {
          "base_uri": "https://localhost:8080/"
        },
        "id": "nPwZqQx-iKCF",
        "outputId": "3efb9f29-e479-44c1-a9e7-7329cfe1e642"
      },
      "execution_count": null,
      "outputs": [
        {
          "output_type": "stream",
          "name": "stdout",
          "text": [
            "9\n"
          ]
        }
      ]
    },
    {
      "cell_type": "code",
      "source": [
        "a=2\n",
        "b=a\n",
        "print(b)\n",
        "#As you can see here function is behaving exactly like a datatype"
      ],
      "metadata": {
        "colab": {
          "base_uri": "https://localhost:8080/"
        },
        "id": "akhBkSwnkyI-",
        "outputId": "bf205cf3-548c-48af-f73b-1a05dc3b6aac"
      },
      "execution_count": null,
      "outputs": [
        {
          "output_type": "stream",
          "name": "stdout",
          "text": [
            "2\n"
          ]
        }
      ]
    },
    {
      "cell_type": "code",
      "source": [
        "#deletion of a function\n",
        "del square"
      ],
      "metadata": {
        "id": "jGB-xE9Dk-0G"
      },
      "execution_count": null,
      "outputs": []
    },
    {
      "cell_type": "code",
      "source": [
        "square(3)\n",
        "#square function has been deleted as you can see"
      ],
      "metadata": {
        "colab": {
          "base_uri": "https://localhost:8080/",
          "height": 165
        },
        "id": "-ncZmKs0lXnK",
        "outputId": "042bd162-e256-4a6a-8ad2-669f6881f86a"
      },
      "execution_count": null,
      "outputs": [
        {
          "output_type": "error",
          "ename": "NameError",
          "evalue": "ignored",
          "traceback": [
            "\u001b[0;31m---------------------------------------------------------------------------\u001b[0m",
            "\u001b[0;31mNameError\u001b[0m                                 Traceback (most recent call last)",
            "\u001b[0;32m<ipython-input-15-2cfd8bba3a88>\u001b[0m in \u001b[0;36m<cell line: 1>\u001b[0;34m()\u001b[0m\n\u001b[0;32m----> 1\u001b[0;31m \u001b[0msquare\u001b[0m\u001b[0;34m(\u001b[0m\u001b[0;36m3\u001b[0m\u001b[0;34m)\u001b[0m\u001b[0;34m\u001b[0m\u001b[0;34m\u001b[0m\u001b[0m\n\u001b[0m",
            "\u001b[0;31mNameError\u001b[0m: name 'square' is not defined"
          ]
        }
      ]
    },
    {
      "cell_type": "code",
      "source": [
        "def square(x):\n",
        "  return x**2\n",
        "a11=[1,2,square]\n",
        "print(a11[2](3))\n",
        "#storing function in different datatypes"
      ],
      "metadata": {
        "id": "P60v4C6BldbZ",
        "colab": {
          "base_uri": "https://localhost:8080/"
        },
        "outputId": "1af41504-bf34-4c6c-9084-759d92c520e0"
      },
      "execution_count": null,
      "outputs": [
        {
          "output_type": "stream",
          "name": "stdout",
          "text": [
            "9\n"
          ]
        }
      ]
    },
    {
      "cell_type": "code",
      "source": [
        "a11[-1](3)"
      ],
      "metadata": {
        "colab": {
          "base_uri": "https://localhost:8080/"
        },
        "id": "l1bOhLbTnfHr",
        "outputId": "82ad74f7-0970-4aa1-ef37-be56b3bfc80c"
      },
      "execution_count": null,
      "outputs": [
        {
          "output_type": "execute_result",
          "data": {
            "text/plain": [
              "9"
            ]
          },
          "metadata": {},
          "execution_count": 2
        }
      ]
    },
    {
      "cell_type": "code",
      "source": [
        "del square"
      ],
      "metadata": {
        "id": "3t0EuHlsoP3j"
      },
      "execution_count": null,
      "outputs": []
    },
    {
      "cell_type": "code",
      "source": [
        "a12=[1,2,square]\n",
        "print(a12[2](3))"
      ],
      "metadata": {
        "colab": {
          "base_uri": "https://localhost:8080/",
          "height": 182
        },
        "id": "gVTo93sxopJp",
        "outputId": "1b74d7cc-ac78-4856-bfaa-fb21dfab08e0"
      },
      "execution_count": null,
      "outputs": [
        {
          "output_type": "error",
          "ename": "NameError",
          "evalue": "ignored",
          "traceback": [
            "\u001b[0;31m---------------------------------------------------------------------------\u001b[0m",
            "\u001b[0;31mNameError\u001b[0m                                 Traceback (most recent call last)",
            "\u001b[0;32m<ipython-input-4-d89977a2dcb0>\u001b[0m in \u001b[0;36m<cell line: 1>\u001b[0;34m()\u001b[0m\n\u001b[0;32m----> 1\u001b[0;31m \u001b[0ma12\u001b[0m\u001b[0;34m=\u001b[0m\u001b[0;34m[\u001b[0m\u001b[0;36m1\u001b[0m\u001b[0;34m,\u001b[0m\u001b[0;36m2\u001b[0m\u001b[0;34m,\u001b[0m\u001b[0msquare\u001b[0m\u001b[0;34m]\u001b[0m\u001b[0;34m\u001b[0m\u001b[0;34m\u001b[0m\u001b[0m\n\u001b[0m\u001b[1;32m      2\u001b[0m \u001b[0mprint\u001b[0m\u001b[0;34m(\u001b[0m\u001b[0ma12\u001b[0m\u001b[0;34m[\u001b[0m\u001b[0;36m2\u001b[0m\u001b[0;34m]\u001b[0m\u001b[0;34m(\u001b[0m\u001b[0;36m3\u001b[0m\u001b[0;34m)\u001b[0m\u001b[0;34m)\u001b[0m\u001b[0;34m\u001b[0m\u001b[0;34m\u001b[0m\u001b[0m\n",
            "\u001b[0;31mNameError\u001b[0m: name 'square' is not defined"
          ]
        }
      ]
    },
    {
      "cell_type": "code",
      "source": [
        "def square(x):\n",
        "  return x**2\n",
        "#sets cannot store duplicates,sets can only store immutable datatypes,sets themselves are immutable"
      ],
      "metadata": {
        "id": "WbCx76OGo8hT"
      },
      "execution_count": null,
      "outputs": []
    },
    {
      "cell_type": "code",
      "source": [
        "s={square}\n",
        "s\n",
        "#As you can see here, set is able to store square function.Hence function is immutable"
      ],
      "metadata": {
        "colab": {
          "base_uri": "https://localhost:8080/"
        },
        "id": "ogoVDeHNpPf1",
        "outputId": "7f79e85c-5d90-45d5-85af-4fdeaabe06c1"
      },
      "execution_count": null,
      "outputs": [
        {
          "output_type": "execute_result",
          "data": {
            "text/plain": [
              "{<function __main__.square(x)>}"
            ]
          },
          "metadata": {},
          "execution_count": 6
        }
      ]
    },
    {
      "cell_type": "code",
      "source": [
        "#function returning another function\n",
        "def f():\n",
        "  def x(a,b):\n",
        "    return a+b\n",
        "  return x\n",
        "value=f()(3,4)\n",
        "print(value)\n",
        "#function f() returns x which is a reference of function x(a,b), hence we are able to execute x(a,b) from outside, trying to execute x(a,b) directly would have given error"
      ],
      "metadata": {
        "colab": {
          "base_uri": "https://localhost:8080/"
        },
        "id": "oAoRLOrK0JGW",
        "outputId": "c033921d-1d51-45fe-fbb8-e28b31bd5c8b"
      },
      "execution_count": null,
      "outputs": [
        {
          "output_type": "stream",
          "name": "stdout",
          "text": [
            "7\n"
          ]
        }
      ]
    },
    {
      "cell_type": "code",
      "source": [
        "def f():\n",
        "  def x(a,b):\n",
        "    return a+b\n",
        "  return x\n",
        "value1=x(a,b)\n",
        "print(value1)\n",
        "#as we can see here trying to execute directly would give error as we don't have any reference to function x(a,b) that we are trying to execute\n"
      ],
      "metadata": {
        "colab": {
          "base_uri": "https://localhost:8080/",
          "height": 217
        },
        "id": "7D0VbQTA0yFT",
        "outputId": "c99a3482-6b7b-48e3-d334-ec76beb8c575"
      },
      "execution_count": null,
      "outputs": [
        {
          "output_type": "error",
          "ename": "NameError",
          "evalue": "ignored",
          "traceback": [
            "\u001b[0;31m---------------------------------------------------------------------------\u001b[0m",
            "\u001b[0;31mNameError\u001b[0m                                 Traceback (most recent call last)",
            "\u001b[0;32m<ipython-input-8-d1a0b9d20be7>\u001b[0m in \u001b[0;36m<cell line: 5>\u001b[0;34m()\u001b[0m\n\u001b[1;32m      3\u001b[0m     \u001b[0;32mreturn\u001b[0m \u001b[0ma\u001b[0m\u001b[0;34m+\u001b[0m\u001b[0mb\u001b[0m\u001b[0;34m\u001b[0m\u001b[0;34m\u001b[0m\u001b[0m\n\u001b[1;32m      4\u001b[0m   \u001b[0;32mreturn\u001b[0m \u001b[0mx\u001b[0m\u001b[0;34m\u001b[0m\u001b[0;34m\u001b[0m\u001b[0m\n\u001b[0;32m----> 5\u001b[0;31m \u001b[0mvalue1\u001b[0m\u001b[0;34m=\u001b[0m\u001b[0mx\u001b[0m\u001b[0;34m(\u001b[0m\u001b[0ma\u001b[0m\u001b[0;34m,\u001b[0m\u001b[0mb\u001b[0m\u001b[0;34m)\u001b[0m\u001b[0;34m\u001b[0m\u001b[0;34m\u001b[0m\u001b[0m\n\u001b[0m\u001b[1;32m      6\u001b[0m \u001b[0mprint\u001b[0m\u001b[0;34m(\u001b[0m\u001b[0mvalue1\u001b[0m\u001b[0;34m)\u001b[0m\u001b[0;34m\u001b[0m\u001b[0;34m\u001b[0m\u001b[0m\n",
            "\u001b[0;31mNameError\u001b[0m: name 'x' is not defined"
          ]
        }
      ]
    },
    {
      "cell_type": "code",
      "source": [
        "#Sending function as an argument to other function\n",
        "def a():\n",
        "  print(\"Inside functtion a \")\n",
        "def c(z):\n",
        "  print(\"Inside function c \")\n",
        "  return z()\n",
        "print(c(a))\n",
        "#So function can be sent as arguments,returned by other functions, stored in variables,deleted,stored in datatypes(list,set,tuples)"
      ],
      "metadata": {
        "colab": {
          "base_uri": "https://localhost:8080/"
        },
        "id": "x-AsPPo71MLI",
        "outputId": "4fc64847-28f9-43b8-d1f3-a4196d4d7c6c"
      },
      "execution_count": null,
      "outputs": [
        {
          "output_type": "stream",
          "name": "stdout",
          "text": [
            "Inside function c \n",
            "Inside functtion a \n",
            "None\n"
          ]
        }
      ]
    },
    {
      "cell_type": "code",
      "source": [
        "#Code modularity refers to the practise of breaking down program into smaller independent and self-contained modules or functions. Each function in python should perform\n",
        "#specific task or operation, making the code easier to understand, changes or updates to one function doesnot affect the other.\n",
        "#Code Readability refers to how easier it is to understand the code.\n",
        "#Code Reusability refers to the ability of using existing code at multiple plcaes or in different programs altogether.\n",
        "#Function has all the above properties."
      ],
      "metadata": {
        "id": "wid74-OIOT29"
      },
      "execution_count": null,
      "outputs": []
    },
    {
      "cell_type": "code",
      "source": [
        "#Lambda function is a anonymous function that can take any number of arguments but can return only 1 expression\n",
        "#lambda x,y:x+y\n",
        "#For instance\n",
        "a=lambda x:x**2\n",
        "print(a(4))"
      ],
      "metadata": {
        "colab": {
          "base_uri": "https://localhost:8080/"
        },
        "id": "5mqiiVHEnXDH",
        "outputId": "497afafa-6363-49e9-9da2-a83641be3593"
      },
      "execution_count": null,
      "outputs": [
        {
          "output_type": "stream",
          "name": "stdout",
          "text": [
            "16\n"
          ]
        }
      ]
    },
    {
      "cell_type": "code",
      "source": [
        "a=lambda x,y:x+y\n",
        "print(a(4,10))"
      ],
      "metadata": {
        "colab": {
          "base_uri": "https://localhost:8080/"
        },
        "id": "yMQXMB_uwLjA",
        "outputId": "5d105870-9bc8-4e53-fd7a-bb49d2401b6b"
      },
      "execution_count": null,
      "outputs": [
        {
          "output_type": "stream",
          "name": "stdout",
          "text": [
            "14\n"
          ]
        }
      ]
    },
    {
      "cell_type": "code",
      "source": [
        "#Difference between lambda function and normal functions\n",
        "#Lambda functions are anonymous(have no names)\n",
        "#Lambda functions have no return value(infact returns a function)\n",
        "#Lmbda is written in one line\n",
        "#They are not reusable"
      ],
      "metadata": {
        "id": "RpXaVHRTx2xE"
      },
      "execution_count": null,
      "outputs": []
    },
    {
      "cell_type": "code",
      "source": [
        "lambda x:x**3\n",
        "#as u can see return value of lambda function is the same function"
      ],
      "metadata": {
        "colab": {
          "base_uri": "https://localhost:8080/"
        },
        "id": "JOsvqyHwyT6K",
        "outputId": "804d83a1-c193-4298-c275-231bab27850a"
      },
      "execution_count": null,
      "outputs": [
        {
          "output_type": "execute_result",
          "data": {
            "text/plain": [
              "<function __main__.<lambda>(x)>"
            ]
          },
          "metadata": {},
          "execution_count": 4
        }
      ]
    },
    {
      "cell_type": "code",
      "source": [
        "#using lambda function to check if a string has 'a'\n",
        "a11=lambda x:'a' in x\n",
        "print(a11(\"mahendra\"))"
      ],
      "metadata": {
        "colab": {
          "base_uri": "https://localhost:8080/"
        },
        "id": "QPfyFoXpyf5u",
        "outputId": "ece03b41-80ac-4833-f29c-3df1c3461eb1"
      },
      "execution_count": null,
      "outputs": [
        {
          "output_type": "stream",
          "name": "stdout",
          "text": [
            "True\n"
          ]
        }
      ]
    },
    {
      "cell_type": "code",
      "source": [
        "#Odd or even\n",
        "a12=lambda a:a%2==0\n",
        "c=a12()"
      ],
      "metadata": {
        "id": "dskb4_RJzpER"
      },
      "execution_count": null,
      "outputs": []
    },
    {
      "cell_type": "code",
      "source": [
        "#Odd or even\n",
        "a14=lambda a:\"even\" if a%2==0 else \"odd\"\n",
        "a14(6)\n",
        "#:\"even\" if a%2==0 else \"odd\" is how we can use if and else clause in lambda as well"
      ],
      "metadata": {
        "colab": {
          "base_uri": "https://localhost:8080/",
          "height": 36
        },
        "id": "J1hQlFHDGQGU",
        "outputId": "8c8ee67b-6b16-4367-d7f6-4ec94cb7bdaa"
      },
      "execution_count": null,
      "outputs": [
        {
          "output_type": "execute_result",
          "data": {
            "text/plain": [
              "'even'"
            ],
            "application/vnd.google.colaboratory.intrinsic+json": {
              "type": "string"
            }
          },
          "metadata": {},
          "execution_count": 8
        }
      ]
    },
    {
      "cell_type": "code",
      "source": [
        "#Lambda functions are used while handling HOF(higher order functions)\n",
        "#HOF higher order functions are those functions which either return a function or take a function as input for example\n",
        "def square(x):\n",
        "  return x**2\n",
        "def transform(f,l):\n",
        "  output=[]\n",
        "  for i in l:\n",
        "    output.append(f(i))\n",
        "  print(output)\n",
        "l=[1,2,3,4,5]\n",
        "print(transform(square,l))"
      ],
      "metadata": {
        "colab": {
          "base_uri": "https://localhost:8080/"
        },
        "id": "G0peUYZqG7Id",
        "outputId": "9d113da2-eea7-403d-b8af-fad866aaed5f"
      },
      "execution_count": null,
      "outputs": [
        {
          "output_type": "stream",
          "name": "stdout",
          "text": [
            "[1, 4, 9, 16, 25]\n",
            "None\n"
          ]
        }
      ]
    },
    {
      "cell_type": "code",
      "source": [
        "#We can also shorten this by using lamda functions as shown below\n",
        "def transform(f,l):\n",
        "  output=[]\n",
        "  for i in l:\n",
        "    output.append(f(i))\n",
        "  print(output)\n",
        "l=[1,2,3,4,5]\n",
        "print(transform(lambda x:x**3,l))"
      ],
      "metadata": {
        "colab": {
          "base_uri": "https://localhost:8080/"
        },
        "id": "u7uam6ywOnNo",
        "outputId": "69bb7574-e350-4bd0-f134-221f48e158c9"
      },
      "execution_count": null,
      "outputs": [
        {
          "output_type": "stream",
          "name": "stdout",
          "text": [
            "[1, 8, 27, 64, 125]\n",
            "None\n"
          ]
        }
      ]
    },
    {
      "cell_type": "code",
      "source": [
        "#Map function\n",
        "#map(function,iterable)\n",
        "list(map(lambda x:x**2,[1,2,3,4,5]))"
      ],
      "metadata": {
        "colab": {
          "base_uri": "https://localhost:8080/"
        },
        "id": "BLXKqv23eqZE",
        "outputId": "9a39c21e-d484-4805-f4cd-bf61ad05fd36"
      },
      "execution_count": null,
      "outputs": [
        {
          "output_type": "execute_result",
          "data": {
            "text/plain": [
              "[1, 4, 9, 16, 25]"
            ]
          },
          "metadata": {},
          "execution_count": 12
        }
      ]
    },
    {
      "cell_type": "code",
      "source": [
        "#labeling all numbers in the list odd or even\n",
        "list(map(lambda c:\"even\" if c%2==0 else \"odd\",[1,2,3,4,5,6,7,8,9,10]))"
      ],
      "metadata": {
        "colab": {
          "base_uri": "https://localhost:8080/"
        },
        "id": "dFD30g7Ze81x",
        "outputId": "4d499869-5cc9-489e-f8bd-08a55aefa50c"
      },
      "execution_count": null,
      "outputs": [
        {
          "output_type": "execute_result",
          "data": {
            "text/plain": [
              "['odd', 'even', 'odd', 'even', 'odd', 'even', 'odd', 'even', 'odd', 'even']"
            ]
          },
          "metadata": {},
          "execution_count": 13
        }
      ]
    },
    {
      "cell_type": "code",
      "source": [
        "#extract names from list of dicts\n",
        "users=[{\n",
        "    \"name\":\"dhwani\",\n",
        "    \"age\":25,\n",
        "    \"gender\":\"male\"\n",
        "},{\n",
        "    \"name\":\"Mohan\",\n",
        "    \"age\":28,\n",
        "    \"gender\":\"male\"\n",
        "},{\n",
        "    \"name\":\"Sohan\",\n",
        "    \"age\":30,\n",
        "    \"gender\":\"male\"\n",
        "}]\n",
        "list(map(lambda u:u[\"name\"],users))"
      ],
      "metadata": {
        "colab": {
          "base_uri": "https://localhost:8080/"
        },
        "id": "UDalQGV5geVM",
        "outputId": "a28f19c1-be48-4075-9b3f-c229fd4fcee0"
      },
      "execution_count": null,
      "outputs": [
        {
          "output_type": "execute_result",
          "data": {
            "text/plain": [
              "['dhwani', 'Mohan', 'Sohan']"
            ]
          },
          "metadata": {},
          "execution_count": 15
        }
      ]
    },
    {
      "cell_type": "code",
      "source": [
        "list(filter(lambda x:x>5,[3,4,5,6,7]))"
      ],
      "metadata": {
        "colab": {
          "base_uri": "https://localhost:8080/"
        },
        "id": "vgcNmf5_OvgA",
        "outputId": "17ec9d50-18d2-42a0-c1c0-a00adca2c9dd"
      },
      "execution_count": null,
      "outputs": [
        {
          "output_type": "execute_result",
          "data": {
            "text/plain": [
              "[6, 7]"
            ]
          },
          "metadata": {},
          "execution_count": 1
        }
      ]
    },
    {
      "cell_type": "code",
      "source": [
        "list(filter(lambda a:a.startswith('a'),['apple','guava','banana']))"
      ],
      "metadata": {
        "colab": {
          "base_uri": "https://localhost:8080/"
        },
        "id": "6azADBgxRpF_",
        "outputId": "041cc663-2cae-4fc4-f9e4-f68881a37804"
      },
      "execution_count": null,
      "outputs": [
        {
          "output_type": "execute_result",
          "data": {
            "text/plain": [
              "['apple']"
            ]
          },
          "metadata": {},
          "execution_count": 2
        }
      ]
    },
    {
      "cell_type": "code",
      "source": [
        "\"apple\".startswith('a')"
      ],
      "metadata": {
        "colab": {
          "base_uri": "https://localhost:8080/"
        },
        "id": "UNjSAIClSF_K",
        "outputId": "7110b207-f296-4c2c-f6ad-0aa3946c696c"
      },
      "execution_count": null,
      "outputs": [
        {
          "output_type": "execute_result",
          "data": {
            "text/plain": [
              "True"
            ]
          },
          "metadata": {},
          "execution_count": 3
        }
      ]
    },
    {
      "cell_type": "code",
      "source": [
        "import functools\n",
        "functools.reduce(lambda x,y:x+y,[1,2,3,4,5])"
      ],
      "metadata": {
        "colab": {
          "base_uri": "https://localhost:8080/"
        },
        "id": "TtLglXPzV9Ak",
        "outputId": "f858a9ad-b93a-49ea-c180-3a7b903ec70a"
      },
      "execution_count": null,
      "outputs": [
        {
          "output_type": "execute_result",
          "data": {
            "text/plain": [
              "15"
            ]
          },
          "metadata": {},
          "execution_count": 4
        }
      ]
    },
    {
      "cell_type": "code",
      "source": [
        "import functools\n",
        "functools.reduce(lambda x,y:x if x<y else y,[23,11,45,10,1])"
      ],
      "metadata": {
        "colab": {
          "base_uri": "https://localhost:8080/"
        },
        "id": "X_Ul6P5bWHxN",
        "outputId": "87ac6f17-30db-44b1-bfea-d60bbee18d43"
      },
      "execution_count": null,
      "outputs": [
        {
          "output_type": "execute_result",
          "data": {
            "text/plain": [
              "1"
            ]
          },
          "metadata": {},
          "execution_count": 5
        }
      ]
    },
    {
      "cell_type": "code",
      "source": [
        "import functools\n",
        "functools.reduce(lambda x,y:x if x>y else y,[23,11,45,10,1])"
      ],
      "metadata": {
        "colab": {
          "base_uri": "https://localhost:8080/"
        },
        "id": "Ty0z1PcgWW15",
        "outputId": "433dcdb6-0783-41ec-f3c6-6b0a67c15687"
      },
      "execution_count": null,
      "outputs": [
        {
          "output_type": "execute_result",
          "data": {
            "text/plain": [
              "45"
            ]
          },
          "metadata": {},
          "execution_count": 6
        }
      ]
    },
    {
      "cell_type": "code",
      "source": [
        "#map,filter and reduce are higher order functions"
      ],
      "metadata": {
        "id": "FrUGKazqWoPy"
      },
      "execution_count": null,
      "outputs": []
    },
    {
      "cell_type": "code",
      "source": [
        "#Q1\n",
        "a11=[1,2,3,3,3,3,4,5]\n",
        "def uniquer(l):\n",
        "  return list(set(l))\n",
        "uniquer(a11)"
      ],
      "metadata": {
        "colab": {
          "base_uri": "https://localhost:8080/"
        },
        "id": "KGrAvOoyeKuW",
        "outputId": "0e5a382a-796e-40f1-95a2-2f5a7d3e82d2"
      },
      "execution_count": null,
      "outputs": [
        {
          "output_type": "execute_result",
          "data": {
            "text/plain": [
              "[1, 2, 3, 4, 5]"
            ]
          },
          "metadata": {},
          "execution_count": 7
        }
      ]
    },
    {
      "cell_type": "code",
      "source": [
        "# Q2\n",
        "# Problem-2: Write a Python function that accepts a hyphen-separated sequence of words as parameter and returns the words in a hyphen-separated sequence after sorting them alphabetically.\n",
        "cfd=\"green-red-yellow-black-white\"\n",
        "def premam(cl):\n",
        "  return \"-\".join(sorted(cfd.split(\"-\")))\n",
        "premam(cfd)"
      ],
      "metadata": {
        "colab": {
          "base_uri": "https://localhost:8080/",
          "height": 36
        },
        "id": "7PMCJF5oejun",
        "outputId": "90eb5bea-f909-4c59-a212-4263359ce2d3"
      },
      "execution_count": null,
      "outputs": [
        {
          "output_type": "execute_result",
          "data": {
            "text/plain": [
              "'black-green-red-white-yellow'"
            ],
            "application/vnd.google.colaboratory.intrinsic+json": {
              "type": "string"
            }
          },
          "metadata": {},
          "execution_count": 9
        }
      ]
    },
    {
      "cell_type": "code",
      "source": [
        "#Q3\n",
        "#Problem 3: Write a Python function that accepts a string and calculate the number of upper case letters and lower case letters.\n",
        "shammy='CampusX is an Online Mentorship Program fOr EnginEering studentS.'\n",
        "def largesmall(mds):\n",
        "  l=0\n",
        "  s=0\n",
        "  for i in mds:\n",
        "    if i.islower():\n",
        "      s+=1\n",
        "    elif i.isupper():\n",
        "      l+=1\n",
        "  return f'''Number of lower elements is {s} Number of large elements {l}'''\n",
        "largesmall(shammy)"
      ],
      "metadata": {
        "colab": {
          "base_uri": "https://localhost:8080/",
          "height": 36
        },
        "id": "iNQm9WBekPHQ",
        "outputId": "70561c7e-353d-4870-9456-c3f56092957f"
      },
      "execution_count": null,
      "outputs": [
        {
          "output_type": "execute_result",
          "data": {
            "text/plain": [
              "'Number of lower elements is 47 Number of large elements 9'"
            ],
            "application/vnd.google.colaboratory.intrinsic+json": {
              "type": "string"
            }
          },
          "metadata": {},
          "execution_count": 7
        }
      ]
    },
    {
      "cell_type": "code",
      "source": [
        "\"c\".islower()"
      ],
      "metadata": {
        "colab": {
          "base_uri": "https://localhost:8080/"
        },
        "id": "6r2GpIOKoCMz",
        "outputId": "71887264-258f-48e9-9f9c-8a8b8078c178"
      },
      "execution_count": null,
      "outputs": [
        {
          "output_type": "execute_result",
          "data": {
            "text/plain": [
              "True"
            ]
          },
          "metadata": {},
          "execution_count": 12
        }
      ]
    },
    {
      "cell_type": "code",
      "source": [
        "\"C\".isupper()"
      ],
      "metadata": {
        "colab": {
          "base_uri": "https://localhost:8080/"
        },
        "id": "HdRt4vqOoZ7_",
        "outputId": "3c41c864-ccae-4176-bebf-49ddde5f0f1a"
      },
      "execution_count": null,
      "outputs": [
        {
          "output_type": "execute_result",
          "data": {
            "text/plain": [
              "True"
            ]
          },
          "metadata": {},
          "execution_count": 13
        }
      ]
    },
    {
      "cell_type": "code",
      "source": [
        "# Q4\n",
        "# Problem 4: Write a Python program to print the even numbers from a given list.\n",
        "a14=[1, 2, 3, 4, 5, 6, 7, 8, 9]\n",
        "def fmv(l):\n",
        "  return [i for i in l if i%2==0]\n",
        "fmv(a14)"
      ],
      "metadata": {
        "colab": {
          "base_uri": "https://localhost:8080/"
        },
        "id": "v2baNpCMsReb",
        "outputId": "bf444717-0673-43e0-cfae-afd13d385013"
      },
      "execution_count": null,
      "outputs": [
        {
          "output_type": "execute_result",
          "data": {
            "text/plain": [
              "[2, 4, 6, 8]"
            ]
          },
          "metadata": {},
          "execution_count": 17
        }
      ]
    },
    {
      "cell_type": "code",
      "source": [
        "# Q5\n",
        "# Write a Python function to check whether a number is perfect or not.\n",
        "def fmn(l):\n",
        "  l1=[1]\n",
        "  for i in range(2,l+1):\n",
        "    if l%i==0:\n",
        "      l1.append(i)\n",
        "  return sum(l1)/2==l\n",
        "fmn(4)"
      ],
      "metadata": {
        "colab": {
          "base_uri": "https://localhost:8080/"
        },
        "id": "rBQEFBe_s1fa",
        "outputId": "3f8f2d89-d664-4863-ce41-68bac95fc786"
      },
      "execution_count": null,
      "outputs": [
        {
          "output_type": "execute_result",
          "data": {
            "text/plain": [
              "False"
            ]
          },
          "metadata": {},
          "execution_count": 33
        }
      ]
    },
    {
      "cell_type": "code",
      "source": [],
      "metadata": {
        "id": "ZUrUJYUCoBpj"
      },
      "execution_count": null,
      "outputs": []
    },
    {
      "cell_type": "code",
      "source": [
        "sum([1,2,3])"
      ],
      "metadata": {
        "colab": {
          "base_uri": "https://localhost:8080/"
        },
        "id": "BU3gKGGnxabz",
        "outputId": "7fa803e1-54f7-4212-9cba-edb338878d3e"
      },
      "execution_count": null,
      "outputs": [
        {
          "output_type": "execute_result",
          "data": {
            "text/plain": [
              "6"
            ]
          },
          "metadata": {},
          "execution_count": 22
        }
      ]
    },
    {
      "cell_type": "code",
      "source": [
        "# Q6\n",
        "# Write a Python function to concatenate any no of dictionaries to create a new one.\n",
        "def adder(*args):\n",
        "  c1={}\n",
        "  for i in args:\n",
        "    c1.update(i)\n",
        "  return c1\n",
        "dic1={1:10, 2:20}\n",
        "dic2={3:30, 4:40}\n",
        "dic3={5:50,6:60}\n",
        "adder(dic1,dic2,dic3)\n"
      ],
      "metadata": {
        "colab": {
          "base_uri": "https://localhost:8080/"
        },
        "id": "-dG8ooe_oC6a",
        "outputId": "fae22090-762f-48fe-e37a-f13fab3e45d3"
      },
      "execution_count": null,
      "outputs": [
        {
          "output_type": "execute_result",
          "data": {
            "text/plain": [
              "{1: 10, 2: 20, 3: 30, 4: 40, 5: 50, 6: 60}"
            ]
          },
          "metadata": {},
          "execution_count": 6
        }
      ]
    },
    {
      "cell_type": "code",
      "source": [
        "c1={1:10,2:20}\n",
        "c2={3:30,4:40}\n",
        "c1.update(c2)\n",
        "c1"
      ],
      "metadata": {
        "colab": {
          "base_uri": "https://localhost:8080/"
        },
        "id": "LKbrRTokqU1Y",
        "outputId": "506cd355-170f-47b7-a021-907457229cc2"
      },
      "execution_count": null,
      "outputs": [
        {
          "output_type": "execute_result",
          "data": {
            "text/plain": [
              "{1: 10, 2: 20, 3: 30, 4: 40}"
            ]
          },
          "metadata": {},
          "execution_count": 5
        }
      ]
    },
    {
      "cell_type": "code",
      "source": [
        "#Q7\n",
        "# Write a python function that accepts a string as input and returns the word with most occurence.\n",
        "str1=\"hello how are you i am fine thank you\"\n",
        "def cntr(c):\n",
        "  dc={}\n",
        "  for i in str1.split():\n",
        "    if i in dc:\n",
        "      dc[i]+=1\n",
        "    else:\n",
        "      dc[i]=1\n",
        "  c1=[{a:dc[a]} for a in dc if dc[a]==max(dc.values())]\n",
        "  c12=f\"{list(c1[0].keys())[0]}->{list(c1[0].values())[0]}\"\n",
        "  return c12\n",
        "cntr(str1)\n"
      ],
      "metadata": {
        "colab": {
          "base_uri": "https://localhost:8080/",
          "height": 36
        },
        "id": "BE6RNUlwq8Os",
        "outputId": "897177d9-29bb-48ed-b45c-31a47f287f9f"
      },
      "execution_count": null,
      "outputs": [
        {
          "output_type": "execute_result",
          "data": {
            "text/plain": [
              "'you->2'"
            ],
            "application/vnd.google.colaboratory.intrinsic+json": {
              "type": "string"
            }
          },
          "metadata": {},
          "execution_count": 27
        }
      ]
    },
    {
      "cell_type": "code",
      "source": [
        "#Q8\n",
        "#No idea\n",
        "#Write a python function that receives a list of integers and prints out a histogram of bin size 10\n",
        "a11=[13,42,15,37,22,39,41,50]\n",
        "def binbin(c):\n",
        "  k={}\n"
      ],
      "metadata": {
        "id": "bUJMXo75B7_i"
      },
      "execution_count": null,
      "outputs": []
    },
    {
      "cell_type": "code",
      "source": [
        "#Q9\n",
        "#Write a python function that accepts a list of 2D co-ordinates and a query point, and then finds the the co-ordinate which is closest in terms of distance from the query point.\n",
        "lc=[(1,1),(2,2),(3,3),(4,4)]\n",
        "qp=(0,0)\n",
        "def minmin(q,l):\n",
        "  l1=[]\n",
        "  for i in q:\n",
        "    c1=((i[0]-l[0])**2+(i[1]-l[1])**2)**0.5\n",
        "    l1.append(c1)\n",
        "  c2=l1.index(min(l1))\n",
        "  return f\"Nearest to point {qp} is {lc[c2]}\"\n",
        "minmin(lc,qp)\n",
        "\n",
        "\n",
        "\n"
      ],
      "metadata": {
        "colab": {
          "base_uri": "https://localhost:8080/",
          "height": 36
        },
        "id": "0Iv3KURVCRD3",
        "outputId": "86afbe28-537d-4e1d-e086-d23807c5a72a"
      },
      "execution_count": null,
      "outputs": [
        {
          "output_type": "execute_result",
          "data": {
            "text/plain": [
              "'Nearest to point (0, 0) is (1, 1)'"
            ],
            "application/vnd.google.colaboratory.intrinsic+json": {
              "type": "string"
            }
          },
          "metadata": {},
          "execution_count": 30
        }
      ]
    },
    {
      "cell_type": "code",
      "source": [
        "lc=[1,2,3,4]\n",
        "lc.index(4)\n",
        "lc.index(min(lc))"
      ],
      "metadata": {
        "colab": {
          "base_uri": "https://localhost:8080/"
        },
        "id": "xSdOKeAtGnI8",
        "outputId": "0c2d40cf-ea1a-4a65-91c8-fec30077528b"
      },
      "execution_count": null,
      "outputs": [
        {
          "output_type": "execute_result",
          "data": {
            "text/plain": [
              "0"
            ]
          },
          "metadata": {},
          "execution_count": 29
        }
      ]
    },
    {
      "cell_type": "code",
      "source": [
        "#Q10\n",
        "str1=\"John likes to watch movies. Mary likes movies too. Mary also likes to watch football games.\"\n",
        "def bow(s):\n",
        "  s3=s.replace(\".\",\"\")\n",
        "  l=s3.split()\n",
        "  k={}\n",
        "  for i in l:\n",
        "    if i in k:\n",
        "      k[i]+=1\n",
        "    else:\n",
        "      k[i]=1\n",
        "  return k\n",
        "bow(str1)\n"
      ],
      "metadata": {
        "colab": {
          "base_uri": "https://localhost:8080/"
        },
        "id": "MOEkgDNKHZsC",
        "outputId": "f0d49b80-9c8e-4f88-f59f-07c8c5519db2"
      },
      "execution_count": null,
      "outputs": [
        {
          "output_type": "execute_result",
          "data": {
            "text/plain": [
              "{'John': 1,\n",
              " 'likes': 3,\n",
              " 'to': 2,\n",
              " 'watch': 2,\n",
              " 'movies': 2,\n",
              " 'Mary': 2,\n",
              " 'too': 1,\n",
              " 'also': 1,\n",
              " 'football': 1,\n",
              " 'games': 1}"
            ]
          },
          "metadata": {},
          "execution_count": 4
        }
      ]
    },
    {
      "cell_type": "code",
      "source": [
        "s=\"kaha ho. Binit maurya\"\n",
        "s1=s.replace(\".\",\"\")\n",
        "print(s1)"
      ],
      "metadata": {
        "colab": {
          "base_uri": "https://localhost:8080/"
        },
        "id": "FaIwjYYOykZt",
        "outputId": "ed54ef7e-91d8-4b8b-fe81-dd3631b27762"
      },
      "execution_count": null,
      "outputs": [
        {
          "output_type": "stream",
          "name": "stdout",
          "text": [
            "kaha ho Binit maurya\n"
          ]
        }
      ]
    },
    {
      "cell_type": "code",
      "source": [
        "# Q11\n",
        "# Write a Python program to add three given lists using Python map and lambda.\n",
        "#no idea\n",
        "list(map(lambda x:))"
      ],
      "metadata": {
        "id": "DSE03B8VzRay"
      },
      "execution_count": null,
      "outputs": []
    },
    {
      "cell_type": "code",
      "source": [
        "# Q12\n",
        "# Write a Python program to create a list containing the power of said number in bases raised to the corresponding number in the index using Python map.\n",
        "def func(x):\n",
        "  l1=[]\n",
        "  print(x)\n",
        "  for i in x:\n",
        "    l1.append(i**x.index(i))\n",
        "  return l1\n",
        "c=[1,2,3,4,5]\n",
        "d=map(func,c)\n",
        "print(list(d))\n",
        "\n",
        "\n"
      ],
      "metadata": {
        "colab": {
          "base_uri": "https://localhost:8080/",
          "height": 373
        },
        "id": "6Z5EZsaQfaXR",
        "outputId": "19ab8abb-4a01-4d49-83cb-8e60108dd9fe"
      },
      "execution_count": null,
      "outputs": [
        {
          "output_type": "stream",
          "name": "stdout",
          "text": [
            "1\n"
          ]
        },
        {
          "output_type": "error",
          "ename": "TypeError",
          "evalue": "ignored",
          "traceback": [
            "\u001b[0;31m---------------------------------------------------------------------------\u001b[0m",
            "\u001b[0;31mTypeError\u001b[0m                                 Traceback (most recent call last)",
            "\u001b[0;32m<ipython-input-6-12ff044a42fa>\u001b[0m in \u001b[0;36m<cell line: 11>\u001b[0;34m()\u001b[0m\n\u001b[1;32m      9\u001b[0m \u001b[0mc\u001b[0m\u001b[0;34m=\u001b[0m\u001b[0;34m[\u001b[0m\u001b[0;36m1\u001b[0m\u001b[0;34m,\u001b[0m\u001b[0;36m2\u001b[0m\u001b[0;34m,\u001b[0m\u001b[0;36m3\u001b[0m\u001b[0;34m,\u001b[0m\u001b[0;36m4\u001b[0m\u001b[0;34m,\u001b[0m\u001b[0;36m5\u001b[0m\u001b[0;34m]\u001b[0m\u001b[0;34m\u001b[0m\u001b[0;34m\u001b[0m\u001b[0m\n\u001b[1;32m     10\u001b[0m \u001b[0md\u001b[0m\u001b[0;34m=\u001b[0m\u001b[0mmap\u001b[0m\u001b[0;34m(\u001b[0m\u001b[0mfunc\u001b[0m\u001b[0;34m,\u001b[0m\u001b[0mc\u001b[0m\u001b[0;34m)\u001b[0m\u001b[0;34m\u001b[0m\u001b[0;34m\u001b[0m\u001b[0m\n\u001b[0;32m---> 11\u001b[0;31m \u001b[0mprint\u001b[0m\u001b[0;34m(\u001b[0m\u001b[0mlist\u001b[0m\u001b[0;34m(\u001b[0m\u001b[0md\u001b[0m\u001b[0;34m)\u001b[0m\u001b[0;34m)\u001b[0m\u001b[0;34m\u001b[0m\u001b[0;34m\u001b[0m\u001b[0m\n\u001b[0m\u001b[1;32m     12\u001b[0m \u001b[0;34m\u001b[0m\u001b[0m\n\u001b[1;32m     13\u001b[0m \u001b[0;34m\u001b[0m\u001b[0m\n",
            "\u001b[0;32m<ipython-input-6-12ff044a42fa>\u001b[0m in \u001b[0;36mfunc\u001b[0;34m(x)\u001b[0m\n\u001b[1;32m      4\u001b[0m   \u001b[0ml1\u001b[0m\u001b[0;34m=\u001b[0m\u001b[0;34m[\u001b[0m\u001b[0;34m]\u001b[0m\u001b[0;34m\u001b[0m\u001b[0;34m\u001b[0m\u001b[0m\n\u001b[1;32m      5\u001b[0m   \u001b[0mprint\u001b[0m\u001b[0;34m(\u001b[0m\u001b[0mx\u001b[0m\u001b[0;34m)\u001b[0m\u001b[0;34m\u001b[0m\u001b[0;34m\u001b[0m\u001b[0m\n\u001b[0;32m----> 6\u001b[0;31m   \u001b[0;32mfor\u001b[0m \u001b[0mi\u001b[0m \u001b[0;32min\u001b[0m \u001b[0mx\u001b[0m\u001b[0;34m:\u001b[0m\u001b[0;34m\u001b[0m\u001b[0;34m\u001b[0m\u001b[0m\n\u001b[0m\u001b[1;32m      7\u001b[0m     \u001b[0ml1\u001b[0m\u001b[0;34m.\u001b[0m\u001b[0mappend\u001b[0m\u001b[0;34m(\u001b[0m\u001b[0mi\u001b[0m\u001b[0;34m**\u001b[0m\u001b[0mi\u001b[0m\u001b[0;34m.\u001b[0m\u001b[0mindex\u001b[0m\u001b[0;34m(\u001b[0m\u001b[0mi\u001b[0m\u001b[0;34m)\u001b[0m\u001b[0;34m)\u001b[0m\u001b[0;34m\u001b[0m\u001b[0;34m\u001b[0m\u001b[0m\n\u001b[1;32m      8\u001b[0m   \u001b[0;32mreturn\u001b[0m \u001b[0ml1\u001b[0m\u001b[0;34m\u001b[0m\u001b[0;34m\u001b[0m\u001b[0m\n",
            "\u001b[0;31mTypeError\u001b[0m: 'int' object is not iterable"
          ]
        }
      ]
    },
    {
      "cell_type": "code",
      "source": [
        "# Define a function to square a number\n",
        "def square(x):\n",
        "    return x ** 2\n",
        "\n",
        "# Input list of numbers\n",
        "numbers = [1, 2, 3, 4, 5]\n",
        "\n",
        "# Using map() to square each number in the list\n",
        "squared_numbers = map(square, numbers)\n",
        "\n",
        "# Convert the result to a list (optional, as map() returns an iterator in Python 3)\n",
        "squared_numbers_list = list(squared_numbers)\n",
        "\n",
        "# Print the squared numbers\n",
        "print(squared_numbers_list)  # Output: [1, 4, 9, 16, 25]\n"
      ],
      "metadata": {
        "colab": {
          "base_uri": "https://localhost:8080/"
        },
        "id": "0RFQ_FUqluCS",
        "outputId": "2cc1b7d2-67d4-4294-b149-9125c69e8440"
      },
      "execution_count": null,
      "outputs": [
        {
          "output_type": "stream",
          "name": "stdout",
          "text": [
            "[1, 4, 9, 16, 25]\n"
          ]
        }
      ]
    },
    {
      "cell_type": "code",
      "source": [
        "#Q12\n",
        "c=[1,2,3,4,5]\n",
        "d=map(lambda i:i**c.index(i),c)\n",
        "print(list(d))"
      ],
      "metadata": {
        "colab": {
          "base_uri": "https://localhost:8080/"
        },
        "id": "ybdwG-h_mAXV",
        "outputId": "cb51f07f-aa98-4d54-f917-5b77e599aa5a"
      },
      "execution_count": null,
      "outputs": [
        {
          "output_type": "stream",
          "name": "stdout",
          "text": [
            "[1, 2, 9, 64, 625]\n"
          ]
        }
      ]
    },
    {
      "cell_type": "code",
      "source": [
        "# Q13\n",
        "# Using filter() and list() functions and .lower() method filter all the vowels in a given string.\n",
        "c=\"Who is mahendra singh dhoni? The only athlete in the world who is a qualified para-TROOPER\"\n",
        "list(filter(lambda x:x.lower() in ('a','e','i','o','u'),c))"
      ],
      "metadata": {
        "colab": {
          "base_uri": "https://localhost:8080/"
        },
        "id": "GgVmFjX8meUv",
        "outputId": "19f6cd4f-c6fe-4d46-f8d2-07a8739132e0"
      },
      "execution_count": null,
      "outputs": [
        {
          "output_type": "execute_result",
          "data": {
            "text/plain": [
              "['o',\n",
              " 'i',\n",
              " 'a',\n",
              " 'e',\n",
              " 'a',\n",
              " 'i',\n",
              " 'o',\n",
              " 'i',\n",
              " 'e',\n",
              " 'o',\n",
              " 'a',\n",
              " 'e',\n",
              " 'e',\n",
              " 'i',\n",
              " 'e',\n",
              " 'o',\n",
              " 'o',\n",
              " 'i',\n",
              " 'a',\n",
              " 'u',\n",
              " 'a',\n",
              " 'i',\n",
              " 'i',\n",
              " 'e',\n",
              " 'a',\n",
              " 'a',\n",
              " 'O',\n",
              " 'O',\n",
              " 'E']"
            ]
          },
          "metadata": {},
          "execution_count": 11
        }
      ]
    },
    {
      "cell_type": "code",
      "source": [
        "# Q14\n",
        "# Use reduce to convert a 2D list to 1D\n",
        "import functools\n",
        "list(functools.reduce(lambda x,y:x+y,[[1,2,3],[4,5,6]]))"
      ],
      "metadata": {
        "colab": {
          "base_uri": "https://localhost:8080/"
        },
        "id": "vNuQ7_YpqzSj",
        "outputId": "36744eac-f1d8-4907-f432-64fb23a50149"
      },
      "execution_count": null,
      "outputs": [
        {
          "output_type": "execute_result",
          "data": {
            "text/plain": [
              "[1, 2, 3, 4, 5, 6]"
            ]
          },
          "metadata": {},
          "execution_count": 12
        }
      ]
    },
    {
      "cell_type": "code",
      "source": [
        "# Q15\n",
        "#\n",
        "employees = [\n",
        "    {\n",
        "        'fname':'Nitish',\n",
        "        'lname':'Singh',\n",
        "        'age' : 33,\n",
        "        'grade':'skilled'\n",
        "    },\n",
        "    {\n",
        "        'fname':'Ankit',\n",
        "        'lname':'Verma',\n",
        "        'age' : 34,\n",
        "        'grade':'semi-skilled'\n",
        "    },\n",
        "    {\n",
        "        'fname':'Neha',\n",
        "        'lname':'Singh',\n",
        "        'age' : 35,\n",
        "        'grade':'highly-skilled'\n",
        "    },\n",
        "    {\n",
        "        'fname':'Anurag',\n",
        "        'lname':'Kumar',\n",
        "        'age' : 30,\n",
        "        'grade':'skilled'\n",
        "    },\n",
        "    {\n",
        "        'fname':'Abhinav',\n",
        "        'lname':'Sharma',\n",
        "        'age' : 37,\n",
        "        'grade':'highly-skilled'\n",
        "    }\n",
        "\n",
        "]\n",
        "list(filter(lambda x:x['grade']=='highly-skilled',employees))"
      ],
      "metadata": {
        "colab": {
          "base_uri": "https://localhost:8080/"
        },
        "id": "hxyjL75auumb",
        "outputId": "25b8d7dc-f98d-4888-ab07-9c37199327ab"
      },
      "execution_count": null,
      "outputs": [
        {
          "output_type": "execute_result",
          "data": {
            "text/plain": [
              "[{'fname': 'Neha', 'lname': 'Singh', 'age': 35, 'grade': 'highly-skilled'},\n",
              " {'fname': 'Abhinav', 'lname': 'Sharma', 'age': 37, 'grade': 'highly-skilled'}]"
            ]
          },
          "metadata": {},
          "execution_count": 3
        }
      ]
    },
    {
      "cell_type": "code",
      "source": [
        "import functools\n",
        "list(map(lambda x:x['fname']+' '+x['lname'],list(filter(lambda x:x['grade']=='highly-skilled',employees))))"
      ],
      "metadata": {
        "colab": {
          "base_uri": "https://localhost:8080/"
        },
        "id": "HFijqRvblDXr",
        "outputId": "47659ee6-9e5c-4101-abc2-09ab1523b407"
      },
      "execution_count": null,
      "outputs": [
        {
          "output_type": "execute_result",
          "data": {
            "text/plain": [
              "['Neha Singh', 'Abhinav Sharma']"
            ]
          },
          "metadata": {},
          "execution_count": 4
        }
      ]
    },
    {
      "cell_type": "code",
      "source": [
        "#Q1\n",
        "l1=[1,2,3,3,3,3,4,5]\n",
        "def unno(l):\n",
        "  l12=[]\n",
        "  for i in l:\n",
        "    if i not in l12:\n",
        "      l12.append(i)\n",
        "  return l12\n",
        "unno(l1)"
      ],
      "metadata": {
        "colab": {
          "base_uri": "https://localhost:8080/"
        },
        "id": "HmB3_wxKnOYr",
        "outputId": "52b258b4-7299-4d09-9b51-4393d2b0c2f3"
      },
      "execution_count": null,
      "outputs": [
        {
          "output_type": "execute_result",
          "data": {
            "text/plain": [
              "[1, 2, 3, 4, 5]"
            ]
          },
          "metadata": {},
          "execution_count": 5
        }
      ]
    },
    {
      "cell_type": "code",
      "source": [
        "#Q2\n",
        "str1=\"green-red-yellow-black-white\"\n",
        "def sml(str):\n",
        "  tmp=[]\n",
        "  for i in sorted(str.split(\"-\")):\n",
        "    tmp.append(i)\n",
        "  return \"-\".join(tmp)\n",
        "sml(str1)"
      ],
      "metadata": {
        "id": "79jubcrzn8rf",
        "colab": {
          "base_uri": "https://localhost:8080/",
          "height": 36
        },
        "outputId": "d83fcc6c-26b7-43c6-f3fd-4383f620c32d"
      },
      "execution_count": null,
      "outputs": [
        {
          "output_type": "execute_result",
          "data": {
            "text/plain": [
              "'black-green-red-white-yellow'"
            ],
            "application/vnd.google.colaboratory.intrinsic+json": {
              "type": "string"
            }
          },
          "metadata": {},
          "execution_count": 2
        }
      ]
    },
    {
      "cell_type": "code",
      "source": [
        "# Q3\n",
        "def lower_upper(s):\n",
        "  low_count=0\n",
        "  upper_count=0\n",
        "  for i in s:\n",
        "    if i.islower():\n",
        "      low_count+=1\n",
        "    elif i.isupper():\n",
        "      upper_count+=1\n",
        "  return low_count,upper_count\n",
        "sm1='CampusX is an Online Mentorship Program fOr EnginEering studentS.'\n",
        "x,y=lower_upper(sm1)\n",
        "print(\"The number of small letter words are \",x)\n",
        "print(\"The number of big letter words are \",y)"
      ],
      "metadata": {
        "colab": {
          "base_uri": "https://localhost:8080/"
        },
        "id": "991TyURFHMhE",
        "outputId": "09c37587-fefc-40c9-b645-413f81f48571"
      },
      "execution_count": null,
      "outputs": [
        {
          "output_type": "stream",
          "name": "stdout",
          "text": [
            "The number of small letter words are  47\n",
            "The number of big letter words are  9\n"
          ]
        }
      ]
    },
    {
      "cell_type": "code",
      "source": [
        "#Q4\n",
        "sm=[1, 2, 3, 4, 5, 6, 7, 8, 9]\n",
        "list(filter(lambda x:x%2==0,sm))"
      ],
      "metadata": {
        "colab": {
          "base_uri": "https://localhost:8080/"
        },
        "id": "gmkgqoN_tXfd",
        "outputId": "7633b898-ee1d-4546-cafa-f95078d768b9"
      },
      "execution_count": null,
      "outputs": [
        {
          "output_type": "execute_result",
          "data": {
            "text/plain": [
              "[2, 4, 6, 8]"
            ]
          },
          "metadata": {},
          "execution_count": 1
        }
      ]
    },
    {
      "cell_type": "code",
      "source": [
        "#Q5\n",
        "def ps(s):\n",
        "  sum=0\n",
        "  for i in range(1,s):\n",
        "    if s%i==0:\n",
        "      sum+=i\n",
        "  return sum==s\n",
        "ps(812)"
      ],
      "metadata": {
        "colab": {
          "base_uri": "https://localhost:8080/"
        },
        "id": "AO5h-jFTtoDx",
        "outputId": "c3973102-7e14-4e23-e2fb-6fb7b0acceb5"
      },
      "execution_count": null,
      "outputs": [
        {
          "output_type": "execute_result",
          "data": {
            "text/plain": [
              "False"
            ]
          },
          "metadata": {},
          "execution_count": 6
        }
      ]
    },
    {
      "cell_type": "code",
      "source": [
        "#Q6\n",
        "def addum(*kwargs):\n",
        "  d={}\n",
        "  for i in kwargs:\n",
        "    d.update(i)\n",
        "  return d\n",
        "dic1={1:10, 2:20}\n",
        "dic2={3:30, 4:40}\n",
        "dic3={5:50,6:60}\n",
        "addum(dic1,dic2,dic3)"
      ],
      "metadata": {
        "colab": {
          "base_uri": "https://localhost:8080/"
        },
        "id": "MLFXGFl33xs2",
        "outputId": "36f70b0f-14dc-46c0-bc43-1ea59d048d47"
      },
      "execution_count": null,
      "outputs": [
        {
          "output_type": "execute_result",
          "data": {
            "text/plain": [
              "{1: 10, 2: 20, 3: 30, 4: 40, 5: 50, 6: 60}"
            ]
          },
          "metadata": {},
          "execution_count": 7
        }
      ]
    },
    {
      "cell_type": "code",
      "source": [
        "#Q7\n",
        "def men(k):\n",
        "  d={}\n",
        "  for i in k.split():\n",
        "    if i in d:\n",
        "      d[i]+=1\n",
        "    else:\n",
        "      d[i]=1\n",
        "  c11=[i for i in d if d[i]==max(d.values())]\n",
        "  c12=[d[i] for i in d if d[i]==max(d.values())]\n",
        "  return f\"{c11[0]}->{c12[0]}\"\n",
        "\n",
        "d1=\"hello how are you i am fine thank you\"\n",
        "men(d1)"
      ],
      "metadata": {
        "colab": {
          "base_uri": "https://localhost:8080/",
          "height": 36
        },
        "id": "PQHHBt6sBs0s",
        "outputId": "94a13e47-07a6-46de-d099-47fd4a3540e4"
      },
      "execution_count": null,
      "outputs": [
        {
          "output_type": "execute_result",
          "data": {
            "text/plain": [
              "'you->2'"
            ],
            "application/vnd.google.colaboratory.intrinsic+json": {
              "type": "string"
            }
          },
          "metadata": {},
          "execution_count": 21
        }
      ]
    },
    {
      "cell_type": "code",
      "source": [
        "#Q8\n",
        "import math\n",
        "c3=[13,42,15,37,22,39,41,50]\n",
        "def binner(s):\n",
        "  min_bin=math.floor(min(s)/10)*10\n",
        "  max_bin=math.ceil(max(s)/10)*10\n",
        "  print(min_bin)\n",
        "  print(max_bin)\n",
        "  d={}\n",
        "  for i in range(min_bin,max_bin,10):\n",
        "    count=0\n",
        "    for j in s:\n",
        "      if i<=j<=i+10:\n",
        "        count+=1\n",
        "    d[str(i)+\"-\"+str(i+10)]=count\n",
        "  return d\n",
        "binner(c3)\n"
      ],
      "metadata": {
        "colab": {
          "base_uri": "https://localhost:8080/"
        },
        "id": "dJ-VyaiYXLe2",
        "outputId": "48480f52-268d-4b89-9cb3-7f5c53c3ae0f"
      },
      "execution_count": null,
      "outputs": [
        {
          "output_type": "stream",
          "name": "stdout",
          "text": [
            "10\n",
            "50\n"
          ]
        },
        {
          "output_type": "execute_result",
          "data": {
            "text/plain": [
              "{'10-20': 2, '20-30': 1, '30-40': 2, '40-50': 3}"
            ]
          },
          "metadata": {},
          "execution_count": 28
        }
      ]
    },
    {
      "cell_type": "code",
      "source": [
        "import math\n",
        "c1=[13,42,15,37,22,39,41,50]\n",
        "def binbin(s):\n",
        "  min_bin=math.floor(min(s)/10)*10\n",
        "  max_bin=math.ceil(max(s)/10)*10\n",
        "  d={}\n",
        "  for i in range(min_bin,max_bin,10):\n",
        "    count=0#after end of every j loop count is equated with zero\n",
        "    for j in s:\n",
        "      if i<=j<=i+10:\n",
        "        count+=1\n",
        "    d[str(i)+\"-\"+str(i+10)]=count#this is executed after end of every j loop\n",
        "  return d\n",
        "binbin(c1)\n",
        "#when i is in between range of min to max then count will be 0 and then we enter next loop, so when j is in s and if j is between i and i+10 the count is incremented\n",
        "#again j goes to the next position and if j is between i and i+10 then count is incremented...this process is continued till we reach end of list s, after which i is incremented by 10\n",
        "#but after we reach the end of s list, a new key is added to d dictionary which is equated to count\n"
      ],
      "metadata": {
        "colab": {
          "base_uri": "https://localhost:8080/"
        },
        "id": "UJhTXSvRiaB9",
        "outputId": "052ac19e-fa4e-4dc4-d5fc-af3260d97de6"
      },
      "execution_count": null,
      "outputs": [
        {
          "output_type": "execute_result",
          "data": {
            "text/plain": [
              "{'10-20': 2, '20-30': 1, '30-40': 2, '40-50': 3}"
            ]
          },
          "metadata": {},
          "execution_count": 29
        }
      ]
    },
    {
      "cell_type": "code",
      "source": [
        "math.ceil(7.1)\n",
        "math.ceil(7)"
      ],
      "metadata": {
        "colab": {
          "base_uri": "https://localhost:8080/"
        },
        "id": "IF3pllfk6Ava",
        "outputId": "d26c9466-4d90-4b1d-bf2b-3f3ff624e9ef"
      },
      "execution_count": null,
      "outputs": [
        {
          "output_type": "execute_result",
          "data": {
            "text/plain": [
              "7"
            ]
          },
          "metadata": {},
          "execution_count": 32
        }
      ]
    },
    {
      "cell_type": "code",
      "source": [
        "math.ceil(7.1)"
      ],
      "metadata": {
        "colab": {
          "base_uri": "https://localhost:8080/"
        },
        "id": "DEvp9QG_6ZlQ",
        "outputId": "358af621-ab2e-44b4-d9f2-dcb27eebb067"
      },
      "execution_count": null,
      "outputs": [
        {
          "output_type": "execute_result",
          "data": {
            "text/plain": [
              "8"
            ]
          },
          "metadata": {},
          "execution_count": 33
        }
      ]
    },
    {
      "cell_type": "code",
      "source": [
        "math.floor(6.9)"
      ],
      "metadata": {
        "colab": {
          "base_uri": "https://localhost:8080/"
        },
        "id": "KjSD7NNV6_wB",
        "outputId": "480d58fc-be3d-4b05-bfb9-a09c28db3650"
      },
      "execution_count": null,
      "outputs": [
        {
          "output_type": "execute_result",
          "data": {
            "text/plain": [
              "6"
            ]
          },
          "metadata": {},
          "execution_count": 34
        }
      ]
    },
    {
      "cell_type": "code",
      "source": [
        "# Q9\n",
        "\n",
        "l1=[(1,1),(2,2),(3,3),(4,4)]\n",
        "q1=(0,0)\n",
        "def shorter(l1,q1):\n",
        "  l2=[]\n",
        "  for i in l1:\n",
        "    c1=((i[0]-q1[0])**2+(i[1]-q1[1])**2)**0.5\n",
        "    l2.append(c1)\n",
        "  return (l1[(sorted(list(enumerate(l2)),key=lambda x:x[1])[0][0])])\n",
        "shorter(l1,q1)"
      ],
      "metadata": {
        "colab": {
          "base_uri": "https://localhost:8080/"
        },
        "id": "zF3D5YlZ_Ecu",
        "outputId": "712e45ca-c8ce-4689-a3f3-b7d5951cb82d"
      },
      "execution_count": null,
      "outputs": [
        {
          "output_type": "execute_result",
          "data": {
            "text/plain": [
              "(1, 1)"
            ]
          },
          "metadata": {},
          "execution_count": 10
        }
      ]
    },
    {
      "cell_type": "code",
      "source": [
        "#Q10\n",
        "L=[\n",
        "    'cat mat rat cat',\n",
        "    'sat bat fat cat rat',\n",
        "    'pat cat mat rat'\n",
        "]\n",
        "def bow(s):\n",
        "  d1=set()\n",
        "  for i in s:\n",
        "    d1.update(i.split())\n",
        "  print(d1)\n",
        "  venn=[]\n",
        "  for i in s:\n",
        "    venn.append([])\n",
        "    for k in d1:\n",
        "      venn[-1].append(i.count(k))\n",
        "  return venn\n",
        "bow(L)\n",
        "#"
      ],
      "metadata": {
        "id": "nLXpvrLYh3es",
        "colab": {
          "base_uri": "https://localhost:8080/"
        },
        "outputId": "c45e08de-d7d8-4a39-bd31-2ce32c00b493"
      },
      "execution_count": null,
      "outputs": [
        {
          "output_type": "stream",
          "name": "stdout",
          "text": [
            "{'cat', 'rat', 'fat', 'pat', 'bat', 'mat', 'sat'}\n"
          ]
        },
        {
          "output_type": "execute_result",
          "data": {
            "text/plain": [
              "[[2, 1, 0, 0, 0, 1, 0], [1, 1, 1, 0, 1, 0, 1], [1, 1, 0, 1, 0, 1, 0]]"
            ]
          },
          "metadata": {},
          "execution_count": 14
        }
      ]
    },
    {
      "cell_type": "code",
      "source": [
        "s=\"dhoni bhaiya is a great warrior dhoni is a hero\"\n",
        "s.count(\"dhoni\")"
      ],
      "metadata": {
        "colab": {
          "base_uri": "https://localhost:8080/"
        },
        "id": "vfo5E-W0hZ11",
        "outputId": "2e2119a7-d53c-4a05-8022-1e6a45cd8b89"
      },
      "execution_count": null,
      "outputs": [
        {
          "output_type": "execute_result",
          "data": {
            "text/plain": [
              "2"
            ]
          },
          "metadata": {},
          "execution_count": 15
        }
      ]
    },
    {
      "cell_type": "code",
      "source": [
        "d=set()\n",
        "d.update(\"dhoni\")\n",
        "print(d)\n"
      ],
      "metadata": {
        "colab": {
          "base_uri": "https://localhost:8080/"
        },
        "id": "3Xquq1Hqhm7C",
        "outputId": "9be67e39-7461-41bb-e22a-f5cda7957cd2"
      },
      "execution_count": null,
      "outputs": [
        {
          "output_type": "stream",
          "name": "stdout",
          "text": [
            "{'d', 'i', 'o', 'n', 'h'}\n"
          ]
        }
      ]
    },
    {
      "cell_type": "code",
      "source": [
        "d.update(\"moni\")\n",
        "print(d)"
      ],
      "metadata": {
        "colab": {
          "base_uri": "https://localhost:8080/"
        },
        "id": "3nNZLUk8iNEt",
        "outputId": "db6fa996-26b6-4035-8c69-9145a231747d"
      },
      "execution_count": null,
      "outputs": [
        {
          "output_type": "stream",
          "name": "stdout",
          "text": [
            "{'d', 'i', 'm', 'o', 'n', 'h'}\n"
          ]
        }
      ]
    },
    {
      "cell_type": "code",
      "source": [
        "d.update([\"dhoni\"])\n",
        "print(d)"
      ],
      "metadata": {
        "colab": {
          "base_uri": "https://localhost:8080/"
        },
        "id": "r4W81C6qiYqM",
        "outputId": "549c7a3a-98da-4de5-e950-493d575cf92b"
      },
      "execution_count": null,
      "outputs": [
        {
          "output_type": "stream",
          "name": "stdout",
          "text": [
            "{'d', 'dhoni', 'i', 'm', 'o', 'n', 'h'}\n"
          ]
        }
      ]
    },
    {
      "cell_type": "code",
      "source": [
        "d.update([\"dhoni\",\"moni\"])\n",
        "print(d)\n",
        "#set.update(iterable)"
      ],
      "metadata": {
        "colab": {
          "base_uri": "https://localhost:8080/"
        },
        "id": "x5_1lnsVieDl",
        "outputId": "02d35a85-6a68-42e9-b20e-0c0db4ad2d82"
      },
      "execution_count": null,
      "outputs": [
        {
          "output_type": "stream",
          "name": "stdout",
          "text": [
            "{'d', 'dhoni', 'i', 'moni', 'm', 'o', 'n', 'h'}\n"
          ]
        }
      ]
    },
    {
      "cell_type": "code",
      "source": [
        "# Q10\n",
        "L=[\n",
        "    'cat mat rat cat',\n",
        "    'sat bat fat cat rat',\n",
        "    'pat cat mat rat'\n",
        "]\n",
        "def bow(s):\n",
        "  d1=set()\n",
        "  for i in s:\n",
        "    d1.update(i.split())\n",
        "  print(d1)\n",
        "  venn=[]\n",
        "  for i in s:\n",
        "    venn.append([])\n",
        "    for k in d1:\n",
        "      venn[-1].append(i.count(k))\n",
        "  return venn\n",
        "bow(L)\n",
        "#sets are mutable but don't take duplicates, tuples are immutable,sets contain only immutable items\n",
        "#sets are immutable,sets don't take duplicates and sets contain only immutable items"
      ],
      "metadata": {
        "colab": {
          "base_uri": "https://localhost:8080/"
        },
        "id": "GLLOOfDjqQ0J",
        "outputId": "10bdcd43-42b5-44cd-8e4c-c5839781c742"
      },
      "execution_count": null,
      "outputs": [
        {
          "output_type": "stream",
          "name": "stdout",
          "text": [
            "{'cat', 'rat', 'fat', 'pat', 'bat', 'mat', 'sat'}\n"
          ]
        },
        {
          "output_type": "execute_result",
          "data": {
            "text/plain": [
              "[[2, 1, 0, 0, 0, 1, 0], [1, 1, 1, 0, 1, 0, 1], [1, 1, 0, 1, 0, 1, 0]]"
            ]
          },
          "metadata": {},
          "execution_count": 21
        }
      ]
    },
    {
      "cell_type": "code",
      "source": [
        "d1={[1,2,3],4,'aman'}\n",
        "print(d1)"
      ],
      "metadata": {
        "colab": {
          "base_uri": "https://localhost:8080/",
          "height": 192
        },
        "id": "DCJqUpOYvo8x",
        "outputId": "d390c11e-2e45-40d1-d287-85c503e2d66f"
      },
      "execution_count": null,
      "outputs": [
        {
          "output_type": "error",
          "ename": "TypeError",
          "evalue": "ignored",
          "traceback": [
            "\u001b[0;31m---------------------------------------------------------------------------\u001b[0m",
            "\u001b[0;31mTypeError\u001b[0m                                 Traceback (most recent call last)",
            "\u001b[0;32m<ipython-input-22-b253cc61fddb>\u001b[0m in \u001b[0;36m<cell line: 1>\u001b[0;34m()\u001b[0m\n\u001b[0;32m----> 1\u001b[0;31m \u001b[0md1\u001b[0m\u001b[0;34m=\u001b[0m\u001b[0;34m{\u001b[0m\u001b[0;34m[\u001b[0m\u001b[0;36m1\u001b[0m\u001b[0;34m,\u001b[0m\u001b[0;36m2\u001b[0m\u001b[0;34m,\u001b[0m\u001b[0;36m3\u001b[0m\u001b[0;34m]\u001b[0m\u001b[0;34m,\u001b[0m\u001b[0;36m4\u001b[0m\u001b[0;34m,\u001b[0m\u001b[0;34m'aman'\u001b[0m\u001b[0;34m}\u001b[0m\u001b[0;34m\u001b[0m\u001b[0;34m\u001b[0m\u001b[0m\n\u001b[0m\u001b[1;32m      2\u001b[0m \u001b[0mprint\u001b[0m\u001b[0;34m(\u001b[0m\u001b[0md1\u001b[0m\u001b[0;34m)\u001b[0m\u001b[0;34m\u001b[0m\u001b[0;34m\u001b[0m\u001b[0m\n",
            "\u001b[0;31mTypeError\u001b[0m: unhashable type: 'list'"
          ]
        }
      ]
    },
    {
      "cell_type": "code",
      "source": [
        "#Q11\n",
        "l1=[1,2,3]\n",
        "l2=[4,5,6]\n",
        "l3=[7,8,9]\n",
        "list(map(lambda x,y,z:x+y+z,l1,l2,l3))\n",
        "#This is how 3 different lists can be included in lambda function of python....\n",
        "#using this lambda function we can deal with each element of three lists l1,l2 and l3 one at a time"
      ],
      "metadata": {
        "colab": {
          "base_uri": "https://localhost:8080/"
        },
        "id": "e5rPeUmXwHHO",
        "outputId": "141b99af-e1d6-4de8-ccd7-cb36d0b78891"
      },
      "execution_count": null,
      "outputs": [
        {
          "output_type": "execute_result",
          "data": {
            "text/plain": [
              "[12, 15, 18]"
            ]
          },
          "metadata": {},
          "execution_count": 23
        }
      ]
    },
    {
      "cell_type": "code",
      "source": [
        "#Q12\n",
        "list1 = [1,2,3,4,5,6]\n",
        "list(map(lambda x,y:x**y,list1,range(len(list1))))\n",
        "#we have two iterables here , first being the list and second being the range, and we can do operations with both the iterables simultaneously"
      ],
      "metadata": {
        "colab": {
          "base_uri": "https://localhost:8080/"
        },
        "id": "25VdX_Au_nyp",
        "outputId": "3836751c-3561-4fc9-adeb-7e076e53e0fd"
      },
      "execution_count": null,
      "outputs": [
        {
          "output_type": "execute_result",
          "data": {
            "text/plain": [
              "[1, 2, 9, 64, 625, 7776]"
            ]
          },
          "metadata": {},
          "execution_count": 1
        }
      ]
    },
    {
      "cell_type": "code",
      "source": [
        "c=\"FIFA world cup in 2022 will take place in Qatar\"\n",
        "list(filter(lambda x:x.lower() in ('a','e','i','o','u'),c))"
      ],
      "metadata": {
        "colab": {
          "base_uri": "https://localhost:8080/"
        },
        "id": "6zcX-eQlpMX2",
        "outputId": "367337ee-5c39-416d-b343-d170e4bcdb3a"
      },
      "execution_count": null,
      "outputs": [
        {
          "output_type": "execute_result",
          "data": {
            "text/plain": [
              "['I', 'A', 'o', 'u', 'i', 'i', 'a', 'e', 'a', 'e', 'i', 'a', 'a']"
            ]
          },
          "metadata": {},
          "execution_count": 2
        }
      ]
    },
    {
      "cell_type": "code",
      "source": [
        "#Another way of doing q-13\n",
        "list(filter(lambda x:True if x.lower() in \"aeiou\" else False,c))"
      ],
      "metadata": {
        "colab": {
          "base_uri": "https://localhost:8080/"
        },
        "id": "zIXn-An0qCPD",
        "outputId": "ab69c44d-d07d-4d7e-e991-d41cb25c2ed0"
      },
      "execution_count": null,
      "outputs": [
        {
          "output_type": "execute_result",
          "data": {
            "text/plain": [
              "['I', 'A', 'o', 'u', 'i', 'i', 'a', 'e', 'a', 'e', 'i', 'a', 'a']"
            ]
          },
          "metadata": {},
          "execution_count": 3
        }
      ]
    },
    {
      "cell_type": "code",
      "source": [
        "#Q14\n",
        "import functools\n",
        "list1=[[1,2,3],[4,5,6]]\n",
        "list(functools.reduce(lambda x,y:x+y,list1))"
      ],
      "metadata": {
        "colab": {
          "base_uri": "https://localhost:8080/"
        },
        "id": "csRwI50ssi9-",
        "outputId": "e0b27874-33f0-4f8e-8632-a3571aa59427"
      },
      "execution_count": null,
      "outputs": [
        {
          "output_type": "execute_result",
          "data": {
            "text/plain": [
              "[1, 2, 3, 4, 5, 6]"
            ]
          },
          "metadata": {},
          "execution_count": 4
        }
      ]
    },
    {
      "cell_type": "code",
      "source": [
        "[1,2,3]+[4,5,6]"
      ],
      "metadata": {
        "colab": {
          "base_uri": "https://localhost:8080/"
        },
        "id": "YSVauVTuthj8",
        "outputId": "62bd0454-8dfa-4c15-84b8-468501e04e3b"
      },
      "execution_count": null,
      "outputs": [
        {
          "output_type": "execute_result",
          "data": {
            "text/plain": [
              "[1, 2, 3, 4, 5, 6]"
            ]
          },
          "metadata": {},
          "execution_count": 5
        }
      ]
    },
    {
      "cell_type": "code",
      "source": [
        "#Q14\n",
        "import functools\n",
        "list1=[[1,2,3],[4,5,6],[7,8,9]]\n",
        "list(functools.reduce(lambda x,y:x+y,list1))\n",
        "#x and y is first two elements of list1, so [1,2,3]+[4,5,6] will give [1,2,3,4,5,6] now this is added with [7,8,9] to give [1,2,3,4,5,6,7,8,9]"
      ],
      "metadata": {
        "colab": {
          "base_uri": "https://localhost:8080/"
        },
        "id": "yDCC4Zudtloo",
        "outputId": "1e265b88-80fe-4fb5-cd5a-e18eebb18a23"
      },
      "execution_count": null,
      "outputs": [
        {
          "output_type": "execute_result",
          "data": {
            "text/plain": [
              "[1, 2, 3, 4, 5, 6, 7, 8, 9]"
            ]
          },
          "metadata": {},
          "execution_count": 6
        }
      ]
    },
    {
      "cell_type": "code",
      "source": [
        "#Q15\n",
        "employees = [\n",
        "    {\n",
        "        'fname':'Nitish',\n",
        "        'lname':'Singh',\n",
        "        'age' : 33,\n",
        "        'grade':'skilled'\n",
        "    },\n",
        "    {\n",
        "        'fname':'Ankit',\n",
        "        'lname':'Verma',\n",
        "        'age' : 34,\n",
        "        'grade':'semi-skilled'\n",
        "    },\n",
        "    {\n",
        "        'fname':'Neha',\n",
        "        'lname':'Singh',\n",
        "        'age' : 35,\n",
        "        'grade':'highly-skilled'\n",
        "    },\n",
        "    {\n",
        "        'fname':'Anurag',\n",
        "        'lname':'Kumar',\n",
        "        'age' : 30,\n",
        "        'grade':'skilled'\n",
        "    },\n",
        "    {\n",
        "        'fname':'Abhinav',\n",
        "        'lname':'Sharma',\n",
        "        'age' : 37,\n",
        "        'grade':'highly-skilled'\n",
        "    }\n",
        "\n",
        "]\n",
        "list(map(lambda x:x['fname']+' '+x['lname'],list(filter(lambda x:x['grade']=='highly-skilled',employees))))"
      ],
      "metadata": {
        "colab": {
          "base_uri": "https://localhost:8080/"
        },
        "id": "S5xA96WkxsEc",
        "outputId": "86b1dcf0-38da-4048-e1b8-3745aecc47e4"
      },
      "execution_count": null,
      "outputs": [
        {
          "output_type": "execute_result",
          "data": {
            "text/plain": [
              "['Neha Singh', 'Abhinav Sharma']"
            ]
          },
          "metadata": {},
          "execution_count": 9
        }
      ]
    },
    {
      "cell_type": "code",
      "source": [
        "l1=[-2,4,7,-1,6,-11,14,3,-1,-6]\n",
        "den1=[]\n",
        "den2=[]\n",
        "for i in range(len(l1)):\n",
        "  den=[]\n",
        "  for j in range(i,len(l1)):\n",
        "    den.append(l1[j])\n",
        "    den2.append(den)\n",
        "    print(den,sum(den))\n",
        "\n",
        "#As we can see here when den gets appeneded in every loop and becomes different each time\n",
        "\n"
      ],
      "metadata": {
        "colab": {
          "base_uri": "https://localhost:8080/"
        },
        "id": "XwAD0SpqwkJ9",
        "outputId": "41d98c85-94de-4008-b725-c3e413bf16e7"
      },
      "execution_count": null,
      "outputs": [
        {
          "output_type": "stream",
          "name": "stdout",
          "text": [
            "[-2] -2\n",
            "[-2, 4] 2\n",
            "[-2, 4, 7] 9\n",
            "[-2, 4, 7, -1] 8\n",
            "[-2, 4, 7, -1, 6] 14\n",
            "[-2, 4, 7, -1, 6, -11] 3\n",
            "[-2, 4, 7, -1, 6, -11, 14] 17\n",
            "[-2, 4, 7, -1, 6, -11, 14, 3] 20\n",
            "[-2, 4, 7, -1, 6, -11, 14, 3, -1] 19\n",
            "[-2, 4, 7, -1, 6, -11, 14, 3, -1, -6] 13\n",
            "[4] 4\n",
            "[4, 7] 11\n",
            "[4, 7, -1] 10\n",
            "[4, 7, -1, 6] 16\n",
            "[4, 7, -1, 6, -11] 5\n",
            "[4, 7, -1, 6, -11, 14] 19\n",
            "[4, 7, -1, 6, -11, 14, 3] 22\n",
            "[4, 7, -1, 6, -11, 14, 3, -1] 21\n",
            "[4, 7, -1, 6, -11, 14, 3, -1, -6] 15\n",
            "[7] 7\n",
            "[7, -1] 6\n",
            "[7, -1, 6] 12\n",
            "[7, -1, 6, -11] 1\n",
            "[7, -1, 6, -11, 14] 15\n",
            "[7, -1, 6, -11, 14, 3] 18\n",
            "[7, -1, 6, -11, 14, 3, -1] 17\n",
            "[7, -1, 6, -11, 14, 3, -1, -6] 11\n",
            "[-1] -1\n",
            "[-1, 6] 5\n",
            "[-1, 6, -11] -6\n",
            "[-1, 6, -11, 14] 8\n",
            "[-1, 6, -11, 14, 3] 11\n",
            "[-1, 6, -11, 14, 3, -1] 10\n",
            "[-1, 6, -11, 14, 3, -1, -6] 4\n",
            "[6] 6\n",
            "[6, -11] -5\n",
            "[6, -11, 14] 9\n",
            "[6, -11, 14, 3] 12\n",
            "[6, -11, 14, 3, -1] 11\n",
            "[6, -11, 14, 3, -1, -6] 5\n",
            "[-11] -11\n",
            "[-11, 14] 3\n",
            "[-11, 14, 3] 6\n",
            "[-11, 14, 3, -1] 5\n",
            "[-11, 14, 3, -1, -6] -1\n",
            "[14] 14\n",
            "[14, 3] 17\n",
            "[14, 3, -1] 16\n",
            "[14, 3, -1, -6] 10\n",
            "[3] 3\n",
            "[3, -1] 2\n",
            "[3, -1, -6] -4\n",
            "[-1] -1\n",
            "[-1, -6] -7\n",
            "[-6] -6\n"
          ]
        }
      ]
    },
    {
      "cell_type": "code",
      "source": [
        "a1=[]\n",
        "a2=[]\n",
        "for i in range(1,20):\n",
        "  a1.append(i)\n",
        "  a2.append(a1)\n",
        "  print(a1,a2)\n",
        "#a2.append(a1) here we are directly passing a1 to a2(here a1 is a reference to a2), so any change in a1 will get reflected in a2\n",
        "#thus when a1 is incremented in the second loop ,it will get reflected in both the items of a2, again in the third loop a1 gets inremented with 3\n",
        "#and this change is now appeneded to all the three items\n"
      ],
      "metadata": {
        "colab": {
          "base_uri": "https://localhost:8080/"
        },
        "id": "E1ZJPBDjNP-R",
        "outputId": "80972700-c669-414b-d0a8-1bc558af73a1"
      },
      "execution_count": null,
      "outputs": [
        {
          "output_type": "stream",
          "name": "stdout",
          "text": [
            "[1] [[1]]\n",
            "[1, 2] [[1, 2], [1, 2]]\n",
            "[1, 2, 3] [[1, 2, 3], [1, 2, 3], [1, 2, 3]]\n",
            "[1, 2, 3, 4] [[1, 2, 3, 4], [1, 2, 3, 4], [1, 2, 3, 4], [1, 2, 3, 4]]\n",
            "[1, 2, 3, 4, 5] [[1, 2, 3, 4, 5], [1, 2, 3, 4, 5], [1, 2, 3, 4, 5], [1, 2, 3, 4, 5], [1, 2, 3, 4, 5]]\n",
            "[1, 2, 3, 4, 5, 6] [[1, 2, 3, 4, 5, 6], [1, 2, 3, 4, 5, 6], [1, 2, 3, 4, 5, 6], [1, 2, 3, 4, 5, 6], [1, 2, 3, 4, 5, 6], [1, 2, 3, 4, 5, 6]]\n",
            "[1, 2, 3, 4, 5, 6, 7] [[1, 2, 3, 4, 5, 6, 7], [1, 2, 3, 4, 5, 6, 7], [1, 2, 3, 4, 5, 6, 7], [1, 2, 3, 4, 5, 6, 7], [1, 2, 3, 4, 5, 6, 7], [1, 2, 3, 4, 5, 6, 7], [1, 2, 3, 4, 5, 6, 7]]\n",
            "[1, 2, 3, 4, 5, 6, 7, 8] [[1, 2, 3, 4, 5, 6, 7, 8], [1, 2, 3, 4, 5, 6, 7, 8], [1, 2, 3, 4, 5, 6, 7, 8], [1, 2, 3, 4, 5, 6, 7, 8], [1, 2, 3, 4, 5, 6, 7, 8], [1, 2, 3, 4, 5, 6, 7, 8], [1, 2, 3, 4, 5, 6, 7, 8], [1, 2, 3, 4, 5, 6, 7, 8]]\n",
            "[1, 2, 3, 4, 5, 6, 7, 8, 9] [[1, 2, 3, 4, 5, 6, 7, 8, 9], [1, 2, 3, 4, 5, 6, 7, 8, 9], [1, 2, 3, 4, 5, 6, 7, 8, 9], [1, 2, 3, 4, 5, 6, 7, 8, 9], [1, 2, 3, 4, 5, 6, 7, 8, 9], [1, 2, 3, 4, 5, 6, 7, 8, 9], [1, 2, 3, 4, 5, 6, 7, 8, 9], [1, 2, 3, 4, 5, 6, 7, 8, 9], [1, 2, 3, 4, 5, 6, 7, 8, 9]]\n",
            "[1, 2, 3, 4, 5, 6, 7, 8, 9, 10] [[1, 2, 3, 4, 5, 6, 7, 8, 9, 10], [1, 2, 3, 4, 5, 6, 7, 8, 9, 10], [1, 2, 3, 4, 5, 6, 7, 8, 9, 10], [1, 2, 3, 4, 5, 6, 7, 8, 9, 10], [1, 2, 3, 4, 5, 6, 7, 8, 9, 10], [1, 2, 3, 4, 5, 6, 7, 8, 9, 10], [1, 2, 3, 4, 5, 6, 7, 8, 9, 10], [1, 2, 3, 4, 5, 6, 7, 8, 9, 10], [1, 2, 3, 4, 5, 6, 7, 8, 9, 10], [1, 2, 3, 4, 5, 6, 7, 8, 9, 10]]\n",
            "[1, 2, 3, 4, 5, 6, 7, 8, 9, 10, 11] [[1, 2, 3, 4, 5, 6, 7, 8, 9, 10, 11], [1, 2, 3, 4, 5, 6, 7, 8, 9, 10, 11], [1, 2, 3, 4, 5, 6, 7, 8, 9, 10, 11], [1, 2, 3, 4, 5, 6, 7, 8, 9, 10, 11], [1, 2, 3, 4, 5, 6, 7, 8, 9, 10, 11], [1, 2, 3, 4, 5, 6, 7, 8, 9, 10, 11], [1, 2, 3, 4, 5, 6, 7, 8, 9, 10, 11], [1, 2, 3, 4, 5, 6, 7, 8, 9, 10, 11], [1, 2, 3, 4, 5, 6, 7, 8, 9, 10, 11], [1, 2, 3, 4, 5, 6, 7, 8, 9, 10, 11], [1, 2, 3, 4, 5, 6, 7, 8, 9, 10, 11]]\n",
            "[1, 2, 3, 4, 5, 6, 7, 8, 9, 10, 11, 12] [[1, 2, 3, 4, 5, 6, 7, 8, 9, 10, 11, 12], [1, 2, 3, 4, 5, 6, 7, 8, 9, 10, 11, 12], [1, 2, 3, 4, 5, 6, 7, 8, 9, 10, 11, 12], [1, 2, 3, 4, 5, 6, 7, 8, 9, 10, 11, 12], [1, 2, 3, 4, 5, 6, 7, 8, 9, 10, 11, 12], [1, 2, 3, 4, 5, 6, 7, 8, 9, 10, 11, 12], [1, 2, 3, 4, 5, 6, 7, 8, 9, 10, 11, 12], [1, 2, 3, 4, 5, 6, 7, 8, 9, 10, 11, 12], [1, 2, 3, 4, 5, 6, 7, 8, 9, 10, 11, 12], [1, 2, 3, 4, 5, 6, 7, 8, 9, 10, 11, 12], [1, 2, 3, 4, 5, 6, 7, 8, 9, 10, 11, 12], [1, 2, 3, 4, 5, 6, 7, 8, 9, 10, 11, 12]]\n",
            "[1, 2, 3, 4, 5, 6, 7, 8, 9, 10, 11, 12, 13] [[1, 2, 3, 4, 5, 6, 7, 8, 9, 10, 11, 12, 13], [1, 2, 3, 4, 5, 6, 7, 8, 9, 10, 11, 12, 13], [1, 2, 3, 4, 5, 6, 7, 8, 9, 10, 11, 12, 13], [1, 2, 3, 4, 5, 6, 7, 8, 9, 10, 11, 12, 13], [1, 2, 3, 4, 5, 6, 7, 8, 9, 10, 11, 12, 13], [1, 2, 3, 4, 5, 6, 7, 8, 9, 10, 11, 12, 13], [1, 2, 3, 4, 5, 6, 7, 8, 9, 10, 11, 12, 13], [1, 2, 3, 4, 5, 6, 7, 8, 9, 10, 11, 12, 13], [1, 2, 3, 4, 5, 6, 7, 8, 9, 10, 11, 12, 13], [1, 2, 3, 4, 5, 6, 7, 8, 9, 10, 11, 12, 13], [1, 2, 3, 4, 5, 6, 7, 8, 9, 10, 11, 12, 13], [1, 2, 3, 4, 5, 6, 7, 8, 9, 10, 11, 12, 13], [1, 2, 3, 4, 5, 6, 7, 8, 9, 10, 11, 12, 13]]\n",
            "[1, 2, 3, 4, 5, 6, 7, 8, 9, 10, 11, 12, 13, 14] [[1, 2, 3, 4, 5, 6, 7, 8, 9, 10, 11, 12, 13, 14], [1, 2, 3, 4, 5, 6, 7, 8, 9, 10, 11, 12, 13, 14], [1, 2, 3, 4, 5, 6, 7, 8, 9, 10, 11, 12, 13, 14], [1, 2, 3, 4, 5, 6, 7, 8, 9, 10, 11, 12, 13, 14], [1, 2, 3, 4, 5, 6, 7, 8, 9, 10, 11, 12, 13, 14], [1, 2, 3, 4, 5, 6, 7, 8, 9, 10, 11, 12, 13, 14], [1, 2, 3, 4, 5, 6, 7, 8, 9, 10, 11, 12, 13, 14], [1, 2, 3, 4, 5, 6, 7, 8, 9, 10, 11, 12, 13, 14], [1, 2, 3, 4, 5, 6, 7, 8, 9, 10, 11, 12, 13, 14], [1, 2, 3, 4, 5, 6, 7, 8, 9, 10, 11, 12, 13, 14], [1, 2, 3, 4, 5, 6, 7, 8, 9, 10, 11, 12, 13, 14], [1, 2, 3, 4, 5, 6, 7, 8, 9, 10, 11, 12, 13, 14], [1, 2, 3, 4, 5, 6, 7, 8, 9, 10, 11, 12, 13, 14], [1, 2, 3, 4, 5, 6, 7, 8, 9, 10, 11, 12, 13, 14]]\n",
            "[1, 2, 3, 4, 5, 6, 7, 8, 9, 10, 11, 12, 13, 14, 15] [[1, 2, 3, 4, 5, 6, 7, 8, 9, 10, 11, 12, 13, 14, 15], [1, 2, 3, 4, 5, 6, 7, 8, 9, 10, 11, 12, 13, 14, 15], [1, 2, 3, 4, 5, 6, 7, 8, 9, 10, 11, 12, 13, 14, 15], [1, 2, 3, 4, 5, 6, 7, 8, 9, 10, 11, 12, 13, 14, 15], [1, 2, 3, 4, 5, 6, 7, 8, 9, 10, 11, 12, 13, 14, 15], [1, 2, 3, 4, 5, 6, 7, 8, 9, 10, 11, 12, 13, 14, 15], [1, 2, 3, 4, 5, 6, 7, 8, 9, 10, 11, 12, 13, 14, 15], [1, 2, 3, 4, 5, 6, 7, 8, 9, 10, 11, 12, 13, 14, 15], [1, 2, 3, 4, 5, 6, 7, 8, 9, 10, 11, 12, 13, 14, 15], [1, 2, 3, 4, 5, 6, 7, 8, 9, 10, 11, 12, 13, 14, 15], [1, 2, 3, 4, 5, 6, 7, 8, 9, 10, 11, 12, 13, 14, 15], [1, 2, 3, 4, 5, 6, 7, 8, 9, 10, 11, 12, 13, 14, 15], [1, 2, 3, 4, 5, 6, 7, 8, 9, 10, 11, 12, 13, 14, 15], [1, 2, 3, 4, 5, 6, 7, 8, 9, 10, 11, 12, 13, 14, 15], [1, 2, 3, 4, 5, 6, 7, 8, 9, 10, 11, 12, 13, 14, 15]]\n",
            "[1, 2, 3, 4, 5, 6, 7, 8, 9, 10, 11, 12, 13, 14, 15, 16] [[1, 2, 3, 4, 5, 6, 7, 8, 9, 10, 11, 12, 13, 14, 15, 16], [1, 2, 3, 4, 5, 6, 7, 8, 9, 10, 11, 12, 13, 14, 15, 16], [1, 2, 3, 4, 5, 6, 7, 8, 9, 10, 11, 12, 13, 14, 15, 16], [1, 2, 3, 4, 5, 6, 7, 8, 9, 10, 11, 12, 13, 14, 15, 16], [1, 2, 3, 4, 5, 6, 7, 8, 9, 10, 11, 12, 13, 14, 15, 16], [1, 2, 3, 4, 5, 6, 7, 8, 9, 10, 11, 12, 13, 14, 15, 16], [1, 2, 3, 4, 5, 6, 7, 8, 9, 10, 11, 12, 13, 14, 15, 16], [1, 2, 3, 4, 5, 6, 7, 8, 9, 10, 11, 12, 13, 14, 15, 16], [1, 2, 3, 4, 5, 6, 7, 8, 9, 10, 11, 12, 13, 14, 15, 16], [1, 2, 3, 4, 5, 6, 7, 8, 9, 10, 11, 12, 13, 14, 15, 16], [1, 2, 3, 4, 5, 6, 7, 8, 9, 10, 11, 12, 13, 14, 15, 16], [1, 2, 3, 4, 5, 6, 7, 8, 9, 10, 11, 12, 13, 14, 15, 16], [1, 2, 3, 4, 5, 6, 7, 8, 9, 10, 11, 12, 13, 14, 15, 16], [1, 2, 3, 4, 5, 6, 7, 8, 9, 10, 11, 12, 13, 14, 15, 16], [1, 2, 3, 4, 5, 6, 7, 8, 9, 10, 11, 12, 13, 14, 15, 16], [1, 2, 3, 4, 5, 6, 7, 8, 9, 10, 11, 12, 13, 14, 15, 16]]\n",
            "[1, 2, 3, 4, 5, 6, 7, 8, 9, 10, 11, 12, 13, 14, 15, 16, 17] [[1, 2, 3, 4, 5, 6, 7, 8, 9, 10, 11, 12, 13, 14, 15, 16, 17], [1, 2, 3, 4, 5, 6, 7, 8, 9, 10, 11, 12, 13, 14, 15, 16, 17], [1, 2, 3, 4, 5, 6, 7, 8, 9, 10, 11, 12, 13, 14, 15, 16, 17], [1, 2, 3, 4, 5, 6, 7, 8, 9, 10, 11, 12, 13, 14, 15, 16, 17], [1, 2, 3, 4, 5, 6, 7, 8, 9, 10, 11, 12, 13, 14, 15, 16, 17], [1, 2, 3, 4, 5, 6, 7, 8, 9, 10, 11, 12, 13, 14, 15, 16, 17], [1, 2, 3, 4, 5, 6, 7, 8, 9, 10, 11, 12, 13, 14, 15, 16, 17], [1, 2, 3, 4, 5, 6, 7, 8, 9, 10, 11, 12, 13, 14, 15, 16, 17], [1, 2, 3, 4, 5, 6, 7, 8, 9, 10, 11, 12, 13, 14, 15, 16, 17], [1, 2, 3, 4, 5, 6, 7, 8, 9, 10, 11, 12, 13, 14, 15, 16, 17], [1, 2, 3, 4, 5, 6, 7, 8, 9, 10, 11, 12, 13, 14, 15, 16, 17], [1, 2, 3, 4, 5, 6, 7, 8, 9, 10, 11, 12, 13, 14, 15, 16, 17], [1, 2, 3, 4, 5, 6, 7, 8, 9, 10, 11, 12, 13, 14, 15, 16, 17], [1, 2, 3, 4, 5, 6, 7, 8, 9, 10, 11, 12, 13, 14, 15, 16, 17], [1, 2, 3, 4, 5, 6, 7, 8, 9, 10, 11, 12, 13, 14, 15, 16, 17], [1, 2, 3, 4, 5, 6, 7, 8, 9, 10, 11, 12, 13, 14, 15, 16, 17], [1, 2, 3, 4, 5, 6, 7, 8, 9, 10, 11, 12, 13, 14, 15, 16, 17]]\n",
            "[1, 2, 3, 4, 5, 6, 7, 8, 9, 10, 11, 12, 13, 14, 15, 16, 17, 18] [[1, 2, 3, 4, 5, 6, 7, 8, 9, 10, 11, 12, 13, 14, 15, 16, 17, 18], [1, 2, 3, 4, 5, 6, 7, 8, 9, 10, 11, 12, 13, 14, 15, 16, 17, 18], [1, 2, 3, 4, 5, 6, 7, 8, 9, 10, 11, 12, 13, 14, 15, 16, 17, 18], [1, 2, 3, 4, 5, 6, 7, 8, 9, 10, 11, 12, 13, 14, 15, 16, 17, 18], [1, 2, 3, 4, 5, 6, 7, 8, 9, 10, 11, 12, 13, 14, 15, 16, 17, 18], [1, 2, 3, 4, 5, 6, 7, 8, 9, 10, 11, 12, 13, 14, 15, 16, 17, 18], [1, 2, 3, 4, 5, 6, 7, 8, 9, 10, 11, 12, 13, 14, 15, 16, 17, 18], [1, 2, 3, 4, 5, 6, 7, 8, 9, 10, 11, 12, 13, 14, 15, 16, 17, 18], [1, 2, 3, 4, 5, 6, 7, 8, 9, 10, 11, 12, 13, 14, 15, 16, 17, 18], [1, 2, 3, 4, 5, 6, 7, 8, 9, 10, 11, 12, 13, 14, 15, 16, 17, 18], [1, 2, 3, 4, 5, 6, 7, 8, 9, 10, 11, 12, 13, 14, 15, 16, 17, 18], [1, 2, 3, 4, 5, 6, 7, 8, 9, 10, 11, 12, 13, 14, 15, 16, 17, 18], [1, 2, 3, 4, 5, 6, 7, 8, 9, 10, 11, 12, 13, 14, 15, 16, 17, 18], [1, 2, 3, 4, 5, 6, 7, 8, 9, 10, 11, 12, 13, 14, 15, 16, 17, 18], [1, 2, 3, 4, 5, 6, 7, 8, 9, 10, 11, 12, 13, 14, 15, 16, 17, 18], [1, 2, 3, 4, 5, 6, 7, 8, 9, 10, 11, 12, 13, 14, 15, 16, 17, 18], [1, 2, 3, 4, 5, 6, 7, 8, 9, 10, 11, 12, 13, 14, 15, 16, 17, 18], [1, 2, 3, 4, 5, 6, 7, 8, 9, 10, 11, 12, 13, 14, 15, 16, 17, 18]]\n",
            "[1, 2, 3, 4, 5, 6, 7, 8, 9, 10, 11, 12, 13, 14, 15, 16, 17, 18, 19] [[1, 2, 3, 4, 5, 6, 7, 8, 9, 10, 11, 12, 13, 14, 15, 16, 17, 18, 19], [1, 2, 3, 4, 5, 6, 7, 8, 9, 10, 11, 12, 13, 14, 15, 16, 17, 18, 19], [1, 2, 3, 4, 5, 6, 7, 8, 9, 10, 11, 12, 13, 14, 15, 16, 17, 18, 19], [1, 2, 3, 4, 5, 6, 7, 8, 9, 10, 11, 12, 13, 14, 15, 16, 17, 18, 19], [1, 2, 3, 4, 5, 6, 7, 8, 9, 10, 11, 12, 13, 14, 15, 16, 17, 18, 19], [1, 2, 3, 4, 5, 6, 7, 8, 9, 10, 11, 12, 13, 14, 15, 16, 17, 18, 19], [1, 2, 3, 4, 5, 6, 7, 8, 9, 10, 11, 12, 13, 14, 15, 16, 17, 18, 19], [1, 2, 3, 4, 5, 6, 7, 8, 9, 10, 11, 12, 13, 14, 15, 16, 17, 18, 19], [1, 2, 3, 4, 5, 6, 7, 8, 9, 10, 11, 12, 13, 14, 15, 16, 17, 18, 19], [1, 2, 3, 4, 5, 6, 7, 8, 9, 10, 11, 12, 13, 14, 15, 16, 17, 18, 19], [1, 2, 3, 4, 5, 6, 7, 8, 9, 10, 11, 12, 13, 14, 15, 16, 17, 18, 19], [1, 2, 3, 4, 5, 6, 7, 8, 9, 10, 11, 12, 13, 14, 15, 16, 17, 18, 19], [1, 2, 3, 4, 5, 6, 7, 8, 9, 10, 11, 12, 13, 14, 15, 16, 17, 18, 19], [1, 2, 3, 4, 5, 6, 7, 8, 9, 10, 11, 12, 13, 14, 15, 16, 17, 18, 19], [1, 2, 3, 4, 5, 6, 7, 8, 9, 10, 11, 12, 13, 14, 15, 16, 17, 18, 19], [1, 2, 3, 4, 5, 6, 7, 8, 9, 10, 11, 12, 13, 14, 15, 16, 17, 18, 19], [1, 2, 3, 4, 5, 6, 7, 8, 9, 10, 11, 12, 13, 14, 15, 16, 17, 18, 19], [1, 2, 3, 4, 5, 6, 7, 8, 9, 10, 11, 12, 13, 14, 15, 16, 17, 18, 19], [1, 2, 3, 4, 5, 6, 7, 8, 9, 10, 11, 12, 13, 14, 15, 16, 17, 18, 19]]\n"
          ]
        }
      ]
    },
    {
      "cell_type": "code",
      "source": [
        "print(den2)"
      ],
      "metadata": {
        "colab": {
          "base_uri": "https://localhost:8080/"
        },
        "id": "QbFqXNW707SK",
        "outputId": "1474eabe-7bf3-4c2e-8d86-345324d6959c"
      },
      "execution_count": null,
      "outputs": [
        {
          "output_type": "stream",
          "name": "stdout",
          "text": [
            "[[-2, 4, 7, -1, 6, -11, 14, 3, -1, -6], [-2, 4, 7, -1, 6, -11, 14, 3, -1, -6], [-2, 4, 7, -1, 6, -11, 14, 3, -1, -6], [-2, 4, 7, -1, 6, -11, 14, 3, -1, -6], [-2, 4, 7, -1, 6, -11, 14, 3, -1, -6], [-2, 4, 7, -1, 6, -11, 14, 3, -1, -6], [-2, 4, 7, -1, 6, -11, 14, 3, -1, -6], [-2, 4, 7, -1, 6, -11, 14, 3, -1, -6], [-2, 4, 7, -1, 6, -11, 14, 3, -1, -6], [-2, 4, 7, -1, 6, -11, 14, 3, -1, -6], [4, 7, -1, 6, -11, 14, 3, -1, -6], [4, 7, -1, 6, -11, 14, 3, -1, -6], [4, 7, -1, 6, -11, 14, 3, -1, -6], [4, 7, -1, 6, -11, 14, 3, -1, -6], [4, 7, -1, 6, -11, 14, 3, -1, -6], [4, 7, -1, 6, -11, 14, 3, -1, -6], [4, 7, -1, 6, -11, 14, 3, -1, -6], [4, 7, -1, 6, -11, 14, 3, -1, -6], [4, 7, -1, 6, -11, 14, 3, -1, -6], [7, -1, 6, -11, 14, 3, -1, -6], [7, -1, 6, -11, 14, 3, -1, -6], [7, -1, 6, -11, 14, 3, -1, -6], [7, -1, 6, -11, 14, 3, -1, -6], [7, -1, 6, -11, 14, 3, -1, -6], [7, -1, 6, -11, 14, 3, -1, -6], [7, -1, 6, -11, 14, 3, -1, -6], [7, -1, 6, -11, 14, 3, -1, -6], [-1, 6, -11, 14, 3, -1, -6], [-1, 6, -11, 14, 3, -1, -6], [-1, 6, -11, 14, 3, -1, -6], [-1, 6, -11, 14, 3, -1, -6], [-1, 6, -11, 14, 3, -1, -6], [-1, 6, -11, 14, 3, -1, -6], [-1, 6, -11, 14, 3, -1, -6], [6, -11, 14, 3, -1, -6], [6, -11, 14, 3, -1, -6], [6, -11, 14, 3, -1, -6], [6, -11, 14, 3, -1, -6], [6, -11, 14, 3, -1, -6], [6, -11, 14, 3, -1, -6], [-11, 14, 3, -1, -6], [-11, 14, 3, -1, -6], [-11, 14, 3, -1, -6], [-11, 14, 3, -1, -6], [-11, 14, 3, -1, -6], [14, 3, -1, -6], [14, 3, -1, -6], [14, 3, -1, -6], [14, 3, -1, -6], [3, -1, -6], [3, -1, -6], [3, -1, -6], [-1, -6], [-1, -6], [-6]]\n"
          ]
        }
      ]
    },
    {
      "cell_type": "code",
      "source": [
        "a1=[]\n",
        "a2=[]\n",
        "for i in range(1,5):\n",
        "  a1.append(i)\n",
        "  a3=a1.copy()\n",
        "  a2.append(a3)\n",
        "  print(a1,a2)\n",
        "#in order to remove the reference of a1, we can use copy() method\n",
        "#a2.append(a1) is passing of reference to a2 hence any change in a1 will be reflected to each items of a2\n",
        "#on the other hand a2.append(a1.copy()) is actual just a copy of a1 , when you do a1.copy(), a new list is created each time and is appened to a2, we don't have any reference to\n",
        "#a1,hence any change in a1 list will not be applied to each item of a2"
      ],
      "metadata": {
        "colab": {
          "base_uri": "https://localhost:8080/"
        },
        "id": "6V-22TAuzkja",
        "outputId": "5895708e-5255-48b5-e993-0160251334d9"
      },
      "execution_count": null,
      "outputs": [
        {
          "output_type": "stream",
          "name": "stdout",
          "text": [
            "[1] [[1]]\n",
            "[1, 2] [[1], [1, 2]]\n",
            "[1, 2, 3] [[1], [1, 2], [1, 2, 3]]\n",
            "[1, 2, 3, 4] [[1], [1, 2], [1, 2, 3], [1, 2, 3, 4]]\n"
          ]
        }
      ]
    },
    {
      "cell_type": "code",
      "source": [
        "l1=[-2,4,7,-1,6,-11,14,3,-1,-6]\n",
        "den1=[]\n",
        "den3=[]\n",
        "for i in range(len(l1)):\n",
        "  den=[]\n",
        "  for j in range(i,len(l1)):\n",
        "    den.append(l1[j])\n",
        "    den1.append(den.copy())\n",
        "    den3.append(sum(den))\n",
        "print(den1[den3.index(max(den3))])\n",
        "#This is one way of finding the maximum value subset"
      ],
      "metadata": {
        "colab": {
          "base_uri": "https://localhost:8080/"
        },
        "id": "KREMeEAmnJyX",
        "outputId": "6bf7d327-3add-4f41-e8a8-05fe3f9988e9"
      },
      "execution_count": null,
      "outputs": [
        {
          "output_type": "stream",
          "name": "stdout",
          "text": [
            "[4, 7, -1, 6, -11, 14, 3]\n"
          ]
        }
      ]
    },
    {
      "cell_type": "code",
      "source": [
        "l1=[-2,4,7,-1,6,-11,14,3,-1,-6]\n",
        "d3={}\n",
        "for i in range(len(l1)):\n",
        "  den=[]\n",
        "  for j in range(i,len(l1)):\n",
        "    den.append(l1[j])\n",
        "    d12=den.copy()\n",
        "    d3[sum(d12)]=d12\n",
        "print(type(d3.keys()))\n",
        "print(d3.keys())\n",
        "print(list(d3.keys()))\n",
        "print(max(list(d3.keys())))\n",
        "print(d3)"
      ],
      "metadata": {
        "colab": {
          "base_uri": "https://localhost:8080/",
          "height": 279
        },
        "id": "POeOXlw_qZhV",
        "outputId": "75347c2f-1491-4867-9bb4-78b860e6f580"
      },
      "execution_count": null,
      "outputs": [
        {
          "output_type": "stream",
          "name": "stdout",
          "text": [
            "<class 'dict_keys'>\n",
            "dict_keys([-2, 2, 9, 8, 14, 3, 17, 20, 19, 13, 4, 11, 10, 16, 5, 22, 21, 15, 7, 6, 12, 1, 18, -1, -6, -5, -11, -4, -7])\n",
            "[-2, 2, 9, 8, 14, 3, 17, 20, 19, 13, 4, 11, 10, 16, 5, 22, 21, 15, 7, 6, 12, 1, 18, -1, -6, -5, -11, -4, -7]\n"
          ]
        },
        {
          "output_type": "error",
          "ename": "TypeError",
          "evalue": "ignored",
          "traceback": [
            "\u001b[0;31m---------------------------------------------------------------------------\u001b[0m",
            "\u001b[0;31mTypeError\u001b[0m                                 Traceback (most recent call last)",
            "\u001b[0;32m<ipython-input-46-eaf94cb5e568>\u001b[0m in \u001b[0;36m<cell line: 12>\u001b[0;34m()\u001b[0m\n\u001b[1;32m     10\u001b[0m \u001b[0mprint\u001b[0m\u001b[0;34m(\u001b[0m\u001b[0md3\u001b[0m\u001b[0;34m.\u001b[0m\u001b[0mkeys\u001b[0m\u001b[0;34m(\u001b[0m\u001b[0;34m)\u001b[0m\u001b[0;34m)\u001b[0m\u001b[0;34m\u001b[0m\u001b[0;34m\u001b[0m\u001b[0m\n\u001b[1;32m     11\u001b[0m \u001b[0mprint\u001b[0m\u001b[0;34m(\u001b[0m\u001b[0mlist\u001b[0m\u001b[0;34m(\u001b[0m\u001b[0md3\u001b[0m\u001b[0;34m.\u001b[0m\u001b[0mkeys\u001b[0m\u001b[0;34m(\u001b[0m\u001b[0;34m)\u001b[0m\u001b[0;34m)\u001b[0m\u001b[0;34m)\u001b[0m\u001b[0;34m\u001b[0m\u001b[0;34m\u001b[0m\u001b[0m\n\u001b[0;32m---> 12\u001b[0;31m \u001b[0mprint\u001b[0m\u001b[0;34m(\u001b[0m\u001b[0mmax\u001b[0m\u001b[0;34m(\u001b[0m\u001b[0mlist\u001b[0m\u001b[0;34m(\u001b[0m\u001b[0md3\u001b[0m\u001b[0;34m.\u001b[0m\u001b[0mkeys\u001b[0m\u001b[0;34m(\u001b[0m\u001b[0;34m)\u001b[0m\u001b[0;34m)\u001b[0m\u001b[0;34m)\u001b[0m\u001b[0;34m)\u001b[0m\u001b[0;34m\u001b[0m\u001b[0;34m\u001b[0m\u001b[0m\n\u001b[0m\u001b[1;32m     13\u001b[0m \u001b[0mprint\u001b[0m\u001b[0;34m(\u001b[0m\u001b[0md3\u001b[0m\u001b[0;34m)\u001b[0m\u001b[0;34m\u001b[0m\u001b[0;34m\u001b[0m\u001b[0m\n",
            "\u001b[0;31mTypeError\u001b[0m: 'int' object is not callable"
          ]
        }
      ]
    },
    {
      "cell_type": "code",
      "source": [
        "# Sample dictionary\n",
        "my_dict = {'a': 10, 'b': 20, 'c': 30, 'd': 5}\n",
        "\n",
        "# Find the maximum key using max() and keys()\n",
        "max_key = max(my_dict.keys())\n",
        "\n",
        "print(\"Maximum Key:\", max_key)\n"
      ],
      "metadata": {
        "colab": {
          "base_uri": "https://localhost:8080/",
          "height": 245
        },
        "id": "odlBHlf3Al6_",
        "outputId": "e4a6da5c-6bdb-43c5-a0d6-629925adfb47"
      },
      "execution_count": null,
      "outputs": [
        {
          "output_type": "error",
          "ename": "TypeError",
          "evalue": "ignored",
          "traceback": [
            "\u001b[0;31m---------------------------------------------------------------------------\u001b[0m",
            "\u001b[0;31mTypeError\u001b[0m                                 Traceback (most recent call last)",
            "\u001b[0;32m<ipython-input-47-7e1667057b3f>\u001b[0m in \u001b[0;36m<cell line: 5>\u001b[0;34m()\u001b[0m\n\u001b[1;32m      3\u001b[0m \u001b[0;34m\u001b[0m\u001b[0m\n\u001b[1;32m      4\u001b[0m \u001b[0;31m# Find the maximum key using max() and keys()\u001b[0m\u001b[0;34m\u001b[0m\u001b[0;34m\u001b[0m\u001b[0m\n\u001b[0;32m----> 5\u001b[0;31m \u001b[0mmax_key\u001b[0m \u001b[0;34m=\u001b[0m \u001b[0mmax\u001b[0m\u001b[0;34m(\u001b[0m\u001b[0mmy_dict\u001b[0m\u001b[0;34m.\u001b[0m\u001b[0mkeys\u001b[0m\u001b[0;34m(\u001b[0m\u001b[0;34m)\u001b[0m\u001b[0;34m)\u001b[0m\u001b[0;34m\u001b[0m\u001b[0;34m\u001b[0m\u001b[0m\n\u001b[0m\u001b[1;32m      6\u001b[0m \u001b[0;34m\u001b[0m\u001b[0m\n\u001b[1;32m      7\u001b[0m \u001b[0mprint\u001b[0m\u001b[0;34m(\u001b[0m\u001b[0;34m\"Maximum Key:\"\u001b[0m\u001b[0;34m,\u001b[0m \u001b[0mmax_key\u001b[0m\u001b[0;34m)\u001b[0m\u001b[0;34m\u001b[0m\u001b[0;34m\u001b[0m\u001b[0m\n",
            "\u001b[0;31mTypeError\u001b[0m: 'int' object is not callable"
          ]
        }
      ]
    },
    {
      "cell_type": "code",
      "source": [
        "a1=[1,2,3,4]\n",
        "print(max(a1))"
      ],
      "metadata": {
        "colab": {
          "base_uri": "https://localhost:8080/",
          "height": 192
        },
        "id": "KPVPQCPBAtNL",
        "outputId": "65b02b00-93b3-4958-e23e-37dedbcfe506"
      },
      "execution_count": null,
      "outputs": [
        {
          "output_type": "error",
          "ename": "TypeError",
          "evalue": "ignored",
          "traceback": [
            "\u001b[0;31m---------------------------------------------------------------------------\u001b[0m",
            "\u001b[0;31mTypeError\u001b[0m                                 Traceback (most recent call last)",
            "\u001b[0;32m<ipython-input-48-ff78cf8ae3ea>\u001b[0m in \u001b[0;36m<cell line: 2>\u001b[0;34m()\u001b[0m\n\u001b[1;32m      1\u001b[0m \u001b[0ma1\u001b[0m\u001b[0;34m=\u001b[0m\u001b[0;34m[\u001b[0m\u001b[0;36m1\u001b[0m\u001b[0;34m,\u001b[0m\u001b[0;36m2\u001b[0m\u001b[0;34m,\u001b[0m\u001b[0;36m3\u001b[0m\u001b[0;34m,\u001b[0m\u001b[0;36m4\u001b[0m\u001b[0;34m]\u001b[0m\u001b[0;34m\u001b[0m\u001b[0;34m\u001b[0m\u001b[0m\n\u001b[0;32m----> 2\u001b[0;31m \u001b[0mprint\u001b[0m\u001b[0;34m(\u001b[0m\u001b[0mmax\u001b[0m\u001b[0;34m(\u001b[0m\u001b[0ma1\u001b[0m\u001b[0;34m)\u001b[0m\u001b[0;34m)\u001b[0m\u001b[0;34m\u001b[0m\u001b[0;34m\u001b[0m\u001b[0m\n\u001b[0m",
            "\u001b[0;31mTypeError\u001b[0m: 'int' object is not callable"
          ]
        }
      ]
    },
    {
      "cell_type": "code",
      "source": [
        "a1=(1,2,3,4)\n",
        "k=max(a1)\n",
        "print(k)"
      ],
      "metadata": {
        "colab": {
          "base_uri": "https://localhost:8080/",
          "height": 210
        },
        "id": "RcW-mPaUBKAE",
        "outputId": "a7862012-4c2f-4aeb-c978-ac11242cc659"
      },
      "execution_count": null,
      "outputs": [
        {
          "output_type": "error",
          "ename": "TypeError",
          "evalue": "ignored",
          "traceback": [
            "\u001b[0;31m---------------------------------------------------------------------------\u001b[0m",
            "\u001b[0;31mTypeError\u001b[0m                                 Traceback (most recent call last)",
            "\u001b[0;32m<ipython-input-50-0c1a05dbbe7a>\u001b[0m in \u001b[0;36m<cell line: 2>\u001b[0;34m()\u001b[0m\n\u001b[1;32m      1\u001b[0m \u001b[0ma1\u001b[0m\u001b[0;34m=\u001b[0m\u001b[0;34m(\u001b[0m\u001b[0;36m1\u001b[0m\u001b[0;34m,\u001b[0m\u001b[0;36m2\u001b[0m\u001b[0;34m,\u001b[0m\u001b[0;36m3\u001b[0m\u001b[0;34m,\u001b[0m\u001b[0;36m4\u001b[0m\u001b[0;34m)\u001b[0m\u001b[0;34m\u001b[0m\u001b[0;34m\u001b[0m\u001b[0m\n\u001b[0;32m----> 2\u001b[0;31m \u001b[0mk\u001b[0m\u001b[0;34m=\u001b[0m\u001b[0mmax\u001b[0m\u001b[0;34m(\u001b[0m\u001b[0ma1\u001b[0m\u001b[0;34m)\u001b[0m\u001b[0;34m\u001b[0m\u001b[0;34m\u001b[0m\u001b[0m\n\u001b[0m\u001b[1;32m      3\u001b[0m \u001b[0mprint\u001b[0m\u001b[0;34m(\u001b[0m\u001b[0mk\u001b[0m\u001b[0;34m)\u001b[0m\u001b[0;34m\u001b[0m\u001b[0;34m\u001b[0m\u001b[0m\n",
            "\u001b[0;31mTypeError\u001b[0m: 'int' object is not callable"
          ]
        }
      ]
    },
    {
      "cell_type": "code",
      "source": [
        "l1=[-2,4,7,-1,6,-11,14,3,-1,-6]\n",
        "def max_subarray_sum(arr):\n",
        "  max_so_far=max_ending=l1[0]\n",
        "  start=end=0\n",
        "  new_start=0\n",
        "  for i in range(1,len(l1)):\n",
        "    if arr[i]>max_ending+arr[i]:\n",
        "      new_start=i\n",
        "      max_ending=arr[i]\n",
        "    else:\n",
        "      max_ending+=arr[i]\n",
        "    if max_ending>max_so_far:\n",
        "      max_so_far=max_ending\n",
        "      start=new_start\n",
        "      end=i\n",
        "  return max_so_far,arr[start:end+1]\n",
        "max_subarray_sum(l1)\n"
      ],
      "metadata": {
        "colab": {
          "base_uri": "https://localhost:8080/"
        },
        "id": "5698TuT3VaUr",
        "outputId": "eb074f25-c304-4477-806a-8d15cb0a1695"
      },
      "execution_count": null,
      "outputs": [
        {
          "output_type": "execute_result",
          "data": {
            "text/plain": [
              "(22, [4, 7, -1, 6, -11, 14, 3])"
            ]
          },
          "metadata": {},
          "execution_count": 4
        }
      ]
    },
    {
      "cell_type": "code",
      "source": [
        "l1=[-2,4,7,-1,6,-11,14,3,-1,-6]\n",
        "def max_subarray_sum(arr):\n",
        "  max_ending=max_so_far=arr[0]\n",
        "  start=end=0\n",
        "  new_start=0\n",
        "  for i in range(1,len(arr)):\n",
        "    if arr[i]>max_ending+arr[i]:\n",
        "      new_start=i\n",
        "      max_ending=arr[i]\n",
        "    else:\n",
        "      max_ending+=a[i]\n",
        "    if max_ending>max_so_far:\n",
        "      max_so_far=max_ending\n",
        "      start=new_start\n",
        "      end=i\n",
        "  return max_so_far,arr[start:end+1]\n",
        "#if current greater than sum of all previous+current then max_ending will become arr[i] and new_start will become i\n",
        "#else max_ending gets incremented by current element\n",
        "#if max_ending is greater than max_so_far then max_so_far is equated with max_ending, start is equated with new_start and end is replaced with i(current value of i)\n",
        "#initially max_ending-max_so_far=-2, as arr[1](4)>-2+4 or 4>2 so new_start=1,max_ending=4, now 4>-2 so max_so_far=4,start=1,end=1\n",
        "#i=2 arr[2]>4+7(false) so max_ending=1, 11>7 so max_so_far=11,start=1,end=2\n",
        "#i=3 arr[3]>11+(-1)(false) so max_ending=10 and 10>11 is false\n",
        "#i=4 arr[4]>10+6(false) so max_ending=16 and 16>11 so max_so_far becomes 16,start=1,end=4\n",
        "#i=5 arr[5]>16+(-11)(false) so max_ending=5 and 5>16 false\n",
        "#i=6 arr[6]>5+14(false) so max_ending=19, as 19>16 so max_so_far=19,start=1,end=6\n",
        "#i=7 arr[7]>19+3(false) so max_ending=22 as 22>19 so max_so_far=22,start=1,end=7\n",
        "#i=8 arr[8]>22+(-1)false so max_ending=21 as 21>22(false)\n",
        "#i=9 arr[9]>21+(-6) false so max_ending=15 as 15>22(false)\n",
        "#Hence at the end max_so_far is returned along with max sub array in the form arr[start:end+1]"
      ],
      "metadata": {
        "id": "cLDexO-ueCqY"
      },
      "execution_count": null,
      "outputs": []
    },
    {
      "cell_type": "code",
      "source": [
        "#This is kadane's algorithm to reduce time complexity from O(n^2) to O(n)\n",
        "l1=[-2,4,7,-1,6,-11,14,3,-1,-6]\n",
        "def max_subarray(arr):\n",
        "  max_so_far=max_ending=arr[0]\n",
        "  new_start=0\n",
        "  start=end=0\n",
        "  for i in range(1,len(arr)):\n",
        "    if arr[i]>max_ending+arr[i]:\n",
        "      max_ending=arr[i]\n",
        "      new_start=i\n",
        "    else:\n",
        "      max_ending+=arr[i]\n",
        "    if max_ending>max_so_far:\n",
        "      max_so_far=max_ending\n",
        "      start=new_start\n",
        "      end=i\n",
        "  return max_so_far,arr[start:end+1]\n",
        "max_subarray(l1)"
      ],
      "metadata": {
        "colab": {
          "base_uri": "https://localhost:8080/"
        },
        "id": "mvZQRbZtzMuk",
        "outputId": "e0bafa4c-fff3-422d-aa85-94d8ecc87b3d"
      },
      "execution_count": null,
      "outputs": [
        {
          "output_type": "execute_result",
          "data": {
            "text/plain": [
              "(22, [4, 7, -1, 6, -11, 14, 3])"
            ]
          },
          "metadata": {},
          "execution_count": 1
        }
      ]
    },
    {
      "cell_type": "code",
      "source": [
        "l2=[2,1,3,5,8,7,9]\n",
        "def maxxer(arr):\n",
        "  for i in range(1,len(arr)-1):\n",
        "    flag=True\n",
        "    for j in range(0,i):\n",
        "      if arr[j]>arr[i]:\n",
        "        flag=False\n",
        "    for k in range(i+1,len(arr)):\n",
        "      if arr[k]<arr[i]:\n",
        "        flag=False\n",
        "    if flag:\n",
        "      print(arr[i])\n",
        "maxxer(l2)"
      ],
      "metadata": {
        "colab": {
          "base_uri": "https://localhost:8080/"
        },
        "id": "uk1qZdEo3058",
        "outputId": "326e21bc-cd6f-4920-9b22-5dddae9a27a6"
      },
      "execution_count": null,
      "outputs": [
        {
          "output_type": "stream",
          "name": "stdout",
          "text": [
            "3\n",
            "5\n"
          ]
        }
      ]
    },
    {
      "cell_type": "code",
      "source": [
        "l2=[2,1,3,5,8,7,9]\n",
        "def maxr1(arr):\n",
        "  for i in range(1,len(arr)-1):\n",
        "    flag=True\n",
        "    for j in range(0,i):\n",
        "      if arr[j]>arr[i]:\n",
        "        flag=False\n",
        "    for k in range(i+1,len(arr)):\n",
        "      if arr[k]<arr[i]:\n",
        "        flag=False\n",
        "    if flag:\n",
        "      print(arr[i])\n",
        "maxr1(l2)\n",
        "#for i in range(1,len(arr)-1) here first and last element is removed and flag is True, now there will be two seperate loops for the items before a particular item and items after\n",
        "#a particular item, for items before current item we will run a loop which runs from index 0 to ith index(range(0,i) means the loop runs till (i-1)st) till then if arr[i]<arr[j] then\n",
        "#the respective flag is set False, now second for loop is run from i+1 to len(arr) and if arr[i]>arr[k] then flag is set to False and when we are done going through both these loops\n",
        "#if flag that is if flag is True by the end of these 2 loops then we print that respective item"
      ],
      "metadata": {
        "colab": {
          "base_uri": "https://localhost:8080/"
        },
        "id": "ccmCF-eYU0gJ",
        "outputId": "17d9dc6e-5920-4db3-bede-a1825bd3d0c6"
      },
      "execution_count": null,
      "outputs": [
        {
          "output_type": "stream",
          "name": "stdout",
          "text": [
            "3\n",
            "5\n"
          ]
        }
      ]
    },
    {
      "cell_type": "code",
      "source": [
        "#The time complexity of this code is O(n^2) as well as max and min function traverses through entire row as well\n",
        "l2=[2,1,3,5,8,7,9]\n",
        "def maxr2(arr):\n",
        "  for i in range(1,len(arr)-1):\n",
        "    if max(arr[:i])<arr[i]<min(arr[i+1:]):\n",
        "      print(arr[i])\n",
        "maxr2(l2)\n",
        "#The above has a time complexity of O(n^2) hence to to reduce time complexity, we folllow this method, we run a loop between range(1,len(arr)-1) removing the first and the last\n",
        "#element, and within each loop we find the max of arr[:i] and if max(arr[:i]) is lesser than arr[i] and min(arr[i+1:]) is greater than arr[i] then arr[i] gets printed"
      ],
      "metadata": {
        "colab": {
          "base_uri": "https://localhost:8080/"
        },
        "id": "CFDng8gvsor_",
        "outputId": "7734c3de-3a99-43a4-f1b8-df96e0a03ff0"
      },
      "execution_count": null,
      "outputs": [
        {
          "output_type": "stream",
          "name": "stdout",
          "text": [
            "3\n",
            "5\n"
          ]
        }
      ]
    },
    {
      "cell_type": "code",
      "source": [
        "#This code is an improvement over the above codes. The time complexity of this is O(n)\n",
        "l2=[2,1,3,5,8,7,9]\n",
        "max_val=l2[0]\n",
        "min_val=l2[-1]\n",
        "max_arr=[]\n",
        "min_arr=[]\n",
        "for i in range(0,len(l2)):\n",
        "  if l2[i]>max_val:\n",
        "    max_val=l2[i]\n",
        "  max_arr.append(max_val)\n",
        "print(max_arr)\n",
        "for j in range(len(l2)-1,-1,-1):\n",
        "  if l2[j]<min_val:\n",
        "    min_val=l2[j]\n",
        "  min_arr.insert(0,min_val)\n",
        "print(min_arr)\n",
        "for k in range(1,len(l2)-1):\n",
        "  if max_arr[k-1]<l2[k]<min_arr[k+1]:\n",
        "    print(l2[k])\n",
        "#for the first the loop will run between 0 to len(l2),max_val is set to l2[0] and min_val is set to l2[-1].\n",
        "#for first loop, if l2[i]>max_val,\n",
        "#when i=0 rhen l2[i](2)<2(max_val) is false , so 2 is appended to max_arr[2], then i=1 and 1>2(false) so 2 is appended to max_arr again[2,2], then i=2 3>2(True) so max_val=3 and 3 is appened[2,2,3]\n",
        "#to max_arr, now i=3 and 5>3(True) so max_val=5 and max_arr is appened to 5[2,2,3,5], now i=4 and 8>5(True) so max_val=8 and 8 is appended to max_arr[2,2,3,5,8], now i=5 7>8(false) so 8 is appened to max_arr[2,2,3,5,8,8]\n",
        "#now i=6 9>8(True) so max_val=9 and 9 is appened to max_arr[2,2,3,5,8,8,9]\n",
        "#now min_val=9 initially when j =6 initially 9<9(false) min_arr=[9], j=5 initially 7<9(True) so min_val=7 min_arr=[7,9],j=4 8<7(false) min_val=7 min_arr=[7,7,9]\n",
        "#j=3 5<7(True) min_val=5 min_arr=[5,7,7,9],j=2 3<5(True) so min_val=3 min_arr=[3,5,7,7,9],j=1 1<3(True) so min_val=1 min_arr=[1,3,5,7,7,9], j=0 2<1(false) min_val=1 min_arr=[1,1,3,5,7,7,9]\n",
        "#for k in range(1,len(l2)-1), if max_arr[k-1]<l2[k]<min_arr[k+1] then that particular l2[k] element will get printed, k will be checked between 1 and len(l2)-1\n",
        "#for k=1 2<1<3(false),k=2 2<3<5(True) hence 2 gets printed,k=3 3<5<7 hence 5 gets printed,k=4 5<8<7 false,k=5 8<7<9(false), as len(l2)-1=6 so k would only run between 1 and 5"
      ],
      "metadata": {
        "colab": {
          "base_uri": "https://localhost:8080/"
        },
        "id": "kaejN-G_3D0j",
        "outputId": "120862a9-0ce0-4557-8424-ec9591a04f21"
      },
      "execution_count": null,
      "outputs": [
        {
          "output_type": "stream",
          "name": "stdout",
          "text": [
            "[2, 2, 3, 5, 8, 8, 9]\n",
            "[1, 1, 3, 5, 7, 7, 9]\n",
            "3\n",
            "5\n"
          ]
        }
      ]
    },
    {
      "cell_type": "code",
      "source": [
        "def add(a, b):\n",
        "    return a + b\n",
        "\n",
        "result = add(\"3\", \"2\")\n",
        "print(result)\n",
        "#will give error as + operator won't work between a string and int datatype(in case we pass add(3,\"2\")) but if we pass add(\"3\",\"2\") it wont give any error as both arguments are strings"
      ],
      "metadata": {
        "colab": {
          "base_uri": "https://localhost:8080/"
        },
        "id": "RHERXzhDsb5l",
        "outputId": "04b8c676-8033-437c-9e03-4a782f2fce3b"
      },
      "execution_count": null,
      "outputs": [
        {
          "output_type": "stream",
          "name": "stdout",
          "text": [
            "32\n"
          ]
        }
      ]
    },
    {
      "cell_type": "code",
      "source": [
        "l1=[1,22,13,7,9,11,10]\n",
        "s1=16\n",
        "def ducker(l1,s1):\n",
        "  max_so_far=max_beg=l1[0]\n",
        "  new_start=0\n",
        "  start=end=0\n",
        "  k=[]\n",
        "  s=0\n",
        "  for i in range(0,len(l1)):\n",
        "    if l1[i]>max_so_far+l1[i]:\n",
        "      new_start=i\n",
        "      max_so_far=l1[i]\n",
        "    else:\n",
        "      max_so_far+=l1[i]\n",
        "    if max_so_far==s1:\n",
        "      max_beg=max_so_far\n",
        "      start=new_start\n",
        "      end=i\n",
        "  return max_beg,l1[start:end+1]\n",
        "ducker(l1,s1)\n",
        "\n",
        "\n",
        "\n",
        "\n"
      ],
      "metadata": {
        "colab": {
          "base_uri": "https://localhost:8080/"
        },
        "id": "OLNlFHsyu753",
        "outputId": "fee996d7-5a68-4dcd-9e06-95d65dd633ba"
      },
      "execution_count": null,
      "outputs": [
        {
          "output_type": "execute_result",
          "data": {
            "text/plain": [
              "(1, [1])"
            ]
          },
          "metadata": {},
          "execution_count": 6
        }
      ]
    },
    {
      "cell_type": "code",
      "source": [
        "l1=[1,22,13,7,9,11,10]\n",
        "s1=16\n",
        "d1={}\n",
        "for i in range(0,len(l1)):\n",
        "  der=[]\n",
        "  for k in range(i,len(l1)):\n",
        "    der.append(l1[k])\n",
        "    d2=der.copy()\n",
        "    d1[sum(d2)]=d2\n",
        "if s1 in d1:\n",
        "  print(d1[s1])\n",
        "\n"
      ],
      "metadata": {
        "colab": {
          "base_uri": "https://localhost:8080/"
        },
        "id": "ghdR6l2gP2Ch",
        "outputId": "ec170549-9b88-4918-c237-2c877b585d0f"
      },
      "execution_count": null,
      "outputs": [
        {
          "output_type": "stream",
          "name": "stdout",
          "text": [
            "[7, 9]\n"
          ]
        }
      ]
    },
    {
      "cell_type": "code",
      "source": [
        "#in operator(membership operator) used with dictionary or sets have the time-complexity of the order of 1\n",
        "l1=[1,22,13,7,9,11,10]\n",
        "s1=35\n",
        "curr_sum=0\n",
        "d={}\n",
        "for i in range(0,len(l1)):\n",
        "  curr_sum+=l1[i]\n",
        "  if (curr_sum-s1) in d:\n",
        "    print(d[curr_sum-s1]+1,i)\n",
        "    break\n",
        "  d[curr_sum]=i\n",
        "#when i=0 curr_Sum=1 and as -34 is not present in d so d={1:0}, when i=1 curr_sum=23 and as -12 is not present in d so d[23]=1 d={1:0,23:1}, when i=2 curr_sum=36 and 36-35=1 which\n",
        "#is present in dictionary so 2 3 gets printed"
      ],
      "metadata": {
        "id": "Kiyn5TYdVL1F",
        "colab": {
          "base_uri": "https://localhost:8080/"
        },
        "outputId": "50ec1e91-9482-4914-fcc0-daea06f1a21b"
      },
      "execution_count": null,
      "outputs": [
        {
          "output_type": "stream",
          "name": "stdout",
          "text": [
            "1 2\n"
          ]
        }
      ]
    },
    {
      "cell_type": "code",
      "source": [
        "l1=[1,22,13,7,9,11,10]\n",
        "s1=21\n",
        "curr_sum=0\n",
        "d1={}\n",
        "\n",
        "for i in range(0,len(l1)):\n",
        "  curr_sum+=l1[i]\n",
        "  if (curr_sum-s1) in d1:\n",
        "    print(d1[curr_sum-s1]+1,i)\n",
        "    break\n",
        "  d1[curr_sum]=i\n",
        "#when i=0,curr_sum=1,as (curr_sum-s1) -30 is not in d1 so d1[1]=0 {1:0}, when i=1 curr_sum=23 (23-21)=2 not in d1 so d1={1:0,23:1}, when i=2 curr_sum=36 then 36-21 not in d1 so\n",
        "#d1{36}=2 so d1={1:0,23:1,36:2}, when i=3 curr_sum=43 then 43-21=22 and 22 not in d1 so d1={1:0,23:1,36:2,43:3}, when i=4 curr_sum=52 and 52-21=31 which is not in d1 so d1[52]=4\n",
        "#{1:0,23:1,36:2,43:3,52:4}, when i=5 curr_sum=63 so d1[63]=5 so d1={1:0,23:1,36:2,43:3,52:4,63:5}, when i=6 curr_sum=73 and 73-21=52 which is there in dictionary so 5 and 6 gets printed\n"
      ],
      "metadata": {
        "colab": {
          "base_uri": "https://localhost:8080/"
        },
        "id": "X-t456ux1r_m",
        "outputId": "472e1488-8767-4b2e-c5ff-d4451714d039"
      },
      "execution_count": null,
      "outputs": [
        {
          "output_type": "stream",
          "name": "stdout",
          "text": [
            "5 6\n"
          ]
        }
      ]
    },
    {
      "cell_type": "code",
      "source": [
        "#finding intersection of 2 sorted array\n",
        "a=[1,2,3,4,5,8]\n",
        "b=[3,6,7,8]\n",
        "c=[i for i in a if i in b]\n",
        "print(c)"
      ],
      "metadata": {
        "colab": {
          "base_uri": "https://localhost:8080/"
        },
        "id": "PYM53dk1AwtO",
        "outputId": "4409c10f-eead-4aa9-a140-4421a90d0c71"
      },
      "execution_count": null,
      "outputs": [
        {
          "output_type": "stream",
          "name": "stdout",
          "text": [
            "[3, 8]\n"
          ]
        }
      ]
    },
    {
      "cell_type": "code",
      "source": [
        "a=[1,2,3,4,5,8]\n",
        "b=[3,6,7,8]\n",
        "for i in a:\n",
        "  if i in b:\n",
        "    print(i)\n",
        "#In lists,strings and tuples, the membership operator(in operator) acts like a for loop too of the order of n so total time complexity is O(n^2)"
      ],
      "metadata": {
        "colab": {
          "base_uri": "https://localhost:8080/"
        },
        "id": "LpmUvsJUHD-6",
        "outputId": "3d65a6a9-9ce7-411b-88c3-615f996e16a5"
      },
      "execution_count": null,
      "outputs": [
        {
          "output_type": "stream",
          "name": "stdout",
          "text": [
            "3\n",
            "8\n"
          ]
        }
      ]
    },
    {
      "cell_type": "code",
      "source": [
        "a=[1,2,3,4,5,8]\n",
        "b=[3,6,7,8]\n",
        "i=j=0\n",
        "while i<len(a) and j<len(b):\n",
        "  if a[i]==b[j]:\n",
        "    print(a[i])\n",
        "    i+=1\n",
        "    j+=1\n",
        "  elif a[i]>b[j]:\n",
        "    j+=1\n",
        "  else:\n",
        "    i+=1\n",
        "#This process will work only for sorted arrays\n"
      ],
      "metadata": {
        "colab": {
          "base_uri": "https://localhost:8080/"
        },
        "id": "Ngm39yqAJY5M",
        "outputId": "90448fd1-b784-4d07-ce95-4931440d3780"
      },
      "execution_count": null,
      "outputs": [
        {
          "output_type": "stream",
          "name": "stdout",
          "text": [
            "3\n",
            "8\n"
          ]
        }
      ]
    },
    {
      "cell_type": "code",
      "source": [
        "a=[1,2,3,4,5,8]\n",
        "b=[3,6,7,8]\n",
        "i=j=0\n",
        "while i<len(a) and j<len(b):\n",
        "  if a[i]==b[j]:\n",
        "    print(a[i])\n",
        "    i+=1\n",
        "    j+=1\n",
        "  elif a[i]>b[j]:\n",
        "    j+=1\n",
        "  else:\n",
        "    i+=1\n",
        "#when two items are the same then indexes of both arrays are incremented else the index of array containing smaller item will be incremented, this will continue until i is lesser than\n",
        "#len(a) and j is lesser than len(b)\n"
      ],
      "metadata": {
        "colab": {
          "base_uri": "https://localhost:8080/"
        },
        "id": "F5XnKvcaPoZw",
        "outputId": "f85e7985-45d2-4235-cf81-f2ffbb6bd502"
      },
      "execution_count": null,
      "outputs": [
        {
          "output_type": "stream",
          "name": "stdout",
          "text": [
            "3\n",
            "8\n"
          ]
        }
      ]
    },
    {
      "cell_type": "code",
      "source": [
        "l1=[1,2,3,4,5]\n",
        "rotate=2\n",
        "l2=[]\n",
        "for i in range(rotate):\n",
        "  temp=l1[0]\n",
        "  for j in range(len(l1)-1):\n",
        "    l2[j]=l1[j+1]\n",
        "  l2.append(temp)\n",
        "print(l2)\n",
        "\n"
      ],
      "metadata": {
        "id": "ud88VhqLVzdl",
        "colab": {
          "base_uri": "https://localhost:8080/",
          "height": 245
        },
        "outputId": "54b80ee7-70d5-4675-947d-e3f83deeb7c8"
      },
      "execution_count": null,
      "outputs": [
        {
          "output_type": "error",
          "ename": "IndexError",
          "evalue": "ignored",
          "traceback": [
            "\u001b[0;31m---------------------------------------------------------------------------\u001b[0m",
            "\u001b[0;31mIndexError\u001b[0m                                Traceback (most recent call last)",
            "\u001b[0;32m<ipython-input-3-bc809565015f>\u001b[0m in \u001b[0;36m<cell line: 4>\u001b[0;34m()\u001b[0m\n\u001b[1;32m      5\u001b[0m   \u001b[0mtemp\u001b[0m\u001b[0;34m=\u001b[0m\u001b[0ml1\u001b[0m\u001b[0;34m[\u001b[0m\u001b[0;36m0\u001b[0m\u001b[0;34m]\u001b[0m\u001b[0;34m\u001b[0m\u001b[0;34m\u001b[0m\u001b[0m\n\u001b[1;32m      6\u001b[0m   \u001b[0;32mfor\u001b[0m \u001b[0mj\u001b[0m \u001b[0;32min\u001b[0m \u001b[0mrange\u001b[0m\u001b[0;34m(\u001b[0m\u001b[0mlen\u001b[0m\u001b[0;34m(\u001b[0m\u001b[0ml1\u001b[0m\u001b[0;34m)\u001b[0m\u001b[0;34m-\u001b[0m\u001b[0;36m1\u001b[0m\u001b[0;34m)\u001b[0m\u001b[0;34m:\u001b[0m\u001b[0;34m\u001b[0m\u001b[0;34m\u001b[0m\u001b[0m\n\u001b[0;32m----> 7\u001b[0;31m     \u001b[0ml2\u001b[0m\u001b[0;34m[\u001b[0m\u001b[0mj\u001b[0m\u001b[0;34m]\u001b[0m\u001b[0;34m=\u001b[0m\u001b[0ml1\u001b[0m\u001b[0;34m[\u001b[0m\u001b[0mj\u001b[0m\u001b[0;34m+\u001b[0m\u001b[0;36m1\u001b[0m\u001b[0;34m]\u001b[0m\u001b[0;34m\u001b[0m\u001b[0;34m\u001b[0m\u001b[0m\n\u001b[0m\u001b[1;32m      8\u001b[0m   \u001b[0ml2\u001b[0m\u001b[0;34m.\u001b[0m\u001b[0mappend\u001b[0m\u001b[0;34m(\u001b[0m\u001b[0mtemp\u001b[0m\u001b[0;34m)\u001b[0m\u001b[0;34m\u001b[0m\u001b[0;34m\u001b[0m\u001b[0m\n\u001b[1;32m      9\u001b[0m \u001b[0mprint\u001b[0m\u001b[0;34m(\u001b[0m\u001b[0ml2\u001b[0m\u001b[0;34m)\u001b[0m\u001b[0;34m\u001b[0m\u001b[0;34m\u001b[0m\u001b[0m\n",
            "\u001b[0;31mIndexError\u001b[0m: list assignment index out of range"
          ]
        }
      ]
    },
    {
      "cell_type": "code",
      "source": [
        "l1 = [1, 2, 3, 4, 5]\n",
        "rotate = 2\n",
        "l2 = []\n",
        "\n",
        "for i in range(rotate):\n",
        "    temp = l1[0]\n",
        "    l2 = []  # Clear l2 in each iteration to start fresh\n",
        "    for j in range(len(l1) - 1):\n",
        "        l2.append(l1[j + 1])\n",
        "    l2.append(temp)\n",
        "\n",
        "print(l2)\n"
      ],
      "metadata": {
        "colab": {
          "base_uri": "https://localhost:8080/"
        },
        "id": "C3b63wytDMnV",
        "outputId": "65da0ccc-08e9-4c76-f329-4020633f830c"
      },
      "execution_count": null,
      "outputs": [
        {
          "output_type": "stream",
          "name": "stdout",
          "text": [
            "[2, 3, 4, 5, 1]\n"
          ]
        }
      ]
    },
    {
      "cell_type": "code",
      "source": [
        "l1=[1,2,3,4,5]\n",
        "rotate=2\n",
        "l2=[]\n",
        "for i in range(rotate):\n",
        "  temp=l1[0]\n",
        "  for j in range(len(l1)-1):\n",
        "    l2.append(l1[j+1])\n",
        "  l2.append(temp)\n",
        "print(l2)\n",
        "#when i=0\n",
        "#j=0, 2 is appended to l2=[2]\n",
        "#j=1, 3 is appended to l2=[2,3]\n",
        "#j=2, 4 is appended to l2=[2,3,4]\n",
        "#j=3, 5 is appended to l2=[2,3,4,5]\n",
        "#first j loop gets over after j=3\n",
        "#1 is appened to l2=[2,3,4,5,1]\n",
        "#when i=1\n",
        "#j=0, 2 is appended to l2=[2,3,4,5,1,2]\n",
        "#j=1, 3 is appended to l2=[2,3,4,5,1,2,3]\n",
        "#j=2, 4 is appended to l2=[2,3,4,5,1,2,3,4]\n",
        "#j=3, 5 is appended to l2=[2,3,4,5,1,2,3,4,5]\n",
        "#second j loop gets over after j=3\n",
        "#1 is appended to l2=[2,3,4,5,1,2,3,4,5,1]"
      ],
      "metadata": {
        "id": "vAHEGdBJQF0B",
        "colab": {
          "base_uri": "https://localhost:8080/"
        },
        "outputId": "cd86d8ff-e15d-4c47-ead1-b8f7801ef965"
      },
      "execution_count": null,
      "outputs": [
        {
          "output_type": "stream",
          "name": "stdout",
          "text": [
            "[2, 3, 4, 5, 1, 2, 3, 4, 5, 1]\n"
          ]
        }
      ]
    },
    {
      "cell_type": "code",
      "source": [
        "l1=[1,2,3,4,5]\n",
        "rotate=2\n",
        "l2=[]\n",
        "for i in range(rotate):\n",
        "  temp=l1[0]\n",
        "  for j in range(len(l1)-1):\n",
        "    l2[j]=l1[j+1]\n",
        "  l2.append(temp)\n",
        "print(l2)\n",
        "#This would give out of range error as you are trying to assign values with respect to indices that don't exist so assigning values to l2 with respect to indices would give error"
      ],
      "metadata": {
        "id": "AKIIpjWRXL0d"
      },
      "execution_count": null,
      "outputs": []
    },
    {
      "cell_type": "code",
      "source": [
        "l1=[1,2,3,4,5]\n",
        "rotate=2\n",
        "for i in range(rotate):\n",
        "  temp=l1[0]\n",
        "  for j in range(len(l1)-1):\n",
        "    l1[j]=l1[j+1]\n",
        "  l1.append(temp)\n",
        "print(l1)\n",
        "#i--0,1\n",
        "#j--0,1,2,3\n",
        "#temp=1, j=0 l1[0]=l1[1](2) l1=[2,2,3,4,5]\n",
        "#j=1 l1[1]=l1[2](3) l1=[2,3,3,4,5]\n",
        "#j=2 l1[2]=l1[3](4) l1=[2,3,4,4,5]\n",
        "#j=3 l1[3]=l1[4](5) l1=[2,3,4,5,5]\n",
        "#j ends l1=[2,3,4,5,5,1]\n",
        "#i=1 temp=2\n",
        "# j--0,1,2,3,4\n",
        "#j=0 l1[0]=l1[1](3) l1=[3,3,4,5,5,1]\n",
        "#j=1 l1[1]=l1[2](4) l1=[3,4,4,5,5,1]\n",
        "#j=2 l1[2]=l1[3](5) l1=[3,4,5,5,5,1]\n",
        "#j=3 l1[3]=l1[4](5) l1=[3,4,5,5,5,1]\n",
        "#j=4 l1[4]=l1[5](1) l1=[3,4,5,5,1,1]\n",
        "#j ends temp is appended l1=[3,4,5,5,1,1,2]\n",
        "#As you can see that appending literally adds more elements to the list, hence what we get out of appending is not rotated list"
      ],
      "metadata": {
        "colab": {
          "base_uri": "https://localhost:8080/"
        },
        "id": "OeUPswBkasSb",
        "outputId": "133ca86b-a6ea-4c8e-9296-f8f8e692ceba"
      },
      "execution_count": null,
      "outputs": [
        {
          "output_type": "stream",
          "name": "stdout",
          "text": [
            "[3, 4, 5, 5, 1, 1, 2]\n"
          ]
        }
      ]
    },
    {
      "cell_type": "code",
      "source": [
        "l1=[1,2,3,4,5]\n",
        "rotate=2\n",
        "for i in range(rotate):\n",
        "  temp=l1[0]\n",
        "  for j in range(len(l1)-1):\n",
        "    l1[j]=l1[j+1]\n",
        "  l1[len(l1)-1]=temp\n",
        "print(l1)\n",
        "\n"
      ],
      "metadata": {
        "colab": {
          "base_uri": "https://localhost:8080/"
        },
        "id": "-9kIfGbUmIp8",
        "outputId": "eb634b05-842d-4b80-a13d-ea4083d70299"
      },
      "execution_count": null,
      "outputs": [
        {
          "output_type": "stream",
          "name": "stdout",
          "text": [
            "[3, 4, 5, 1, 2]\n"
          ]
        }
      ]
    },
    {
      "cell_type": "code",
      "source": [
        "l1=[1,2,3,4,5]\n",
        "rotate=2\n",
        "l1=l1[rotate:]+l1[:rotate]\n",
        "print(l1)"
      ],
      "metadata": {
        "colab": {
          "base_uri": "https://localhost:8080/"
        },
        "id": "dYIeWLiwR7tm",
        "outputId": "ab3d967f-6364-4baf-dcb3-ce4ef54aaa6d"
      },
      "execution_count": null,
      "outputs": [
        {
          "output_type": "stream",
          "name": "stdout",
          "text": [
            "[3, 4, 5, 1, 2]\n"
          ]
        }
      ]
    },
    {
      "cell_type": "code",
      "source": [
        "#find duplicates\n",
        "l1=[1,1,2,3,4,4,5,5]\n",
        "d1={}\n",
        "for i in l1:\n",
        "  if i in d1:\n",
        "    d1[i]+=1\n",
        "  else:\n",
        "    d1[i]=1\n",
        "[i for i in d1 if d1[i]>1]"
      ],
      "metadata": {
        "colab": {
          "base_uri": "https://localhost:8080/"
        },
        "id": "PKD9iKHSST3V",
        "outputId": "90ddb28a-e33e-435e-8d69-c19b6c69ee7a"
      },
      "execution_count": null,
      "outputs": [
        {
          "output_type": "execute_result",
          "data": {
            "text/plain": [
              "[1, 4, 5]"
            ]
          },
          "metadata": {},
          "execution_count": 4
        }
      ]
    },
    {
      "cell_type": "code",
      "source": [
        "l1=[1,1,2,3,4,4,5,5,6,6,6,7,7,7,7,8,8,8,8,9,9]\n",
        "d1={}\n",
        "for i in l1:\n",
        "  if i in d1:\n",
        "    d1[i]+=1\n",
        "  else:\n",
        "    d1[i]=1\n",
        "print(d1)\n",
        "[i for i in d1 if d1[i]==2][0]"
      ],
      "metadata": {
        "colab": {
          "base_uri": "https://localhost:8080/"
        },
        "id": "ogFiDiv2emnv",
        "outputId": "001e2c81-ec40-482c-d829-6c3cb9fbd819"
      },
      "execution_count": null,
      "outputs": [
        {
          "output_type": "stream",
          "name": "stdout",
          "text": [
            "{1: 2, 2: 1, 3: 1, 4: 2, 5: 2, 6: 3, 7: 4, 8: 4, 9: 2}\n"
          ]
        },
        {
          "output_type": "execute_result",
          "data": {
            "text/plain": [
              "1"
            ]
          },
          "metadata": {},
          "execution_count": 6
        }
      ]
    },
    {
      "cell_type": "code",
      "source": [
        "#find min/max in a given array\n",
        "l1=[21,1,34,23,54,11,10]\n",
        "max1=l1[0]\n",
        "min=l1[0]\n",
        "for i in l1:\n",
        "  if i>max1:\n",
        "    max1=i\n",
        "  if i<min:\n",
        "    min=i\n",
        "print(max1,min)"
      ],
      "metadata": {
        "colab": {
          "base_uri": "https://localhost:8080/"
        },
        "id": "PdZbbbddjF0W",
        "outputId": "fe35d005-c736-4ea7-954e-8cf008f1af4a"
      },
      "execution_count": null,
      "outputs": [
        {
          "output_type": "stream",
          "name": "stdout",
          "text": [
            "54 1\n"
          ]
        }
      ]
    },
    {
      "cell_type": "code",
      "source": [
        "#check if an array is sorted\n",
        "l1=[1,2,3,4,5]\n",
        "flag=True\n",
        "for i in range(len(l1)-1):\n",
        "  if l1[i]>l1[i+1]:\n",
        "    flag=False\n",
        "if flag:\n",
        "  print(\"sorted\")\n",
        "else:\n",
        "  print(\"not printed\")\n",
        "#if at any point l1[i]>li[i+1] then flag is set to False, if l1[i]>l1[i+1] at any point then not sorted else sorted"
      ],
      "metadata": {
        "colab": {
          "base_uri": "https://localhost:8080/"
        },
        "id": "S_zt5UQDk9Cv",
        "outputId": "91b6de3d-5e2b-42d8-9ff3-718293af125d"
      },
      "execution_count": null,
      "outputs": [
        {
          "output_type": "stream",
          "name": "stdout",
          "text": [
            "sorted\n"
          ]
        }
      ]
    },
    {
      "cell_type": "code",
      "source": [
        "#Find the kth largest/smallest item from the list\n",
        "l1=[12,23,1,4,56,34,22,3]\n",
        "k=4\n",
        "l1.sort()\n",
        "l1[k-1]\n",
        "#3rd smallest"
      ],
      "metadata": {
        "colab": {
          "base_uri": "https://localhost:8080/"
        },
        "id": "2bMXEslSoAaX",
        "outputId": "73256756-6f5c-4211-ee36-8e3d89546b44"
      },
      "execution_count": null,
      "outputs": [
        {
          "output_type": "execute_result",
          "data": {
            "text/plain": [
              "12"
            ]
          },
          "metadata": {},
          "execution_count": 10
        }
      ]
    },
    {
      "cell_type": "code",
      "source": [
        "#3rd largest\n",
        "k=3\n",
        "l1.sort(reverse=True)\n",
        "l1[k-1]\n",
        "#3rd largest\n",
        "# l1"
      ],
      "metadata": {
        "colab": {
          "base_uri": "https://localhost:8080/"
        },
        "id": "pQU8Q7invAY2",
        "outputId": "21b0b4fa-874f-43c0-b240-b28c49051bbe"
      },
      "execution_count": null,
      "outputs": [
        {
          "output_type": "execute_result",
          "data": {
            "text/plain": [
              "23"
            ]
          },
          "metadata": {},
          "execution_count": 14
        }
      ]
    },
    {
      "cell_type": "code",
      "source": [
        "l1=[0, 1, 0, 1, 1, 0, 0, 1, 0]\n",
        "l1.sort()\n",
        "l1"
      ],
      "metadata": {
        "colab": {
          "base_uri": "https://localhost:8080/"
        },
        "id": "C3v7pm1rxLNL",
        "outputId": "296f4f82-b6e3-4ac9-c892-db181edbc393"
      },
      "execution_count": null,
      "outputs": [
        {
          "output_type": "execute_result",
          "data": {
            "text/plain": [
              "[0, 0, 0, 0, 0, 1, 1, 1, 1]"
            ]
          },
          "metadata": {},
          "execution_count": 15
        }
      ]
    },
    {
      "cell_type": "code",
      "source": [
        "l1=[-20,-21,-23,4,5,11,111,22,24,-33,33,-21,-40,40,30,-60,65,71]\n",
        "l1.sort(reverse=True)\n",
        "l1"
      ],
      "metadata": {
        "colab": {
          "base_uri": "https://localhost:8080/"
        },
        "id": "bWzkWAbgyuQE",
        "outputId": "be41c3d8-76bd-4637-e3f0-9bc9d24b7cfc"
      },
      "execution_count": null,
      "outputs": [
        {
          "output_type": "execute_result",
          "data": {
            "text/plain": [
              "[111, 71, 65, 40, 33, 30, 24, 22, 11, 5, 4, -20, -21, -21, -23, -33, -40, -60]"
            ]
          },
          "metadata": {},
          "execution_count": 16
        }
      ]
    },
    {
      "cell_type": "code",
      "source": [
        "# 13. Maximum Product Subarray\n",
        "l1=[-2,4,7,-1,6,-11,14,3,-1,-6]\n",
        "def kumma(l1):\n",
        "  max_so_far=max_ending=l1[0]\n",
        "  new_start=0\n",
        "  start=end=0\n",
        "  for i in range(len(l1)):\n",
        "    if l1[i]>max_ending*l1[i]:\n",
        "      max_ending=l1[i]\n",
        "      new_start=i\n",
        "    else:\n",
        "      max_ending*=l1[i]\n",
        "    if max_ending>max_so_far:\n",
        "      max_so_far=max_ending\n",
        "      start=new_start\n",
        "      end=i\n",
        "  return max_so_far,l1[start:end+1]\n",
        "kumma(l1)\n"
      ],
      "metadata": {
        "colab": {
          "base_uri": "https://localhost:8080/"
        },
        "id": "kSouDgpFzTUQ",
        "outputId": "714fc5c3-1e16-4b38-8ae5-e014f84703bc"
      },
      "execution_count": null,
      "outputs": [
        {
          "output_type": "execute_result",
          "data": {
            "text/plain": [
              "(112, [-2, 4, 7])"
            ]
          },
          "metadata": {},
          "execution_count": 17
        }
      ]
    },
    {
      "cell_type": "code",
      "source": [
        "from functools import reduce\n",
        "l1=[-2,4,7,-1,6,-11,14,3,-1,-6]\n",
        "def multiply(x,y):\n",
        "  return x*y\n",
        "def kmn(l1):\n",
        "  d1={}\n",
        "  for i in range(len(l1)):\n",
        "    d2=[]\n",
        "    for j in range(i,len(l1)):\n",
        "      d2.append(l1[j])\n",
        "      d3=d2.copy()\n",
        "      prod=reduce(multiply,d3)\n",
        "      print(prod,d3)\n",
        "kmn(l1)\n"
      ],
      "metadata": {
        "colab": {
          "base_uri": "https://localhost:8080/"
        },
        "id": "LEGYpHOe13jZ",
        "outputId": "0add4409-df72-4e9d-9fd0-871a92e5be68"
      },
      "execution_count": null,
      "outputs": [
        {
          "output_type": "stream",
          "name": "stdout",
          "text": [
            "-2 [-2]\n",
            "-8 [-2, 4]\n",
            "-56 [-2, 4, 7]\n",
            "56 [-2, 4, 7, -1]\n",
            "336 [-2, 4, 7, -1, 6]\n",
            "-3696 [-2, 4, 7, -1, 6, -11]\n",
            "-51744 [-2, 4, 7, -1, 6, -11, 14]\n",
            "-155232 [-2, 4, 7, -1, 6, -11, 14, 3]\n",
            "155232 [-2, 4, 7, -1, 6, -11, 14, 3, -1]\n",
            "-931392 [-2, 4, 7, -1, 6, -11, 14, 3, -1, -6]\n",
            "4 [4]\n",
            "28 [4, 7]\n",
            "-28 [4, 7, -1]\n",
            "-168 [4, 7, -1, 6]\n",
            "1848 [4, 7, -1, 6, -11]\n",
            "25872 [4, 7, -1, 6, -11, 14]\n",
            "77616 [4, 7, -1, 6, -11, 14, 3]\n",
            "-77616 [4, 7, -1, 6, -11, 14, 3, -1]\n",
            "465696 [4, 7, -1, 6, -11, 14, 3, -1, -6]\n",
            "7 [7]\n",
            "-7 [7, -1]\n",
            "-42 [7, -1, 6]\n",
            "462 [7, -1, 6, -11]\n",
            "6468 [7, -1, 6, -11, 14]\n",
            "19404 [7, -1, 6, -11, 14, 3]\n",
            "-19404 [7, -1, 6, -11, 14, 3, -1]\n",
            "116424 [7, -1, 6, -11, 14, 3, -1, -6]\n",
            "-1 [-1]\n",
            "-6 [-1, 6]\n",
            "66 [-1, 6, -11]\n",
            "924 [-1, 6, -11, 14]\n",
            "2772 [-1, 6, -11, 14, 3]\n",
            "-2772 [-1, 6, -11, 14, 3, -1]\n",
            "16632 [-1, 6, -11, 14, 3, -1, -6]\n",
            "6 [6]\n",
            "-66 [6, -11]\n",
            "-924 [6, -11, 14]\n",
            "-2772 [6, -11, 14, 3]\n",
            "2772 [6, -11, 14, 3, -1]\n",
            "-16632 [6, -11, 14, 3, -1, -6]\n",
            "-11 [-11]\n",
            "-154 [-11, 14]\n",
            "-462 [-11, 14, 3]\n",
            "462 [-11, 14, 3, -1]\n",
            "-2772 [-11, 14, 3, -1, -6]\n",
            "14 [14]\n",
            "42 [14, 3]\n",
            "-42 [14, 3, -1]\n",
            "252 [14, 3, -1, -6]\n",
            "3 [3]\n",
            "-3 [3, -1]\n",
            "18 [3, -1, -6]\n",
            "-1 [-1]\n",
            "6 [-1, -6]\n",
            "-6 [-6]\n"
          ]
        }
      ]
    },
    {
      "cell_type": "code",
      "source": [
        "d11=[1,2,3]\n",
        "print"
      ],
      "metadata": {
        "id": "BRrRx-ae2tt9"
      },
      "execution_count": null,
      "outputs": []
    },
    {
      "cell_type": "code",
      "source": [
        "from functools import reduce\n",
        "\n",
        "l1 = [-2, 4, 7, -1, 6, -11, 14, 3, -1, -6]\n",
        "\n",
        "def multiply(x, y):\n",
        "    return x * y\n",
        "\n",
        "def kmn(l1):\n",
        "    d1 = {}\n",
        "    for i in range(len(l1)):\n",
        "        d2 = []\n",
        "        for j in range(i, len(l1)):\n",
        "            d2.append(l1[j])\n",
        "            d3 = d2.copy()\n",
        "            prod = reduce(multiply, d3)\n",
        "            d1[prod] = d3\n",
        "    max_key_value = max(d1.keys())\n",
        "    return d1[max_key_value]\n",
        "\n",
        "max_product = kmn(l1)\n",
        "print(max_product)\n"
      ],
      "metadata": {
        "colab": {
          "base_uri": "https://localhost:8080/"
        },
        "id": "FHhiqahU_qVD",
        "outputId": "e03dd40c-b950-4b98-9334-bb67056a7c23"
      },
      "execution_count": null,
      "outputs": [
        {
          "output_type": "stream",
          "name": "stdout",
          "text": [
            "[4, 7, -1, 6, -11, 14, 3, -1, -6]\n"
          ]
        }
      ]
    },
    {
      "cell_type": "code",
      "source": [
        "del max"
      ],
      "metadata": {
        "colab": {
          "base_uri": "https://localhost:8080/",
          "height": 175
        },
        "id": "n_jjkgNqCyVp",
        "outputId": "e1cb475b-2b04-4fa4-9829-c348a48622bf"
      },
      "execution_count": null,
      "outputs": [
        {
          "output_type": "error",
          "ename": "NameError",
          "evalue": "ignored",
          "traceback": [
            "\u001b[0;31m---------------------------------------------------------------------------\u001b[0m",
            "\u001b[0;31mNameError\u001b[0m                                 Traceback (most recent call last)",
            "\u001b[0;32m<ipython-input-55-d118faf16562>\u001b[0m in \u001b[0;36m<cell line: 1>\u001b[0;34m()\u001b[0m\n\u001b[0;32m----> 1\u001b[0;31m \u001b[0;32mdel\u001b[0m \u001b[0mmax\u001b[0m\u001b[0;34m\u001b[0m\u001b[0;34m\u001b[0m\u001b[0m\n\u001b[0m",
            "\u001b[0;31mNameError\u001b[0m: name 'max' is not defined"
          ]
        }
      ]
    },
    {
      "cell_type": "code",
      "source": [
        "#union of 2 arrays\n",
        "a1=[1,2,3,4]\n",
        "b1=[3,4,5,6]\n",
        "a34=set(a1).union(b1)\n",
        "print(list(a34))"
      ],
      "metadata": {
        "colab": {
          "base_uri": "https://localhost:8080/"
        },
        "id": "zSJO2mJIy2Em",
        "outputId": "a7290e4e-898e-47f1-a154-bc1d4bf59b4e"
      },
      "execution_count": null,
      "outputs": [
        {
          "output_type": "stream",
          "name": "stdout",
          "text": [
            "[1, 2, 3, 4, 5, 6]\n"
          ]
        }
      ]
    },
    {
      "cell_type": "code",
      "source": [
        "a1=[3,4,5,12,13,8,15,17,19,20,21,23,34,56,71]\n",
        "for i in range(0,len(a1),3):\n",
        "  for j in range(i-3,i):\n",
        "    print(a1[j])\n",
        "\n",
        "\n",
        "\n"
      ],
      "metadata": {
        "colab": {
          "base_uri": "https://localhost:8080/"
        },
        "id": "-Fe8nDKP2Ybd",
        "outputId": "9559bf7d-c086-4ca0-fc3e-bddd664d7cbc"
      },
      "execution_count": null,
      "outputs": [
        {
          "output_type": "stream",
          "name": "stdout",
          "text": [
            "34\n",
            "56\n",
            "71\n",
            "3\n",
            "4\n",
            "5\n",
            "12\n",
            "13\n",
            "8\n",
            "15\n",
            "17\n",
            "19\n",
            "20\n",
            "21\n",
            "23\n"
          ]
        }
      ]
    },
    {
      "cell_type": "code",
      "source": [
        "arr = [3, 4, 5, 12, 13, 8, 15, 17, 19, 20, 21, 23, 34, 56, 71]\n",
        "\n",
        "def is_pythagorean_triplet(a, b, c):\n",
        "    return a ** 2 + b ** 2 == c ** 2\n",
        "\n",
        "def find_pythagorean_triplets(arr):\n",
        "    triplets = []\n",
        "\n",
        "    for i in range(len(arr)):\n",
        "        for j in range(i + 1, len(arr)):\n",
        "            for k in range(j + 1, len(arr)):\n",
        "                if is_pythagorean_triplet(arr[i], arr[j], arr[k]):\n",
        "                    triplets.append((arr[i], arr[j], arr[k]))\n",
        "\n",
        "    return triplets\n",
        "\n",
        "pythagorean_triplets = find_pythagorean_triplets(arr)\n",
        "print(\"Pythagorean Triplets:\", pythagorean_triplets)\n"
      ],
      "metadata": {
        "colab": {
          "base_uri": "https://localhost:8080/"
        },
        "id": "4z2dBlM8OVx_",
        "outputId": "091797b8-6b29-4662-c159-3fc0226eab00"
      },
      "execution_count": null,
      "outputs": [
        {
          "output_type": "stream",
          "name": "stdout",
          "text": [
            "Pythagorean Triplets: [(3, 4, 5), (5, 12, 13), (8, 15, 17)]\n"
          ]
        }
      ]
    },
    {
      "cell_type": "code",
      "source": [
        "arr = [3, 4, 5, 12, 13, 8, 15, 17, 19, 20, 21, 23, 34, 56, 71]\n",
        "\n",
        "def is_pythagorean_triplet(a, b, c):\n",
        "    return a ** 2 + b ** 2 == c ** 2\n",
        "\n",
        "def find_pythagorean_triplets(arr):\n",
        "    triplets = []\n",
        "\n",
        "    for i in range(len(arr)):\n",
        "        for j in range(i + 1, len(arr)):\n",
        "            for k in range(j + 1, len(arr)):\n",
        "                if is_pythagorean_triplet(arr[i], arr[j], arr[k]):\n",
        "                    triplets.append((arr[i], arr[j], arr[k]))\n",
        "\n",
        "    return triplets\n",
        "\n",
        "\n"
      ],
      "metadata": {
        "id": "fOpvp3Q5OXoM"
      },
      "execution_count": null,
      "outputs": []
    },
    {
      "cell_type": "code",
      "source": [
        "a11=[3, 4, 5, 12, 13, 8, 15, 17, 19, 20, 21, 23, 34, 56, 71]\n",
        "for i in range(len(a11)):\n",
        "  for j in range(i+1,len(a1)):\n",
        "    for k in range(j+1,len(a1)):\n",
        "      print(a11[i],a11[j],a11[k])"
      ],
      "metadata": {
        "colab": {
          "base_uri": "https://localhost:8080/"
        },
        "id": "Hf9E76kbWobr",
        "outputId": "0ee0a569-db25-4d78-a32c-f262e16eee27"
      },
      "execution_count": null,
      "outputs": [
        {
          "output_type": "stream",
          "name": "stdout",
          "text": [
            "3 4 5\n",
            "3 4 12\n",
            "3 4 13\n",
            "3 4 8\n",
            "3 4 15\n",
            "3 4 17\n",
            "3 4 19\n",
            "3 4 20\n",
            "3 4 21\n",
            "3 4 23\n",
            "3 4 34\n",
            "3 4 56\n",
            "3 4 71\n",
            "3 5 12\n",
            "3 5 13\n",
            "3 5 8\n",
            "3 5 15\n",
            "3 5 17\n",
            "3 5 19\n",
            "3 5 20\n",
            "3 5 21\n",
            "3 5 23\n",
            "3 5 34\n",
            "3 5 56\n",
            "3 5 71\n",
            "3 12 13\n",
            "3 12 8\n",
            "3 12 15\n",
            "3 12 17\n",
            "3 12 19\n",
            "3 12 20\n",
            "3 12 21\n",
            "3 12 23\n",
            "3 12 34\n",
            "3 12 56\n",
            "3 12 71\n",
            "3 13 8\n",
            "3 13 15\n",
            "3 13 17\n",
            "3 13 19\n",
            "3 13 20\n",
            "3 13 21\n",
            "3 13 23\n",
            "3 13 34\n",
            "3 13 56\n",
            "3 13 71\n",
            "3 8 15\n",
            "3 8 17\n",
            "3 8 19\n",
            "3 8 20\n",
            "3 8 21\n",
            "3 8 23\n",
            "3 8 34\n",
            "3 8 56\n",
            "3 8 71\n",
            "3 15 17\n",
            "3 15 19\n",
            "3 15 20\n",
            "3 15 21\n",
            "3 15 23\n",
            "3 15 34\n",
            "3 15 56\n",
            "3 15 71\n",
            "3 17 19\n",
            "3 17 20\n",
            "3 17 21\n",
            "3 17 23\n",
            "3 17 34\n",
            "3 17 56\n",
            "3 17 71\n",
            "3 19 20\n",
            "3 19 21\n",
            "3 19 23\n",
            "3 19 34\n",
            "3 19 56\n",
            "3 19 71\n",
            "3 20 21\n",
            "3 20 23\n",
            "3 20 34\n",
            "3 20 56\n",
            "3 20 71\n",
            "3 21 23\n",
            "3 21 34\n",
            "3 21 56\n",
            "3 21 71\n",
            "3 23 34\n",
            "3 23 56\n",
            "3 23 71\n",
            "3 34 56\n",
            "3 34 71\n",
            "3 56 71\n",
            "4 5 12\n",
            "4 5 13\n",
            "4 5 8\n",
            "4 5 15\n",
            "4 5 17\n",
            "4 5 19\n",
            "4 5 20\n",
            "4 5 21\n",
            "4 5 23\n",
            "4 5 34\n",
            "4 5 56\n",
            "4 5 71\n",
            "4 12 13\n",
            "4 12 8\n",
            "4 12 15\n",
            "4 12 17\n",
            "4 12 19\n",
            "4 12 20\n",
            "4 12 21\n",
            "4 12 23\n",
            "4 12 34\n",
            "4 12 56\n",
            "4 12 71\n",
            "4 13 8\n",
            "4 13 15\n",
            "4 13 17\n",
            "4 13 19\n",
            "4 13 20\n",
            "4 13 21\n",
            "4 13 23\n",
            "4 13 34\n",
            "4 13 56\n",
            "4 13 71\n",
            "4 8 15\n",
            "4 8 17\n",
            "4 8 19\n",
            "4 8 20\n",
            "4 8 21\n",
            "4 8 23\n",
            "4 8 34\n",
            "4 8 56\n",
            "4 8 71\n",
            "4 15 17\n",
            "4 15 19\n",
            "4 15 20\n",
            "4 15 21\n",
            "4 15 23\n",
            "4 15 34\n",
            "4 15 56\n",
            "4 15 71\n",
            "4 17 19\n",
            "4 17 20\n",
            "4 17 21\n",
            "4 17 23\n",
            "4 17 34\n",
            "4 17 56\n",
            "4 17 71\n",
            "4 19 20\n",
            "4 19 21\n",
            "4 19 23\n",
            "4 19 34\n",
            "4 19 56\n",
            "4 19 71\n",
            "4 20 21\n",
            "4 20 23\n",
            "4 20 34\n",
            "4 20 56\n",
            "4 20 71\n",
            "4 21 23\n",
            "4 21 34\n",
            "4 21 56\n",
            "4 21 71\n",
            "4 23 34\n",
            "4 23 56\n",
            "4 23 71\n",
            "4 34 56\n",
            "4 34 71\n",
            "4 56 71\n",
            "5 12 13\n",
            "5 12 8\n",
            "5 12 15\n",
            "5 12 17\n",
            "5 12 19\n",
            "5 12 20\n",
            "5 12 21\n",
            "5 12 23\n",
            "5 12 34\n",
            "5 12 56\n",
            "5 12 71\n",
            "5 13 8\n",
            "5 13 15\n",
            "5 13 17\n",
            "5 13 19\n",
            "5 13 20\n",
            "5 13 21\n",
            "5 13 23\n",
            "5 13 34\n",
            "5 13 56\n",
            "5 13 71\n",
            "5 8 15\n",
            "5 8 17\n",
            "5 8 19\n",
            "5 8 20\n",
            "5 8 21\n",
            "5 8 23\n",
            "5 8 34\n",
            "5 8 56\n",
            "5 8 71\n",
            "5 15 17\n",
            "5 15 19\n",
            "5 15 20\n",
            "5 15 21\n",
            "5 15 23\n",
            "5 15 34\n",
            "5 15 56\n",
            "5 15 71\n",
            "5 17 19\n",
            "5 17 20\n",
            "5 17 21\n",
            "5 17 23\n",
            "5 17 34\n",
            "5 17 56\n",
            "5 17 71\n",
            "5 19 20\n",
            "5 19 21\n",
            "5 19 23\n",
            "5 19 34\n",
            "5 19 56\n",
            "5 19 71\n",
            "5 20 21\n",
            "5 20 23\n",
            "5 20 34\n",
            "5 20 56\n",
            "5 20 71\n",
            "5 21 23\n",
            "5 21 34\n",
            "5 21 56\n",
            "5 21 71\n",
            "5 23 34\n",
            "5 23 56\n",
            "5 23 71\n",
            "5 34 56\n",
            "5 34 71\n",
            "5 56 71\n",
            "12 13 8\n",
            "12 13 15\n",
            "12 13 17\n",
            "12 13 19\n",
            "12 13 20\n",
            "12 13 21\n",
            "12 13 23\n",
            "12 13 34\n",
            "12 13 56\n",
            "12 13 71\n",
            "12 8 15\n",
            "12 8 17\n",
            "12 8 19\n",
            "12 8 20\n",
            "12 8 21\n",
            "12 8 23\n",
            "12 8 34\n",
            "12 8 56\n",
            "12 8 71\n",
            "12 15 17\n",
            "12 15 19\n",
            "12 15 20\n",
            "12 15 21\n",
            "12 15 23\n",
            "12 15 34\n",
            "12 15 56\n",
            "12 15 71\n",
            "12 17 19\n",
            "12 17 20\n",
            "12 17 21\n",
            "12 17 23\n",
            "12 17 34\n",
            "12 17 56\n",
            "12 17 71\n",
            "12 19 20\n",
            "12 19 21\n",
            "12 19 23\n",
            "12 19 34\n",
            "12 19 56\n",
            "12 19 71\n",
            "12 20 21\n",
            "12 20 23\n",
            "12 20 34\n",
            "12 20 56\n",
            "12 20 71\n",
            "12 21 23\n",
            "12 21 34\n",
            "12 21 56\n",
            "12 21 71\n",
            "12 23 34\n",
            "12 23 56\n",
            "12 23 71\n",
            "12 34 56\n",
            "12 34 71\n",
            "12 56 71\n",
            "13 8 15\n",
            "13 8 17\n",
            "13 8 19\n",
            "13 8 20\n",
            "13 8 21\n",
            "13 8 23\n",
            "13 8 34\n",
            "13 8 56\n",
            "13 8 71\n",
            "13 15 17\n",
            "13 15 19\n",
            "13 15 20\n",
            "13 15 21\n",
            "13 15 23\n",
            "13 15 34\n",
            "13 15 56\n",
            "13 15 71\n",
            "13 17 19\n",
            "13 17 20\n",
            "13 17 21\n",
            "13 17 23\n",
            "13 17 34\n",
            "13 17 56\n",
            "13 17 71\n",
            "13 19 20\n",
            "13 19 21\n",
            "13 19 23\n",
            "13 19 34\n",
            "13 19 56\n",
            "13 19 71\n",
            "13 20 21\n",
            "13 20 23\n",
            "13 20 34\n",
            "13 20 56\n",
            "13 20 71\n",
            "13 21 23\n",
            "13 21 34\n",
            "13 21 56\n",
            "13 21 71\n",
            "13 23 34\n",
            "13 23 56\n",
            "13 23 71\n",
            "13 34 56\n",
            "13 34 71\n",
            "13 56 71\n",
            "8 15 17\n",
            "8 15 19\n",
            "8 15 20\n",
            "8 15 21\n",
            "8 15 23\n",
            "8 15 34\n",
            "8 15 56\n",
            "8 15 71\n",
            "8 17 19\n",
            "8 17 20\n",
            "8 17 21\n",
            "8 17 23\n",
            "8 17 34\n",
            "8 17 56\n",
            "8 17 71\n",
            "8 19 20\n",
            "8 19 21\n",
            "8 19 23\n",
            "8 19 34\n",
            "8 19 56\n",
            "8 19 71\n",
            "8 20 21\n",
            "8 20 23\n",
            "8 20 34\n",
            "8 20 56\n",
            "8 20 71\n",
            "8 21 23\n",
            "8 21 34\n",
            "8 21 56\n",
            "8 21 71\n",
            "8 23 34\n",
            "8 23 56\n",
            "8 23 71\n",
            "8 34 56\n",
            "8 34 71\n",
            "8 56 71\n",
            "15 17 19\n",
            "15 17 20\n",
            "15 17 21\n",
            "15 17 23\n",
            "15 17 34\n",
            "15 17 56\n",
            "15 17 71\n",
            "15 19 20\n",
            "15 19 21\n",
            "15 19 23\n",
            "15 19 34\n",
            "15 19 56\n",
            "15 19 71\n",
            "15 20 21\n",
            "15 20 23\n",
            "15 20 34\n",
            "15 20 56\n",
            "15 20 71\n",
            "15 21 23\n",
            "15 21 34\n",
            "15 21 56\n",
            "15 21 71\n",
            "15 23 34\n",
            "15 23 56\n",
            "15 23 71\n",
            "15 34 56\n",
            "15 34 71\n",
            "15 56 71\n",
            "17 19 20\n",
            "17 19 21\n",
            "17 19 23\n",
            "17 19 34\n",
            "17 19 56\n",
            "17 19 71\n",
            "17 20 21\n",
            "17 20 23\n",
            "17 20 34\n",
            "17 20 56\n",
            "17 20 71\n",
            "17 21 23\n",
            "17 21 34\n",
            "17 21 56\n",
            "17 21 71\n",
            "17 23 34\n",
            "17 23 56\n",
            "17 23 71\n",
            "17 34 56\n",
            "17 34 71\n",
            "17 56 71\n",
            "19 20 21\n",
            "19 20 23\n",
            "19 20 34\n",
            "19 20 56\n",
            "19 20 71\n",
            "19 21 23\n",
            "19 21 34\n",
            "19 21 56\n",
            "19 21 71\n",
            "19 23 34\n",
            "19 23 56\n",
            "19 23 71\n",
            "19 34 56\n",
            "19 34 71\n",
            "19 56 71\n",
            "20 21 23\n",
            "20 21 34\n",
            "20 21 56\n",
            "20 21 71\n",
            "20 23 34\n",
            "20 23 56\n",
            "20 23 71\n",
            "20 34 56\n",
            "20 34 71\n",
            "20 56 71\n",
            "21 23 34\n",
            "21 23 56\n",
            "21 23 71\n",
            "21 34 56\n",
            "21 34 71\n",
            "21 56 71\n",
            "23 34 56\n",
            "23 34 71\n",
            "23 56 71\n",
            "34 56 71\n"
          ]
        }
      ]
    },
    {
      "cell_type": "code",
      "source": [
        "a11=[3, 4, 5, 12, 13, 8, 15, 17, 19, 20, 21, 23, 34, 56, 71]\n",
        "for i in range(len(a11)):\n",
        "  for j in range(i+1,len(a11)):\n",
        "    for k in range(j+1,len(a11)):\n",
        "      print(a11[i],a11[j],a11[k])\n",
        "#this will pick up different items every time and all of this items will be different from each other"
      ],
      "metadata": {
        "colab": {
          "base_uri": "https://localhost:8080/"
        },
        "id": "bwz1L-bY207J",
        "outputId": "7d7f44b6-99e9-4841-c2c8-edaa0fa6369a"
      },
      "execution_count": null,
      "outputs": [
        {
          "output_type": "stream",
          "name": "stdout",
          "text": [
            "3 4 5\n",
            "3 4 12\n",
            "3 4 13\n",
            "3 4 8\n",
            "3 4 15\n",
            "3 4 17\n",
            "3 4 19\n",
            "3 4 20\n",
            "3 4 21\n",
            "3 4 23\n",
            "3 4 34\n",
            "3 4 56\n",
            "3 4 71\n",
            "3 5 12\n",
            "3 5 13\n",
            "3 5 8\n",
            "3 5 15\n",
            "3 5 17\n",
            "3 5 19\n",
            "3 5 20\n",
            "3 5 21\n",
            "3 5 23\n",
            "3 5 34\n",
            "3 5 56\n",
            "3 5 71\n",
            "3 12 13\n",
            "3 12 8\n",
            "3 12 15\n",
            "3 12 17\n",
            "3 12 19\n",
            "3 12 20\n",
            "3 12 21\n",
            "3 12 23\n",
            "3 12 34\n",
            "3 12 56\n",
            "3 12 71\n",
            "3 13 8\n",
            "3 13 15\n",
            "3 13 17\n",
            "3 13 19\n",
            "3 13 20\n",
            "3 13 21\n",
            "3 13 23\n",
            "3 13 34\n",
            "3 13 56\n",
            "3 13 71\n",
            "3 8 15\n",
            "3 8 17\n",
            "3 8 19\n",
            "3 8 20\n",
            "3 8 21\n",
            "3 8 23\n",
            "3 8 34\n",
            "3 8 56\n",
            "3 8 71\n",
            "3 15 17\n",
            "3 15 19\n",
            "3 15 20\n",
            "3 15 21\n",
            "3 15 23\n",
            "3 15 34\n",
            "3 15 56\n",
            "3 15 71\n",
            "3 17 19\n",
            "3 17 20\n",
            "3 17 21\n",
            "3 17 23\n",
            "3 17 34\n",
            "3 17 56\n",
            "3 17 71\n",
            "3 19 20\n",
            "3 19 21\n",
            "3 19 23\n",
            "3 19 34\n",
            "3 19 56\n",
            "3 19 71\n",
            "3 20 21\n",
            "3 20 23\n",
            "3 20 34\n",
            "3 20 56\n",
            "3 20 71\n",
            "3 21 23\n",
            "3 21 34\n",
            "3 21 56\n",
            "3 21 71\n",
            "3 23 34\n",
            "3 23 56\n",
            "3 23 71\n",
            "3 34 56\n",
            "3 34 71\n",
            "3 56 71\n",
            "4 5 12\n",
            "4 5 13\n",
            "4 5 8\n",
            "4 5 15\n",
            "4 5 17\n",
            "4 5 19\n",
            "4 5 20\n",
            "4 5 21\n",
            "4 5 23\n",
            "4 5 34\n",
            "4 5 56\n",
            "4 5 71\n",
            "4 12 13\n",
            "4 12 8\n",
            "4 12 15\n",
            "4 12 17\n",
            "4 12 19\n",
            "4 12 20\n",
            "4 12 21\n",
            "4 12 23\n",
            "4 12 34\n",
            "4 12 56\n",
            "4 12 71\n",
            "4 13 8\n",
            "4 13 15\n",
            "4 13 17\n",
            "4 13 19\n",
            "4 13 20\n",
            "4 13 21\n",
            "4 13 23\n",
            "4 13 34\n",
            "4 13 56\n",
            "4 13 71\n",
            "4 8 15\n",
            "4 8 17\n",
            "4 8 19\n",
            "4 8 20\n",
            "4 8 21\n",
            "4 8 23\n",
            "4 8 34\n",
            "4 8 56\n",
            "4 8 71\n",
            "4 15 17\n",
            "4 15 19\n",
            "4 15 20\n",
            "4 15 21\n",
            "4 15 23\n",
            "4 15 34\n",
            "4 15 56\n",
            "4 15 71\n",
            "4 17 19\n",
            "4 17 20\n",
            "4 17 21\n",
            "4 17 23\n",
            "4 17 34\n",
            "4 17 56\n",
            "4 17 71\n",
            "4 19 20\n",
            "4 19 21\n",
            "4 19 23\n",
            "4 19 34\n",
            "4 19 56\n",
            "4 19 71\n",
            "4 20 21\n",
            "4 20 23\n",
            "4 20 34\n",
            "4 20 56\n",
            "4 20 71\n",
            "4 21 23\n",
            "4 21 34\n",
            "4 21 56\n",
            "4 21 71\n",
            "4 23 34\n",
            "4 23 56\n",
            "4 23 71\n",
            "4 34 56\n",
            "4 34 71\n",
            "4 56 71\n",
            "5 12 13\n",
            "5 12 8\n",
            "5 12 15\n",
            "5 12 17\n",
            "5 12 19\n",
            "5 12 20\n",
            "5 12 21\n",
            "5 12 23\n",
            "5 12 34\n",
            "5 12 56\n",
            "5 12 71\n",
            "5 13 8\n",
            "5 13 15\n",
            "5 13 17\n",
            "5 13 19\n",
            "5 13 20\n",
            "5 13 21\n",
            "5 13 23\n",
            "5 13 34\n",
            "5 13 56\n",
            "5 13 71\n",
            "5 8 15\n",
            "5 8 17\n",
            "5 8 19\n",
            "5 8 20\n",
            "5 8 21\n",
            "5 8 23\n",
            "5 8 34\n",
            "5 8 56\n",
            "5 8 71\n",
            "5 15 17\n",
            "5 15 19\n",
            "5 15 20\n",
            "5 15 21\n",
            "5 15 23\n",
            "5 15 34\n",
            "5 15 56\n",
            "5 15 71\n",
            "5 17 19\n",
            "5 17 20\n",
            "5 17 21\n",
            "5 17 23\n",
            "5 17 34\n",
            "5 17 56\n",
            "5 17 71\n",
            "5 19 20\n",
            "5 19 21\n",
            "5 19 23\n",
            "5 19 34\n",
            "5 19 56\n",
            "5 19 71\n",
            "5 20 21\n",
            "5 20 23\n",
            "5 20 34\n",
            "5 20 56\n",
            "5 20 71\n",
            "5 21 23\n",
            "5 21 34\n",
            "5 21 56\n",
            "5 21 71\n",
            "5 23 34\n",
            "5 23 56\n",
            "5 23 71\n",
            "5 34 56\n",
            "5 34 71\n",
            "5 56 71\n",
            "12 13 8\n",
            "12 13 15\n",
            "12 13 17\n",
            "12 13 19\n",
            "12 13 20\n",
            "12 13 21\n",
            "12 13 23\n",
            "12 13 34\n",
            "12 13 56\n",
            "12 13 71\n",
            "12 8 15\n",
            "12 8 17\n",
            "12 8 19\n",
            "12 8 20\n",
            "12 8 21\n",
            "12 8 23\n",
            "12 8 34\n",
            "12 8 56\n",
            "12 8 71\n",
            "12 15 17\n",
            "12 15 19\n",
            "12 15 20\n",
            "12 15 21\n",
            "12 15 23\n",
            "12 15 34\n",
            "12 15 56\n",
            "12 15 71\n",
            "12 17 19\n",
            "12 17 20\n",
            "12 17 21\n",
            "12 17 23\n",
            "12 17 34\n",
            "12 17 56\n",
            "12 17 71\n",
            "12 19 20\n",
            "12 19 21\n",
            "12 19 23\n",
            "12 19 34\n",
            "12 19 56\n",
            "12 19 71\n",
            "12 20 21\n",
            "12 20 23\n",
            "12 20 34\n",
            "12 20 56\n",
            "12 20 71\n",
            "12 21 23\n",
            "12 21 34\n",
            "12 21 56\n",
            "12 21 71\n",
            "12 23 34\n",
            "12 23 56\n",
            "12 23 71\n",
            "12 34 56\n",
            "12 34 71\n",
            "12 56 71\n",
            "13 8 15\n",
            "13 8 17\n",
            "13 8 19\n",
            "13 8 20\n",
            "13 8 21\n",
            "13 8 23\n",
            "13 8 34\n",
            "13 8 56\n",
            "13 8 71\n",
            "13 15 17\n",
            "13 15 19\n",
            "13 15 20\n",
            "13 15 21\n",
            "13 15 23\n",
            "13 15 34\n",
            "13 15 56\n",
            "13 15 71\n",
            "13 17 19\n",
            "13 17 20\n",
            "13 17 21\n",
            "13 17 23\n",
            "13 17 34\n",
            "13 17 56\n",
            "13 17 71\n",
            "13 19 20\n",
            "13 19 21\n",
            "13 19 23\n",
            "13 19 34\n",
            "13 19 56\n",
            "13 19 71\n",
            "13 20 21\n",
            "13 20 23\n",
            "13 20 34\n",
            "13 20 56\n",
            "13 20 71\n",
            "13 21 23\n",
            "13 21 34\n",
            "13 21 56\n",
            "13 21 71\n",
            "13 23 34\n",
            "13 23 56\n",
            "13 23 71\n",
            "13 34 56\n",
            "13 34 71\n",
            "13 56 71\n",
            "8 15 17\n",
            "8 15 19\n",
            "8 15 20\n",
            "8 15 21\n",
            "8 15 23\n",
            "8 15 34\n",
            "8 15 56\n",
            "8 15 71\n",
            "8 17 19\n",
            "8 17 20\n",
            "8 17 21\n",
            "8 17 23\n",
            "8 17 34\n",
            "8 17 56\n",
            "8 17 71\n",
            "8 19 20\n",
            "8 19 21\n",
            "8 19 23\n",
            "8 19 34\n",
            "8 19 56\n",
            "8 19 71\n",
            "8 20 21\n",
            "8 20 23\n",
            "8 20 34\n",
            "8 20 56\n",
            "8 20 71\n",
            "8 21 23\n",
            "8 21 34\n",
            "8 21 56\n",
            "8 21 71\n",
            "8 23 34\n",
            "8 23 56\n",
            "8 23 71\n",
            "8 34 56\n",
            "8 34 71\n",
            "8 56 71\n",
            "15 17 19\n",
            "15 17 20\n",
            "15 17 21\n",
            "15 17 23\n",
            "15 17 34\n",
            "15 17 56\n",
            "15 17 71\n",
            "15 19 20\n",
            "15 19 21\n",
            "15 19 23\n",
            "15 19 34\n",
            "15 19 56\n",
            "15 19 71\n",
            "15 20 21\n",
            "15 20 23\n",
            "15 20 34\n",
            "15 20 56\n",
            "15 20 71\n",
            "15 21 23\n",
            "15 21 34\n",
            "15 21 56\n",
            "15 21 71\n",
            "15 23 34\n",
            "15 23 56\n",
            "15 23 71\n",
            "15 34 56\n",
            "15 34 71\n",
            "15 56 71\n",
            "17 19 20\n",
            "17 19 21\n",
            "17 19 23\n",
            "17 19 34\n",
            "17 19 56\n",
            "17 19 71\n",
            "17 20 21\n",
            "17 20 23\n",
            "17 20 34\n",
            "17 20 56\n",
            "17 20 71\n",
            "17 21 23\n",
            "17 21 34\n",
            "17 21 56\n",
            "17 21 71\n",
            "17 23 34\n",
            "17 23 56\n",
            "17 23 71\n",
            "17 34 56\n",
            "17 34 71\n",
            "17 56 71\n",
            "19 20 21\n",
            "19 20 23\n",
            "19 20 34\n",
            "19 20 56\n",
            "19 20 71\n",
            "19 21 23\n",
            "19 21 34\n",
            "19 21 56\n",
            "19 21 71\n",
            "19 23 34\n",
            "19 23 56\n",
            "19 23 71\n",
            "19 34 56\n",
            "19 34 71\n",
            "19 56 71\n",
            "20 21 23\n",
            "20 21 34\n",
            "20 21 56\n",
            "20 21 71\n",
            "20 23 34\n",
            "20 23 56\n",
            "20 23 71\n",
            "20 34 56\n",
            "20 34 71\n",
            "20 56 71\n",
            "21 23 34\n",
            "21 23 56\n",
            "21 23 71\n",
            "21 34 56\n",
            "21 34 71\n",
            "21 56 71\n",
            "23 34 56\n",
            "23 34 71\n",
            "23 56 71\n",
            "34 56 71\n"
          ]
        }
      ]
    },
    {
      "cell_type": "code",
      "source": [
        "a11=[3, 4, 5, 12, 13, 8, 15, 17, 19, 20, 21, 23, 34, 56, 71]\n",
        "def is_python_triplet(a,b,c):\n",
        "  return a**2+b**2==c**2\n",
        "triplets=[]\n",
        "def phona(a11):\n",
        "\n",
        "  for i in range(len(a11)):\n",
        "    for j in range(i+1,len(a11)):\n",
        "      for k in range(j+1,len(a11)):\n",
        "        if is_python_triplet(a11[i],a11[j],a11[k]):\n",
        "          triplets.append((a11[i],a11[j],a11[k]))\n",
        "  return triplets\n",
        "phona(a11)\n",
        "\n"
      ],
      "metadata": {
        "colab": {
          "base_uri": "https://localhost:8080/"
        },
        "id": "3JYfF5J6883l",
        "outputId": "cce2e551-61b4-4c02-f25e-39c73dfa6781"
      },
      "execution_count": null,
      "outputs": [
        {
          "output_type": "execute_result",
          "data": {
            "text/plain": [
              "[(3, 4, 5), (5, 12, 13), (8, 15, 17)]"
            ]
          },
          "metadata": {},
          "execution_count": 3
        }
      ]
    },
    {
      "cell_type": "code",
      "source": [
        "a=4\n",
        "print(id(a))"
      ],
      "metadata": {
        "colab": {
          "base_uri": "https://localhost:8080/"
        },
        "id": "WMR9ZmAXCk8H",
        "outputId": "0645c961-b0f7-4ac9-9ad9-24bd797a8394"
      },
      "execution_count": null,
      "outputs": [
        {
          "output_type": "stream",
          "name": "stdout",
          "text": [
            "140185598067024\n"
          ]
        }
      ]
    },
    {
      "cell_type": "code",
      "source": [
        "print(id(4))\n",
        "#As you can see, a here points at the memory location where 4 is stored"
      ],
      "metadata": {
        "colab": {
          "base_uri": "https://localhost:8080/"
        },
        "id": "sn6RAmwHOEZN",
        "outputId": "9f67d193-d7f9-4f8e-dd7b-661634c78e44"
      },
      "execution_count": null,
      "outputs": [
        {
          "output_type": "stream",
          "name": "stdout",
          "text": [
            "140185598067024\n"
          ]
        }
      ]
    },
    {
      "cell_type": "code",
      "source": [
        "b=a\n",
        "print(id(b))\n",
        "#This is called allasing where more than one variable points to the same memory location when u equate the variable with the variable that points to the memory location where value\n",
        "#is stored in that case as u can see both a and b points towards same memory location"
      ],
      "metadata": {
        "colab": {
          "base_uri": "https://localhost:8080/"
        },
        "id": "ODnelYc0OXvh",
        "outputId": "7e3e7197-dd56-438c-f374-543fa8a102d5"
      },
      "execution_count": null,
      "outputs": [
        {
          "output_type": "stream",
          "name": "stdout",
          "text": [
            "140185598067024\n"
          ]
        }
      ]
    },
    {
      "cell_type": "code",
      "source": [
        "d=b\n",
        "print(id(d))\n",
        "#as you can see even d points towards same memory location as a and b\n",
        "#advantage of allasing is memory optimization, if you have to store 4 in another variable, you don't need to write b=4 again, you can do b=a , that saves a bit of memory and hence\n",
        "#contributes to memory optimization"
      ],
      "metadata": {
        "colab": {
          "base_uri": "https://localhost:8080/"
        },
        "id": "dlf1xk5iUt19",
        "outputId": "de513a15-a908-41c9-e6c5-26ab865ff1c6"
      },
      "execution_count": null,
      "outputs": [
        {
          "output_type": "stream",
          "name": "stdout",
          "text": [
            "140185598067024\n"
          ]
        }
      ]
    },
    {
      "cell_type": "code",
      "source": [
        "print(a)"
      ],
      "metadata": {
        "colab": {
          "base_uri": "https://localhost:8080/"
        },
        "id": "zc2EiYTJbH-0",
        "outputId": "ec0a0a61-f744-47d1-a510-12372f1f45ea"
      },
      "execution_count": null,
      "outputs": [
        {
          "output_type": "stream",
          "name": "stdout",
          "text": [
            "4\n"
          ]
        }
      ]
    },
    {
      "cell_type": "code",
      "source": [
        "del a"
      ],
      "metadata": {
        "id": "Cqrj-0PHc6Cm"
      },
      "execution_count": null,
      "outputs": []
    },
    {
      "cell_type": "code",
      "source": [
        "a"
      ],
      "metadata": {
        "colab": {
          "base_uri": "https://localhost:8080/",
          "height": 175
        },
        "id": "vtO23vEzdaCp",
        "outputId": "bb080ae8-4d17-4693-b081-8f052154f002"
      },
      "execution_count": null,
      "outputs": [
        {
          "output_type": "error",
          "ename": "NameError",
          "evalue": "ignored",
          "traceback": [
            "\u001b[0;31m---------------------------------------------------------------------------\u001b[0m",
            "\u001b[0;31mNameError\u001b[0m                                 Traceback (most recent call last)",
            "\u001b[0;32m<ipython-input-11-3f786850e387>\u001b[0m in \u001b[0;36m<cell line: 1>\u001b[0;34m()\u001b[0m\n\u001b[0;32m----> 1\u001b[0;31m \u001b[0ma\u001b[0m\u001b[0;34m\u001b[0m\u001b[0;34m\u001b[0m\u001b[0m\n\u001b[0m",
            "\u001b[0;31mNameError\u001b[0m: name 'a' is not defined"
          ]
        }
      ]
    },
    {
      "cell_type": "code",
      "source": [
        "b#as you can see even if a is deleted, we can still print b and c(4 gets printed) as when you delete a only reference pointing to the memory location where 4 is stored gets deleted\n",
        "#in case of b and c the reference to that memory location still exists, hence 4 gets printed when we execute b or c"
      ],
      "metadata": {
        "colab": {
          "base_uri": "https://localhost:8080/"
        },
        "id": "coLsLkztdclB",
        "outputId": "8cccad78-d8d8-4c67-b392-0499b7c85998"
      },
      "execution_count": null,
      "outputs": [
        {
          "output_type": "execute_result",
          "data": {
            "text/plain": [
              "4"
            ]
          },
          "metadata": {},
          "execution_count": 12
        }
      ]
    },
    {
      "cell_type": "code",
      "source": [
        "#If you have to make multiple variables with the same value , we use allasing shown above in which multiple variables point to that same memory location, this helps in memory optimization"
      ],
      "metadata": {
        "id": "L32v0haPfbGF"
      },
      "execution_count": null,
      "outputs": []
    },
    {
      "cell_type": "code",
      "source": [
        "#Garbage collection in Python refers to the automatic process of reclaiming memory occupied by objects that are no longer needed or referenced by the program. Python uses built-in\n",
        "#garbage collector to manage memory automatically\n",
        "# for instance if\n",
        "a=4\n",
        "b=a\n",
        "c=b\n",
        "#and if a,b and c is deleted using del a del b and del c then the value 4 would become a garbage value and would be deleted from the memory later on using built-in garbage collector"
      ],
      "metadata": {
        "id": "IiYaPYrsiHSf"
      },
      "execution_count": null,
      "outputs": []
    },
    {
      "cell_type": "code",
      "source": [
        "a='DSMP125dhoni'\n",
        "b=a\n",
        "c=b\n"
      ],
      "metadata": {
        "id": "idDHFAqE5_G_"
      },
      "execution_count": null,
      "outputs": []
    },
    {
      "cell_type": "code",
      "source": [
        "import sys\n",
        "sys.getrefcount('DSMP125dhoni')"
      ],
      "metadata": {
        "colab": {
          "base_uri": "https://localhost:8080/"
        },
        "id": "hs61Mh8X9buh",
        "outputId": "796e72d1-db52-4bbe-ab4d-9ce6b1601436"
      },
      "execution_count": null,
      "outputs": [
        {
          "output_type": "execute_result",
          "data": {
            "text/plain": [
              "8"
            ]
          },
          "metadata": {},
          "execution_count": 2
        }
      ]
    },
    {
      "cell_type": "code",
      "source": [
        "del c"
      ],
      "metadata": {
        "id": "K5-i2qee944P"
      },
      "execution_count": null,
      "outputs": []
    },
    {
      "cell_type": "code",
      "source": [
        "#strings are immutable, tuples are immutable, sets are mutable(contains only immutable items),dictionary is mutable but its keys are immutable\n",
        "#immutables-->strings,integers,float,tuple,boolean,complex\n",
        "#mutables-->list,set,dictionary"
      ],
      "metadata": {
        "id": "guskZ-2meyow"
      },
      "execution_count": null,
      "outputs": []
    },
    {
      "cell_type": "code",
      "source": [
        "my_set = {1, 2, 3, 4}\n",
        "my_set.discard(5)\n",
        "print(my_set)\n",
        "#discard won't give error no matter what"
      ],
      "metadata": {
        "colab": {
          "base_uri": "https://localhost:8080/"
        },
        "id": "6jN8h34xhTas",
        "outputId": "1274612c-b434-4d36-8461-450de08d5286"
      },
      "execution_count": null,
      "outputs": [
        {
          "output_type": "stream",
          "name": "stdout",
          "text": [
            "{1, 2, 3, 4}\n"
          ]
        }
      ]
    },
    {
      "cell_type": "code",
      "source": [
        "a=[1,2,3,4]\n",
        "print(id(a))\n",
        "a.append(5)\n",
        "print(a)\n",
        "print(id(a))"
      ],
      "metadata": {
        "id": "bgZv23nEiL2m",
        "colab": {
          "base_uri": "https://localhost:8080/"
        },
        "outputId": "a5e7d626-98cb-40bc-dfb5-900b2623c445"
      },
      "execution_count": null,
      "outputs": [
        {
          "output_type": "stream",
          "name": "stdout",
          "text": [
            "132595190760896\n",
            "[1, 2, 3, 4, 5]\n",
            "132595190760896\n"
          ]
        }
      ]
    },
    {
      "cell_type": "code",
      "source": [
        "a=(1,2,3)\n",
        "print(id(a))\n",
        "a=a+(4,)\n",
        "print(a)\n",
        "print(id(a))\n",
        "#The ability to change items while remaining in the same memory location is called mutability , as we can see from above even when we add items to list the memory location doesnot\n",
        "#change hence list is mutable while tuple is immutable as u can see the moment you add one more item to the tuple, a starts pointing to a new memory location. Mutability is the ability\n",
        "#of getting changed while remaining in the same memory location"
      ],
      "metadata": {
        "colab": {
          "base_uri": "https://localhost:8080/"
        },
        "id": "OCFIxkIKM52B",
        "outputId": "df3fd7c8-4cb7-4e70-b7e2-57b168f1ed0e"
      },
      "execution_count": null,
      "outputs": [
        {
          "output_type": "stream",
          "name": "stdout",
          "text": [
            "132595190832448\n",
            "(1, 2, 3, 4)\n",
            "132594907516736\n"
          ]
        }
      ]
    },
    {
      "cell_type": "code",
      "source": [
        "a=1\n",
        "print(id(a))\n",
        "a=2\n",
        "print(id(a))\n",
        "#as you can see integer is also immutable as changing it changes the memory location at which a is pointing"
      ],
      "metadata": {
        "colab": {
          "base_uri": "https://localhost:8080/"
        },
        "id": "tQIxX6P_SNRq",
        "outputId": "7c5ec6c2-4313-4b32-b6e4-067af8fcf2e5"
      },
      "execution_count": null,
      "outputs": [
        {
          "output_type": "stream",
          "name": "stdout",
          "text": [
            "132595619397872\n",
            "132595619397904\n"
          ]
        }
      ]
    },
    {
      "cell_type": "code",
      "source": [
        "a=\"mahi\"\n",
        "print(id(a))\n",
        "a=\"kabhi\"\n",
        "print(id(a))\n",
        "#as you can see string is also immutable as changing it changes the memory location at which a is pointing"
      ],
      "metadata": {
        "colab": {
          "base_uri": "https://localhost:8080/"
        },
        "id": "Mly1o6UCSht7",
        "outputId": "7ca4e373-deaa-433d-fa1f-84e23eab7219"
      },
      "execution_count": null,
      "outputs": [
        {
          "output_type": "stream",
          "name": "stdout",
          "text": [
            "132594911998064\n",
            "132595205589680\n"
          ]
        }
      ]
    },
    {
      "cell_type": "code",
      "source": [
        "def addx(data):\n",
        "  data.append(4)\n",
        "a=[1,2,3]\n",
        "addx(a)\n",
        "print(a)\n",
        "#As you can see here you are able to change a global variable locally as when you pass a you are actually passing a reference to the memory location of the list [1,2,3] and when\n",
        "#any change happens at that memory location, that change is reflected back to a(even though it is global variable) this is disadvantage of mutability where changes to a variable locally\n",
        "#is reflected back at the global level as well"
      ],
      "metadata": {
        "colab": {
          "base_uri": "https://localhost:8080/"
        },
        "id": "PCFxiZoIS2Or",
        "outputId": "43055dff-cfef-464d-a753-93590aa32836"
      },
      "execution_count": null,
      "outputs": [
        {
          "output_type": "stream",
          "name": "stdout",
          "text": [
            "[1, 2, 3, 4]\n"
          ]
        }
      ]
    },
    {
      "cell_type": "code",
      "source": [
        "#The above disadvantage of mutability(changing global variables locally) can be solved by using tuples,here the moment you add something to atuple a new tuple gets created pointing\n",
        "#at a new memory location data points at a different memory location as that of a hence the content at the memory location at which a is pointing remains intact\n",
        "def addx1(data):\n",
        "  data=data+(5,)\n",
        "a=(1,2,3)\n",
        "addx1(a)\n",
        "print(a)"
      ],
      "metadata": {
        "colab": {
          "base_uri": "https://localhost:8080/"
        },
        "id": "EQTQpgGFWDSJ",
        "outputId": "c12ba126-fb39-40e3-9ce3-3d4e425dc63e"
      },
      "execution_count": null,
      "outputs": [
        {
          "output_type": "stream",
          "name": "stdout",
          "text": [
            "(1, 2, 3)\n"
          ]
        }
      ]
    },
    {
      "cell_type": "code",
      "source": [
        "#To remove the above problems we can also use cloning\n",
        "def addx1(data):\n",
        "  data.append(4)\n",
        "a=[1,2,3]\n",
        "addx1(a[:])\n",
        "print(a)\n",
        "#as you can see in this case when u send a[:] to data it points at a new memory location altogether and any change to data is not reflected back to a"
      ],
      "metadata": {
        "colab": {
          "base_uri": "https://localhost:8080/"
        },
        "id": "ST6J8uNbmxQ9",
        "outputId": "d7d18048-74d7-4b8e-9825-b8d4a643221c"
      },
      "execution_count": null,
      "outputs": [
        {
          "output_type": "stream",
          "name": "stdout",
          "text": [
            "[1, 2, 3]\n"
          ]
        }
      ]
    },
    {
      "cell_type": "code",
      "source": [
        "a=[1,2,3]\n",
        "b=a[:]\n",
        "a.append(4)\n",
        "print(b)\n",
        "print(id(a))\n",
        "print(id(b))\n",
        "#deep copying"
      ],
      "metadata": {
        "colab": {
          "base_uri": "https://localhost:8080/"
        },
        "id": "zth7208V04wU",
        "outputId": "b66f193b-0c6a-4370-84b4-02f2032b4389"
      },
      "execution_count": null,
      "outputs": [
        {
          "output_type": "stream",
          "name": "stdout",
          "text": [
            "[1, 2, 3]\n",
            "132594281807040\n",
            "132594281796160\n"
          ]
        }
      ]
    },
    {
      "cell_type": "code",
      "source": [
        "a=[1,2,3]\n",
        "b=a.copy()\n",
        "a.append(4)\n",
        "print(b)\n",
        "print(id(a))\n",
        "print(id(b))\n",
        "#deep copying"
      ],
      "metadata": {
        "colab": {
          "base_uri": "https://localhost:8080/"
        },
        "id": "K2PA2OcT3NbU",
        "outputId": "c231913f-0242-4331-de43-407637fb2546"
      },
      "execution_count": null,
      "outputs": [
        {
          "output_type": "stream",
          "name": "stdout",
          "text": [
            "[1, 2, 3]\n",
            "132594281807360\n",
            "132594281797696\n"
          ]
        }
      ]
    },
    {
      "cell_type": "code",
      "source": [
        "import copy\n",
        "\n",
        "original_list = [1, [2, 3]]\n",
        "cloned_list = copy.copy(original_list)\n",
        "\n",
        "# Modify a nested list in the original, affecting the clone\n",
        "original_list[1][0] = 99\n",
        "print(cloned_list)  # Output: [1, [99, 3]]\n",
        "#shallow copying\n"
      ],
      "metadata": {
        "colab": {
          "base_uri": "https://localhost:8080/"
        },
        "id": "vuGOqwbb3qaO",
        "outputId": "a0195db4-65c3-4d03-95ed-48e23c10b015"
      },
      "execution_count": null,
      "outputs": [
        {
          "output_type": "stream",
          "name": "stdout",
          "text": [
            "[1, [99, 3]]\n"
          ]
        }
      ]
    },
    {
      "cell_type": "code",
      "source": [
        "#copy() works on dictionary as well"
      ],
      "metadata": {
        "id": "GBFYEZVe32QE"
      },
      "execution_count": null,
      "outputs": []
    },
    {
      "cell_type": "code",
      "source": [
        "a=[1,2,3,4]\n",
        "b=a.copy()"
      ],
      "metadata": {
        "id": "kyWVq_enB7Jx"
      },
      "execution_count": null,
      "outputs": []
    },
    {
      "cell_type": "code",
      "source": [
        "print(id(a))\n",
        "print(id(b))"
      ],
      "metadata": {
        "colab": {
          "base_uri": "https://localhost:8080/"
        },
        "id": "CkQZUGYeCBLm",
        "outputId": "f1ade029-2e41-4526-a3c0-35a5846857de"
      },
      "execution_count": null,
      "outputs": [
        {
          "output_type": "stream",
          "name": "stdout",
          "text": [
            "138141324803008\n",
            "138141324805312\n"
          ]
        }
      ]
    },
    {
      "cell_type": "code",
      "source": [
        "print(id(a[0]))\n",
        "print(id(b[0]))"
      ],
      "metadata": {
        "colab": {
          "base_uri": "https://localhost:8080/"
        },
        "id": "ZjO1FqWzCF86",
        "outputId": "7f425331-6257-43fb-d6b0-0a97ba5f600d"
      },
      "execution_count": null,
      "outputs": [
        {
          "output_type": "stream",
          "name": "stdout",
          "text": [
            "138142595514608\n",
            "138142595514608\n"
          ]
        }
      ]
    },
    {
      "cell_type": "code",
      "source": [
        "b[0]=99\n",
        "print(b)\n",
        "print(a)"
      ],
      "metadata": {
        "colab": {
          "base_uri": "https://localhost:8080/"
        },
        "id": "prLrMPxsCPBX",
        "outputId": "c550bf86-ffd4-4445-c963-c0229c15d41a"
      },
      "execution_count": null,
      "outputs": [
        {
          "output_type": "stream",
          "name": "stdout",
          "text": [
            "[99, 2, 3, 4]\n",
            "[1, 2, 3, 4]\n"
          ]
        }
      ]
    },
    {
      "cell_type": "code",
      "source": [
        "a=[1,2,3,[4,5]]\n",
        "b=a.copy()\n",
        "a[0]=99\n",
        "print(a)\n",
        "print(b)"
      ],
      "metadata": {
        "colab": {
          "base_uri": "https://localhost:8080/"
        },
        "id": "iJc09z0yQKPU",
        "outputId": "e1925ca9-62ec-4da5-aa10-7f14cb0ab573"
      },
      "execution_count": 1,
      "outputs": [
        {
          "output_type": "stream",
          "name": "stdout",
          "text": [
            "[99, 2, 3, [4, 5]]\n",
            "[1, 2, 3, [4, 5]]\n"
          ]
        }
      ]
    },
    {
      "cell_type": "code",
      "source": [
        "a=[1,2,3,[4,5]]\n",
        "b=a.copy()\n",
        "a[-1][0]=99\n",
        "print(a)\n",
        "print(b)\n",
        "#As we can see changes made to 1D list elements is not getting updated in list b but change to items of 2D list is getting updated to list b as well"
      ],
      "metadata": {
        "colab": {
          "base_uri": "https://localhost:8080/"
        },
        "id": "Rpw0TgF0QhqV",
        "outputId": "1aa968ef-dacd-4ef4-f031-72b51622b89f"
      },
      "execution_count": 2,
      "outputs": [
        {
          "output_type": "stream",
          "name": "stdout",
          "text": [
            "[1, 2, 3, [99, 5]]\n",
            "[1, 2, 3, [99, 5]]\n"
          ]
        }
      ]
    },
    {
      "cell_type": "code",
      "source": [
        "a=[1,2,3,[4,5]]\n",
        "b=a.copy()\n",
        "print(id(a[0]))\n",
        "print(id(b[0]))"
      ],
      "metadata": {
        "colab": {
          "base_uri": "https://localhost:8080/"
        },
        "id": "P-FfOmVpW6vW",
        "outputId": "33975ca1-e50c-417b-b220-d79a146f61a7"
      },
      "execution_count": 3,
      "outputs": [
        {
          "output_type": "stream",
          "name": "stdout",
          "text": [
            "131954234048752\n",
            "131954234048752\n"
          ]
        }
      ]
    },
    {
      "cell_type": "code",
      "source": [
        "print(id(a[-1]))\n",
        "print(id(b[-1]))"
      ],
      "metadata": {
        "colab": {
          "base_uri": "https://localhost:8080/"
        },
        "id": "lsZRwck4YZBt",
        "outputId": "a28ee3ec-2bc9-492f-d48d-7efc87272bf2"
      },
      "execution_count": 4,
      "outputs": [
        {
          "output_type": "stream",
          "name": "stdout",
          "text": [
            "131952963459456\n",
            "131952963459456\n"
          ]
        }
      ]
    },
    {
      "cell_type": "code",
      "source": [
        "a[0]=912\n",
        "print(id(a[0]))\n",
        "print(id(b[0]))"
      ],
      "metadata": {
        "colab": {
          "base_uri": "https://localhost:8080/"
        },
        "id": "FB-nf1bqYkNt",
        "outputId": "0e64c7f7-5b73-4454-efa7-e2cd28a21b35"
      },
      "execution_count": 5,
      "outputs": [
        {
          "output_type": "stream",
          "name": "stdout",
          "text": [
            "131952964919440\n",
            "131954234048752\n"
          ]
        }
      ]
    },
    {
      "cell_type": "code",
      "source": [
        "a[-1]=[99,100,101]\n",
        "print(id(a[-1]))\n",
        "print(id(b[-1]))\n",
        "print(a)\n",
        "print(b)"
      ],
      "metadata": {
        "colab": {
          "base_uri": "https://localhost:8080/"
        },
        "id": "ZMEwK6wGaX7l",
        "outputId": "8936c446-dff1-42ec-8adc-76b1c7be583f"
      },
      "execution_count": 6,
      "outputs": [
        {
          "output_type": "stream",
          "name": "stdout",
          "text": [
            "131952963581248\n",
            "131952963459456\n",
            "[912, 2, 3, [99, 100, 101]]\n",
            "[1, 2, 3, [4, 5]]\n"
          ]
        }
      ]
    },
    {
      "cell_type": "code",
      "source": [
        "a[-1][0]=346\n",
        "print(a)\n",
        "print(b)"
      ],
      "metadata": {
        "colab": {
          "base_uri": "https://localhost:8080/"
        },
        "id": "krz7HX1Ha2BE",
        "outputId": "f799d8e7-0e12-4d07-814c-90907f47e274"
      },
      "execution_count": 7,
      "outputs": [
        {
          "output_type": "stream",
          "name": "stdout",
          "text": [
            "[912, 2, 3, [346, 100, 101]]\n",
            "[1, 2, 3, [4, 5]]\n"
          ]
        }
      ]
    },
    {
      "cell_type": "code",
      "source": [
        "a=[1,2,3,[4,5]]\n",
        "b=a.copy()\n",
        "b[0]=90\n",
        "print(a)\n",
        "print(b)"
      ],
      "metadata": {
        "colab": {
          "base_uri": "https://localhost:8080/"
        },
        "id": "tnuUpWWOcRxV",
        "outputId": "07d8ae13-7986-4a96-d5fc-216abe756886"
      },
      "execution_count": 8,
      "outputs": [
        {
          "output_type": "stream",
          "name": "stdout",
          "text": [
            "[1, 2, 3, [4, 5]]\n",
            "[90, 2, 3, [4, 5]]\n"
          ]
        }
      ]
    },
    {
      "cell_type": "code",
      "source": [
        "a=[1,2,3,[4,5]]\n",
        "b=a.copy()\n",
        "b[-1][0]=88\n",
        "print(b)\n",
        "print(a)\n",
        "#as you can see in case of shallow copy using copy() any change within 2D list is reflected back to the original list hence as the items of the list have the same address hence to\n",
        "#solve this issue we use deepcopy"
      ],
      "metadata": {
        "colab": {
          "base_uri": "https://localhost:8080/"
        },
        "id": "pl7d7bPLee1K",
        "outputId": "9a1c99e2-b454-460f-f7ac-9038fbb4e7a9"
      },
      "execution_count": 9,
      "outputs": [
        {
          "output_type": "stream",
          "name": "stdout",
          "text": [
            "[1, 2, 3, [88, 5]]\n",
            "[1, 2, 3, [88, 5]]\n"
          ]
        }
      ]
    },
    {
      "cell_type": "code",
      "source": [
        "import copy\n",
        "a=[1,2,3,[4,5]]\n",
        "b=copy.deepcopy(a)\n",
        "print(b)\n",
        "b[-1][0]=99\n",
        "print(a)\n",
        "print(b)\n",
        "#as you can see here the changes in b is not reflected to a hence it is a case of deep copy where even changes in 2D list of b is not reflected back to a\n"
      ],
      "metadata": {
        "colab": {
          "base_uri": "https://localhost:8080/"
        },
        "id": "WFZRyOVZgR40",
        "outputId": "66d4f228-ebe5-4522-b4d6-5fdd4f90997c"
      },
      "execution_count": 13,
      "outputs": [
        {
          "output_type": "stream",
          "name": "stdout",
          "text": [
            "[1, 2, 3, [4, 5]]\n",
            "[1, 2, 3, [4, 5]]\n",
            "[1, 2, 3, [99, 5]]\n"
          ]
        }
      ]
    },
    {
      "cell_type": "code",
      "source": [],
      "metadata": {
        "id": "6liWZq8LrxCv"
      },
      "execution_count": null,
      "outputs": []
    },
    {
      "cell_type": "code",
      "source": [
        "print(id(a[0]))\n",
        "print(id(b[0]))\n",
        "#"
      ],
      "metadata": {
        "colab": {
          "base_uri": "https://localhost:8080/"
        },
        "id": "hH8IUW7lqtqm",
        "outputId": "85c3a59b-59e5-4b27-ca0a-d4af3d4df82f"
      },
      "execution_count": 12,
      "outputs": [
        {
          "output_type": "stream",
          "name": "stdout",
          "text": [
            "131954234048752\n",
            "131954234048752\n"
          ]
        }
      ]
    },
    {
      "cell_type": "code",
      "source": [
        "print(id(a[-1]))\n",
        "print(id(b[-1]))"
      ],
      "metadata": {
        "colab": {
          "base_uri": "https://localhost:8080/"
        },
        "id": "o6vb9ZXjryJR",
        "outputId": "176930ee-dd54-48e9-9c33-51a94fba023a"
      },
      "execution_count": 14,
      "outputs": [
        {
          "output_type": "stream",
          "name": "stdout",
          "text": [
            "131952963432576\n",
            "131952963435904\n"
          ]
        }
      ]
    },
    {
      "cell_type": "code",
      "source": [
        "print(id(a[-2]))\n",
        "print(id(b[-2]))\n",
        "#as you can see the address of 2D list after deep copying is not the same in a and b\n",
        "#shallow copy creates only the copy of 1D list, it doesnot create any copy of the 2D list if they happen to exist within a list, deepcopy on the other hand creates the copy of 2D,3D\n",
        "#nd.....list if they happen to exist within a list"
      ],
      "metadata": {
        "colab": {
          "base_uri": "https://localhost:8080/"
        },
        "id": "HSE8t1mTr4_N",
        "outputId": "c91414ec-1ab6-45c7-edcf-d315b2065cd4"
      },
      "execution_count": 15,
      "outputs": [
        {
          "output_type": "stream",
          "name": "stdout",
          "text": [
            "131954234048816\n",
            "131954234048816\n"
          ]
        }
      ]
    },
    {
      "cell_type": "code",
      "source": [
        "#[:] this is an example of shallow copy....deep copy can be used on all datatypes"
      ],
      "metadata": {
        "id": "ttN7AzO1vItp"
      },
      "execution_count": null,
      "outputs": []
    },
    {
      "cell_type": "code",
      "source": [
        "#lists are referential arrays....a=[1,2,3] would lead to only memory addresses of the memory locations where 1 2 and 3 are stored to be stored consecutively one after the other in a\n",
        "#memory location, consecutive memory location and although it consumes more memory it is useful as it helps the programmer to accomodate any kind of datatype if the user suddenly decides\n",
        "#to add data belonging to a different datatype(string,float....)....Lists too score data in continuous memory locations but these datas are actually addresses"
      ],
      "metadata": {
        "id": "RM-N9rdd0Czu"
      },
      "execution_count": null,
      "outputs": []
    },
    {
      "cell_type": "code",
      "source": [
        "#Storing 2D array in memory\n",
        "#Explained in notebook"
      ],
      "metadata": {
        "id": "9DDtN8kD3AZJ"
      },
      "execution_count": null,
      "outputs": []
    },
    {
      "cell_type": "code",
      "source": [
        "#In python lists are both referential and dynamic , dynamic meaning there length can be increased, u can add more items and even edit items without changing the memory address\n",
        "#python strings are referential but not dynamic as they are anyway immutable\n",
        "s=\"hello\"\n",
        "print(id(s))"
      ],
      "metadata": {
        "colab": {
          "base_uri": "https://localhost:8080/"
        },
        "id": "tWOb2GD6uSz2",
        "outputId": "31f44f4b-9f0b-41bf-af7e-7af0c8913ee8"
      },
      "execution_count": 1,
      "outputs": [
        {
          "output_type": "stream",
          "name": "stdout",
          "text": [
            "140623056491632\n"
          ]
        }
      ]
    },
    {
      "cell_type": "code",
      "source": [
        "print(id(s[0]))"
      ],
      "metadata": {
        "colab": {
          "base_uri": "https://localhost:8080/"
        },
        "id": "N3Qh33GUus3j",
        "outputId": "a34ebc7f-71d1-423e-a295-8377709adbd7"
      },
      "execution_count": 2,
      "outputs": [
        {
          "output_type": "stream",
          "name": "stdout",
          "text": [
            "140623480230320\n"
          ]
        }
      ]
    },
    {
      "cell_type": "code",
      "source": [
        "print(id('h'))"
      ],
      "metadata": {
        "colab": {
          "base_uri": "https://localhost:8080/"
        },
        "id": "iT9KiVIuu1zX",
        "outputId": "975da29b-0595-447d-97e6-b05938b9f0e4"
      },
      "execution_count": 3,
      "outputs": [
        {
          "output_type": "stream",
          "name": "stdout",
          "text": [
            "140623480230320\n"
          ]
        }
      ]
    },
    {
      "cell_type": "code",
      "source": [
        "#Tuple is a static array, the size always remains fixed while list is dynamic array whose size can be varied at any time the moment the limit is crossed the list size is doubled\n",
        "#so a list of 100 items might have space equivalent to 200 items.... Hence tuple occupies less memory compared to that of list"
      ],
      "metadata": {
        "id": "LeSbz_9yySQD"
      },
      "execution_count": null,
      "outputs": []
    }
  ]
}